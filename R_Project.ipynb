{
 "cells": [
  {
   "cell_type": "markdown",
   "metadata": {},
   "source": [
    "### Dataset Link : https://www.kaggle.com/wenruliu/adult-income-dataset"
   ]
  },
  {
   "cell_type": "markdown",
   "metadata": {},
   "source": [
    "#### B22\n",
    "#### 93-Mohit Punjabi\n",
    "#### 94-Rohit Punjabi\n",
    "#### 95- Suraj Wadhwa"
   ]
  },
  {
   "cell_type": "markdown",
   "metadata": {},
   "source": [
    "### Importing Libraries"
   ]
  },
  {
   "cell_type": "code",
   "execution_count": 1,
   "metadata": {},
   "outputs": [
    {
     "name": "stderr",
     "output_type": "stream",
     "text": [
      "Registered S3 methods overwritten by 'ggplot2':\n",
      "  method         from \n",
      "  [.quosures     rlang\n",
      "  c.quosures     rlang\n",
      "  print.quosures rlang\n",
      "Warning message:\n",
      "\"package 'Amelia' was built under R version 3.6.3\"Loading required package: Rcpp\n",
      "## \n",
      "## Amelia II: Multiple Imputation\n",
      "## (Version 1.7.6, built: 2019-11-24)\n",
      "## Copyright (C) 2005-2021 James Honaker, Gary King and Matthew Blackwell\n",
      "## Refer to http://gking.harvard.edu/amelia/ for more information\n",
      "## \n",
      "Warning message:\n",
      "\"package 'dplyr' was built under R version 3.6.3\"\n",
      "Attaching package: 'dplyr'\n",
      "\n",
      "The following objects are masked from 'package:stats':\n",
      "\n",
      "    filter, lag\n",
      "\n",
      "The following objects are masked from 'package:base':\n",
      "\n",
      "    intersect, setdiff, setequal, union\n",
      "\n",
      "Warning message:\n",
      "\"package 'caTools' was built under R version 3.6.3\"Warning message:\n",
      "\"package 'caret' was built under R version 3.6.3\"Loading required package: lattice\n"
     ]
    }
   ],
   "source": [
    "library(ggplot2)#visualization\n",
    "library(Amelia)#missing map\n",
    "library(dplyr)#EDA\n",
    "library(caTools)#Logisitc\n",
    "library(caret)#confusion matrix"
   ]
  },
  {
   "cell_type": "markdown",
   "metadata": {},
   "source": [
    "### Importing Dataset"
   ]
  },
  {
   "cell_type": "code",
   "execution_count": 2,
   "metadata": {
    "scrolled": true
   },
   "outputs": [],
   "source": [
    "# importing dataset in adult variable\n",
    "adult<-read.csv('adult.csv')"
   ]
  },
  {
   "cell_type": "markdown",
   "metadata": {},
   "source": [
    "### EDA"
   ]
  },
  {
   "cell_type": "code",
   "execution_count": 3,
   "metadata": {
    "scrolled": true
   },
   "outputs": [
    {
     "data": {
      "text/html": [
       "<table>\n",
       "<thead><tr><th scope=col>age</th><th scope=col>workclass</th><th scope=col>fnlwgt</th><th scope=col>education</th><th scope=col>educational.num</th><th scope=col>marital.status</th><th scope=col>occupation</th><th scope=col>relationship</th><th scope=col>race</th><th scope=col>gender</th><th scope=col>capital.gain</th><th scope=col>capital.loss</th><th scope=col>hours.per.week</th><th scope=col>native.country</th><th scope=col>income</th></tr></thead>\n",
       "<tbody>\n",
       "\t<tr><td>25                                                        </td><td><span style=white-space:pre-wrap>Private  </span>         </td><td>226802                                                    </td><td><span style=white-space:pre-wrap>11th        </span>      </td><td> 7                                                        </td><td><span style=white-space:pre-wrap>Never-married     </span></td><td>Machine-op-inspct                                         </td><td><span style=white-space:pre-wrap>Own-child    </span>     </td><td>Black                                                     </td><td><span style=white-space:pre-wrap>Male  </span>            </td><td><span style=white-space:pre-wrap>   0</span>              </td><td>0                                                         </td><td>40                                                        </td><td>United-States                                             </td><td>&lt;=50K                                                  </td></tr>\n",
       "\t<tr><td>38                                                       </td><td><span style=white-space:pre-wrap>Private  </span>        </td><td> 89814                                                   </td><td><span style=white-space:pre-wrap>HS-grad     </span>     </td><td> 9                                                       </td><td>Married-civ-spouse                                       </td><td><span style=white-space:pre-wrap>Farming-fishing  </span></td><td><span style=white-space:pre-wrap>Husband      </span>    </td><td>White                                                    </td><td><span style=white-space:pre-wrap>Male  </span>           </td><td><span style=white-space:pre-wrap>   0</span>             </td><td>0                                                        </td><td>50                                                       </td><td>United-States                                            </td><td>&lt;=50K                                                 </td></tr>\n",
       "\t<tr><td>28                                                       </td><td>Local-gov                                                </td><td>336951                                                   </td><td><span style=white-space:pre-wrap>Assoc-acdm  </span>     </td><td>12                                                       </td><td>Married-civ-spouse                                       </td><td><span style=white-space:pre-wrap>Protective-serv  </span></td><td><span style=white-space:pre-wrap>Husband      </span>    </td><td>White                                                    </td><td><span style=white-space:pre-wrap>Male  </span>           </td><td><span style=white-space:pre-wrap>   0</span>             </td><td>0                                                        </td><td>40                                                       </td><td>United-States                                            </td><td>&gt;50K                                                  </td></tr>\n",
       "\t<tr><td>44                                                   </td><td><span style=white-space:pre-wrap>Private  </span>    </td><td>160323                                               </td><td>Some-college                                         </td><td>10                                                   </td><td>Married-civ-spouse                                   </td><td>Machine-op-inspct                                    </td><td><span style=white-space:pre-wrap>Husband      </span></td><td>Black                                                </td><td><span style=white-space:pre-wrap>Male  </span>       </td><td>7688                                                 </td><td>0                                                    </td><td>40                                                   </td><td>United-States                                        </td><td>&gt;50K                                              </td></tr>\n",
       "\t<tr><td>18                                                        </td><td><span style=white-space:pre-wrap>?        </span>         </td><td>103497                                                    </td><td>Some-college                                              </td><td>10                                                        </td><td><span style=white-space:pre-wrap>Never-married     </span></td><td><span style=white-space:pre-wrap>?                </span> </td><td><span style=white-space:pre-wrap>Own-child    </span>     </td><td>White                                                     </td><td>Female                                                    </td><td><span style=white-space:pre-wrap>   0</span>              </td><td>0                                                         </td><td>30                                                        </td><td>United-States                                             </td><td>&lt;=50K                                                  </td></tr>\n",
       "\t<tr><td>34                                                        </td><td><span style=white-space:pre-wrap>Private  </span>         </td><td>198693                                                    </td><td><span style=white-space:pre-wrap>10th        </span>      </td><td> 6                                                        </td><td><span style=white-space:pre-wrap>Never-married     </span></td><td><span style=white-space:pre-wrap>Other-service    </span> </td><td>Not-in-family                                             </td><td>White                                                     </td><td><span style=white-space:pre-wrap>Male  </span>            </td><td><span style=white-space:pre-wrap>   0</span>              </td><td>0                                                         </td><td>30                                                        </td><td>United-States                                             </td><td>&lt;=50K                                                  </td></tr>\n",
       "</tbody>\n",
       "</table>\n"
      ],
      "text/latex": [
       "\\begin{tabular}{r|lllllllllllllll}\n",
       " age & workclass & fnlwgt & education & educational.num & marital.status & occupation & relationship & race & gender & capital.gain & capital.loss & hours.per.week & native.country & income\\\\\n",
       "\\hline\n",
       "\t 25                 & Private            & 226802             & 11th               &  7                 & Never-married      & Machine-op-inspct  & Own-child          & Black              & Male               &    0               & 0                  & 40                 & United-States      & <=50K             \\\\\n",
       "\t 38                 & Private            &  89814             & HS-grad            &  9                 & Married-civ-spouse & Farming-fishing    & Husband            & White              & Male               &    0               & 0                  & 50                 & United-States      & <=50K             \\\\\n",
       "\t 28                 & Local-gov          & 336951             & Assoc-acdm         & 12                 & Married-civ-spouse & Protective-serv    & Husband            & White              & Male               &    0               & 0                  & 40                 & United-States      & >50K              \\\\\n",
       "\t 44                 & Private            & 160323             & Some-college       & 10                 & Married-civ-spouse & Machine-op-inspct  & Husband            & Black              & Male               & 7688               & 0                  & 40                 & United-States      & >50K              \\\\\n",
       "\t 18                 & ?                  & 103497             & Some-college       & 10                 & Never-married      & ?                  & Own-child          & White              & Female             &    0               & 0                  & 30                 & United-States      & <=50K             \\\\\n",
       "\t 34                 & Private            & 198693             & 10th               &  6                 & Never-married      & Other-service      & Not-in-family      & White              & Male               &    0               & 0                  & 30                 & United-States      & <=50K             \\\\\n",
       "\\end{tabular}\n"
      ],
      "text/markdown": [
       "\n",
       "| age | workclass | fnlwgt | education | educational.num | marital.status | occupation | relationship | race | gender | capital.gain | capital.loss | hours.per.week | native.country | income |\n",
       "|---|---|---|---|---|---|---|---|---|---|---|---|---|---|---|\n",
       "| 25                 | Private            | 226802             | 11th               |  7                 | Never-married      | Machine-op-inspct  | Own-child          | Black              | Male               |    0               | 0                  | 40                 | United-States      | <=50K              |\n",
       "| 38                 | Private            |  89814             | HS-grad            |  9                 | Married-civ-spouse | Farming-fishing    | Husband            | White              | Male               |    0               | 0                  | 50                 | United-States      | <=50K              |\n",
       "| 28                 | Local-gov          | 336951             | Assoc-acdm         | 12                 | Married-civ-spouse | Protective-serv    | Husband            | White              | Male               |    0               | 0                  | 40                 | United-States      | >50K               |\n",
       "| 44                 | Private            | 160323             | Some-college       | 10                 | Married-civ-spouse | Machine-op-inspct  | Husband            | Black              | Male               | 7688               | 0                  | 40                 | United-States      | >50K               |\n",
       "| 18                 | ?                  | 103497             | Some-college       | 10                 | Never-married      | ?                  | Own-child          | White              | Female             |    0               | 0                  | 30                 | United-States      | <=50K              |\n",
       "| 34                 | Private            | 198693             | 10th               |  6                 | Never-married      | Other-service      | Not-in-family      | White              | Male               |    0               | 0                  | 30                 | United-States      | <=50K              |\n",
       "\n"
      ],
      "text/plain": [
       "  age workclass fnlwgt education    educational.num marital.status    \n",
       "1 25  Private   226802 11th          7              Never-married     \n",
       "2 38  Private    89814 HS-grad       9              Married-civ-spouse\n",
       "3 28  Local-gov 336951 Assoc-acdm   12              Married-civ-spouse\n",
       "4 44  Private   160323 Some-college 10              Married-civ-spouse\n",
       "5 18  ?         103497 Some-college 10              Never-married     \n",
       "6 34  Private   198693 10th          6              Never-married     \n",
       "  occupation        relationship  race  gender capital.gain capital.loss\n",
       "1 Machine-op-inspct Own-child     Black Male      0         0           \n",
       "2 Farming-fishing   Husband       White Male      0         0           \n",
       "3 Protective-serv   Husband       White Male      0         0           \n",
       "4 Machine-op-inspct Husband       Black Male   7688         0           \n",
       "5 ?                 Own-child     White Female    0         0           \n",
       "6 Other-service     Not-in-family White Male      0         0           \n",
       "  hours.per.week native.country income\n",
       "1 40             United-States  <=50K \n",
       "2 50             United-States  <=50K \n",
       "3 40             United-States  >50K  \n",
       "4 40             United-States  >50K  \n",
       "5 30             United-States  <=50K \n",
       "6 30             United-States  <=50K "
      ]
     },
     "metadata": {},
     "output_type": "display_data"
    }
   ],
   "source": [
    "# shows first six records in the table\n",
    "head(adult)"
   ]
  },
  {
   "cell_type": "code",
   "execution_count": 4,
   "metadata": {
    "scrolled": true
   },
   "outputs": [
    {
     "data": {
      "text/html": [
       "<table>\n",
       "<thead><tr><th></th><th scope=col>age</th><th scope=col>workclass</th><th scope=col>fnlwgt</th><th scope=col>education</th><th scope=col>educational.num</th><th scope=col>marital.status</th><th scope=col>occupation</th><th scope=col>relationship</th><th scope=col>race</th><th scope=col>gender</th><th scope=col>capital.gain</th><th scope=col>capital.loss</th><th scope=col>hours.per.week</th><th scope=col>native.country</th><th scope=col>income</th></tr></thead>\n",
       "<tbody>\n",
       "\t<tr><th scope=row>48837</th><td>22                                                        </td><td><span style=white-space:pre-wrap>Private     </span>      </td><td>310152                                                    </td><td>Some-college                                              </td><td>10                                                        </td><td><span style=white-space:pre-wrap>Never-married     </span></td><td><span style=white-space:pre-wrap>Protective-serv  </span> </td><td>Not-in-family                                             </td><td>White                                                     </td><td><span style=white-space:pre-wrap>Male  </span>            </td><td><span style=white-space:pre-wrap>    0</span>             </td><td>0                                                         </td><td>40                                                        </td><td>United-States                                             </td><td>&lt;=50K                                                  </td></tr>\n",
       "\t<tr><th scope=row>48838</th><td>27                                                       </td><td><span style=white-space:pre-wrap>Private     </span>     </td><td>257302                                                   </td><td><span style=white-space:pre-wrap>Assoc-acdm  </span>     </td><td>12                                                       </td><td>Married-civ-spouse                                       </td><td><span style=white-space:pre-wrap>Tech-support     </span></td><td><span style=white-space:pre-wrap>Wife         </span>    </td><td>White                                                    </td><td>Female                                                   </td><td><span style=white-space:pre-wrap>    0</span>            </td><td>0                                                        </td><td>38                                                       </td><td>United-States                                            </td><td>&lt;=50K                                                 </td></tr>\n",
       "\t<tr><th scope=row>48839</th><td>40                                                   </td><td><span style=white-space:pre-wrap>Private     </span> </td><td>154374                                               </td><td><span style=white-space:pre-wrap>HS-grad     </span> </td><td> 9                                                   </td><td>Married-civ-spouse                                   </td><td>Machine-op-inspct                                    </td><td><span style=white-space:pre-wrap>Husband      </span></td><td>White                                                </td><td><span style=white-space:pre-wrap>Male  </span>       </td><td><span style=white-space:pre-wrap>    0</span>        </td><td>0                                                    </td><td>40                                                   </td><td>United-States                                        </td><td>&gt;50K                                              </td></tr>\n",
       "\t<tr><th scope=row>48840</th><td>58                                                        </td><td><span style=white-space:pre-wrap>Private     </span>      </td><td>151910                                                    </td><td><span style=white-space:pre-wrap>HS-grad     </span>      </td><td> 9                                                        </td><td><span style=white-space:pre-wrap>Widowed           </span></td><td><span style=white-space:pre-wrap>Adm-clerical     </span> </td><td><span style=white-space:pre-wrap>Unmarried    </span>     </td><td>White                                                     </td><td>Female                                                    </td><td><span style=white-space:pre-wrap>    0</span>             </td><td>0                                                         </td><td>40                                                        </td><td>United-States                                             </td><td>&lt;=50K                                                  </td></tr>\n",
       "\t<tr><th scope=row>48841</th><td>22                                                        </td><td><span style=white-space:pre-wrap>Private     </span>      </td><td>201490                                                    </td><td><span style=white-space:pre-wrap>HS-grad     </span>      </td><td> 9                                                        </td><td><span style=white-space:pre-wrap>Never-married     </span></td><td><span style=white-space:pre-wrap>Adm-clerical     </span> </td><td><span style=white-space:pre-wrap>Own-child    </span>     </td><td>White                                                     </td><td><span style=white-space:pre-wrap>Male  </span>            </td><td><span style=white-space:pre-wrap>    0</span>             </td><td>0                                                         </td><td>20                                                        </td><td>United-States                                             </td><td>&lt;=50K                                                  </td></tr>\n",
       "\t<tr><th scope=row>48842</th><td>52                                                       </td><td>Self-emp-inc                                             </td><td>287927                                                   </td><td><span style=white-space:pre-wrap>HS-grad     </span>     </td><td> 9                                                       </td><td>Married-civ-spouse                                       </td><td><span style=white-space:pre-wrap>Exec-managerial  </span></td><td><span style=white-space:pre-wrap>Wife         </span>    </td><td>White                                                    </td><td>Female                                                   </td><td>15024                                                    </td><td>0                                                        </td><td>40                                                       </td><td>United-States                                            </td><td>&gt;50K                                                  </td></tr>\n",
       "</tbody>\n",
       "</table>\n"
      ],
      "text/latex": [
       "\\begin{tabular}{r|lllllllllllllll}\n",
       "  & age & workclass & fnlwgt & education & educational.num & marital.status & occupation & relationship & race & gender & capital.gain & capital.loss & hours.per.week & native.country & income\\\\\n",
       "\\hline\n",
       "\t48837 & 22                 & Private            & 310152             & Some-college       & 10                 & Never-married      & Protective-serv    & Not-in-family      & White              & Male               &     0              & 0                  & 40                 & United-States      & <=50K             \\\\\n",
       "\t48838 & 27                 & Private            & 257302             & Assoc-acdm         & 12                 & Married-civ-spouse & Tech-support       & Wife               & White              & Female             &     0              & 0                  & 38                 & United-States      & <=50K             \\\\\n",
       "\t48839 & 40                 & Private            & 154374             & HS-grad            &  9                 & Married-civ-spouse & Machine-op-inspct  & Husband            & White              & Male               &     0              & 0                  & 40                 & United-States      & >50K              \\\\\n",
       "\t48840 & 58                 & Private            & 151910             & HS-grad            &  9                 & Widowed            & Adm-clerical       & Unmarried          & White              & Female             &     0              & 0                  & 40                 & United-States      & <=50K             \\\\\n",
       "\t48841 & 22                 & Private            & 201490             & HS-grad            &  9                 & Never-married      & Adm-clerical       & Own-child          & White              & Male               &     0              & 0                  & 20                 & United-States      & <=50K             \\\\\n",
       "\t48842 & 52                 & Self-emp-inc       & 287927             & HS-grad            &  9                 & Married-civ-spouse & Exec-managerial    & Wife               & White              & Female             & 15024              & 0                  & 40                 & United-States      & >50K              \\\\\n",
       "\\end{tabular}\n"
      ],
      "text/markdown": [
       "\n",
       "| <!--/--> | age | workclass | fnlwgt | education | educational.num | marital.status | occupation | relationship | race | gender | capital.gain | capital.loss | hours.per.week | native.country | income |\n",
       "|---|---|---|---|---|---|---|---|---|---|---|---|---|---|---|---|\n",
       "| 48837 | 22                 | Private            | 310152             | Some-college       | 10                 | Never-married      | Protective-serv    | Not-in-family      | White              | Male               |     0              | 0                  | 40                 | United-States      | <=50K              |\n",
       "| 48838 | 27                 | Private            | 257302             | Assoc-acdm         | 12                 | Married-civ-spouse | Tech-support       | Wife               | White              | Female             |     0              | 0                  | 38                 | United-States      | <=50K              |\n",
       "| 48839 | 40                 | Private            | 154374             | HS-grad            |  9                 | Married-civ-spouse | Machine-op-inspct  | Husband            | White              | Male               |     0              | 0                  | 40                 | United-States      | >50K               |\n",
       "| 48840 | 58                 | Private            | 151910             | HS-grad            |  9                 | Widowed            | Adm-clerical       | Unmarried          | White              | Female             |     0              | 0                  | 40                 | United-States      | <=50K              |\n",
       "| 48841 | 22                 | Private            | 201490             | HS-grad            |  9                 | Never-married      | Adm-clerical       | Own-child          | White              | Male               |     0              | 0                  | 20                 | United-States      | <=50K              |\n",
       "| 48842 | 52                 | Self-emp-inc       | 287927             | HS-grad            |  9                 | Married-civ-spouse | Exec-managerial    | Wife               | White              | Female             | 15024              | 0                  | 40                 | United-States      | >50K               |\n",
       "\n"
      ],
      "text/plain": [
       "      age workclass    fnlwgt education    educational.num marital.status    \n",
       "48837 22  Private      310152 Some-college 10              Never-married     \n",
       "48838 27  Private      257302 Assoc-acdm   12              Married-civ-spouse\n",
       "48839 40  Private      154374 HS-grad       9              Married-civ-spouse\n",
       "48840 58  Private      151910 HS-grad       9              Widowed           \n",
       "48841 22  Private      201490 HS-grad       9              Never-married     \n",
       "48842 52  Self-emp-inc 287927 HS-grad       9              Married-civ-spouse\n",
       "      occupation        relationship  race  gender capital.gain capital.loss\n",
       "48837 Protective-serv   Not-in-family White Male       0        0           \n",
       "48838 Tech-support      Wife          White Female     0        0           \n",
       "48839 Machine-op-inspct Husband       White Male       0        0           \n",
       "48840 Adm-clerical      Unmarried     White Female     0        0           \n",
       "48841 Adm-clerical      Own-child     White Male       0        0           \n",
       "48842 Exec-managerial   Wife          White Female 15024        0           \n",
       "      hours.per.week native.country income\n",
       "48837 40             United-States  <=50K \n",
       "48838 38             United-States  <=50K \n",
       "48839 40             United-States  >50K  \n",
       "48840 40             United-States  <=50K \n",
       "48841 20             United-States  <=50K \n",
       "48842 40             United-States  >50K  "
      ]
     },
     "metadata": {},
     "output_type": "display_data"
    }
   ],
   "source": [
    "# shows last six records  in the table\n",
    "tail(adult)"
   ]
  },
  {
   "cell_type": "code",
   "execution_count": 5,
   "metadata": {
    "scrolled": true
   },
   "outputs": [
    {
     "data": {
      "text/html": [
       "<table>\n",
       "<thead><tr><th></th><th scope=col>age</th><th scope=col>workclass</th><th scope=col>fnlwgt</th><th scope=col>education</th><th scope=col>educational.num</th><th scope=col>marital.status</th><th scope=col>occupation</th><th scope=col>relationship</th><th scope=col>race</th><th scope=col>gender</th><th scope=col>capital.gain</th><th scope=col>capital.loss</th><th scope=col>hours.per.week</th><th scope=col>native.country</th><th scope=col>income</th></tr></thead>\n",
       "<tbody>\n",
       "\t<tr><th scope=row>39</th><td>17                                            </td><td>Private                                       </td><td>269430                                        </td><td>10th                                          </td><td>6                                             </td><td>Never-married                                 </td><td>Machine-op-inspct                             </td><td>Not-in-family                                 </td><td>White                                         </td><td><span style=white-space:pre-wrap>Male  </span></td><td>0                                             </td><td>0                                             </td><td>40                                            </td><td>United-States                                 </td><td>&lt;=50K                                      </td></tr>\n",
       "\t<tr><th scope=row>76</th><td>17                                                       </td><td><span style=white-space:pre-wrap>?      </span>          </td><td>165361                                                   </td><td>10th                                                     </td><td>6                                                        </td><td>Never-married                                            </td><td><span style=white-space:pre-wrap>?                </span></td><td><span style=white-space:pre-wrap>Own-child    </span>    </td><td>White                                                    </td><td><span style=white-space:pre-wrap>Male  </span>           </td><td>0                                                        </td><td>0                                                        </td><td>40                                                       </td><td>United-States                                            </td><td>&lt;=50K                                                 </td></tr>\n",
       "\t<tr><th scope=row>403</th><td>17                                                       </td><td>Private                                                  </td><td> 40299                                                   </td><td>11th                                                     </td><td>7                                                        </td><td>Never-married                                            </td><td><span style=white-space:pre-wrap>Sales            </span></td><td><span style=white-space:pre-wrap>Own-child    </span>    </td><td>White                                                    </td><td>Female                                                   </td><td>0                                                        </td><td>0                                                        </td><td>25                                                       </td><td>United-States                                            </td><td>&lt;=50K                                                 </td></tr>\n",
       "\t<tr><th scope=row>676</th><td>17                                                       </td><td>Private                                                  </td><td>190941                                                   </td><td>10th                                                     </td><td>6                                                        </td><td>Never-married                                            </td><td><span style=white-space:pre-wrap>Sales            </span></td><td><span style=white-space:pre-wrap>Own-child    </span>    </td><td>White                                                    </td><td>Female                                                   </td><td>0                                                        </td><td>0                                                        </td><td>20                                                       </td><td>United-States                                            </td><td>&lt;=50K                                                 </td></tr>\n",
       "\t<tr><th scope=row>766</th><td>17                                                       </td><td><span style=white-space:pre-wrap>?      </span>          </td><td>143331                                                   </td><td>11th                                                     </td><td>7                                                        </td><td>Never-married                                            </td><td><span style=white-space:pre-wrap>?                </span></td><td><span style=white-space:pre-wrap>Own-child    </span>    </td><td>White                                                    </td><td><span style=white-space:pre-wrap>Male  </span>           </td><td>0                                                        </td><td>0                                                        </td><td>40                                                       </td><td>United-States                                            </td><td>&lt;=50K                                                 </td></tr>\n",
       "\t<tr><th scope=row>904</th><td>17                                                       </td><td>Private                                                  </td><td> 61838                                                   </td><td>11th                                                     </td><td>7                                                        </td><td>Never-married                                            </td><td><span style=white-space:pre-wrap>Farming-fishing  </span></td><td><span style=white-space:pre-wrap>Own-child    </span>    </td><td>White                                                    </td><td><span style=white-space:pre-wrap>Male  </span>           </td><td>0                                                        </td><td>0                                                        </td><td>40                                                       </td><td>United-States                                            </td><td>&lt;=50K                                                 </td></tr>\n",
       "</tbody>\n",
       "</table>\n"
      ],
      "text/latex": [
       "\\begin{tabular}{r|lllllllllllllll}\n",
       "  & age & workclass & fnlwgt & education & educational.num & marital.status & occupation & relationship & race & gender & capital.gain & capital.loss & hours.per.week & native.country & income\\\\\n",
       "\\hline\n",
       "\t39 & 17                & Private           & 269430            & 10th              & 6                 & Never-married     & Machine-op-inspct & Not-in-family     & White             & Male              & 0                 & 0                 & 40                & United-States     & <=50K            \\\\\n",
       "\t76 & 17                & ?                 & 165361            & 10th              & 6                 & Never-married     & ?                 & Own-child         & White             & Male              & 0                 & 0                 & 40                & United-States     & <=50K            \\\\\n",
       "\t403 & 17                & Private           &  40299            & 11th              & 7                 & Never-married     & Sales             & Own-child         & White             & Female            & 0                 & 0                 & 25                & United-States     & <=50K            \\\\\n",
       "\t676 & 17                & Private           & 190941            & 10th              & 6                 & Never-married     & Sales             & Own-child         & White             & Female            & 0                 & 0                 & 20                & United-States     & <=50K            \\\\\n",
       "\t766 & 17                & ?                 & 143331            & 11th              & 7                 & Never-married     & ?                 & Own-child         & White             & Male              & 0                 & 0                 & 40                & United-States     & <=50K            \\\\\n",
       "\t904 & 17                & Private           &  61838            & 11th              & 7                 & Never-married     & Farming-fishing   & Own-child         & White             & Male              & 0                 & 0                 & 40                & United-States     & <=50K            \\\\\n",
       "\\end{tabular}\n"
      ],
      "text/markdown": [
       "\n",
       "| <!--/--> | age | workclass | fnlwgt | education | educational.num | marital.status | occupation | relationship | race | gender | capital.gain | capital.loss | hours.per.week | native.country | income |\n",
       "|---|---|---|---|---|---|---|---|---|---|---|---|---|---|---|---|\n",
       "| 39 | 17                | Private           | 269430            | 10th              | 6                 | Never-married     | Machine-op-inspct | Not-in-family     | White             | Male              | 0                 | 0                 | 40                | United-States     | <=50K             |\n",
       "| 76 | 17                | ?                 | 165361            | 10th              | 6                 | Never-married     | ?                 | Own-child         | White             | Male              | 0                 | 0                 | 40                | United-States     | <=50K             |\n",
       "| 403 | 17                | Private           |  40299            | 11th              | 7                 | Never-married     | Sales             | Own-child         | White             | Female            | 0                 | 0                 | 25                | United-States     | <=50K             |\n",
       "| 676 | 17                | Private           | 190941            | 10th              | 6                 | Never-married     | Sales             | Own-child         | White             | Female            | 0                 | 0                 | 20                | United-States     | <=50K             |\n",
       "| 766 | 17                | ?                 | 143331            | 11th              | 7                 | Never-married     | ?                 | Own-child         | White             | Male              | 0                 | 0                 | 40                | United-States     | <=50K             |\n",
       "| 904 | 17                | Private           |  61838            | 11th              | 7                 | Never-married     | Farming-fishing   | Own-child         | White             | Male              | 0                 | 0                 | 40                | United-States     | <=50K             |\n",
       "\n"
      ],
      "text/plain": [
       "    age workclass fnlwgt education educational.num marital.status\n",
       "39  17  Private   269430 10th      6               Never-married \n",
       "76  17  ?         165361 10th      6               Never-married \n",
       "403 17  Private    40299 11th      7               Never-married \n",
       "676 17  Private   190941 10th      6               Never-married \n",
       "766 17  ?         143331 11th      7               Never-married \n",
       "904 17  Private    61838 11th      7               Never-married \n",
       "    occupation        relationship  race  gender capital.gain capital.loss\n",
       "39  Machine-op-inspct Not-in-family White Male   0            0           \n",
       "76  ?                 Own-child     White Male   0            0           \n",
       "403 Sales             Own-child     White Female 0            0           \n",
       "676 Sales             Own-child     White Female 0            0           \n",
       "766 ?                 Own-child     White Male   0            0           \n",
       "904 Farming-fishing   Own-child     White Male   0            0           \n",
       "    hours.per.week native.country income\n",
       "39  40             United-States  <=50K \n",
       "76  40             United-States  <=50K \n",
       "403 25             United-States  <=50K \n",
       "676 20             United-States  <=50K \n",
       "766 40             United-States  <=50K \n",
       "904 40             United-States  <=50K "
      ]
     },
     "metadata": {},
     "output_type": "display_data"
    }
   ],
   "source": [
    "# shows the first six record arrange in order of age\n",
    "head(adult[order(adult$age),])"
   ]
  },
  {
   "cell_type": "code",
   "execution_count": 6,
   "metadata": {
    "scrolled": true
   },
   "outputs": [
    {
     "data": {
      "text/html": [
       "<table>\n",
       "<thead><tr><th></th><th scope=col>age</th><th scope=col>workclass</th><th scope=col>fnlwgt</th><th scope=col>education</th><th scope=col>educational.num</th><th scope=col>marital.status</th><th scope=col>occupation</th><th scope=col>relationship</th><th scope=col>race</th><th scope=col>gender</th><th scope=col>capital.gain</th><th scope=col>capital.loss</th><th scope=col>hours.per.week</th><th scope=col>native.country</th><th scope=col>income</th></tr></thead>\n",
       "<tbody>\n",
       "\t<tr><th scope=row>41585</th><td>90                                                        </td><td><span style=white-space:pre-wrap>?          </span>       </td><td>175444                                                    </td><td>7th-8th                                                   </td><td>4                                                         </td><td><span style=white-space:pre-wrap>Separated         </span></td><td><span style=white-space:pre-wrap>?                </span> </td><td>Not-in-family                                             </td><td>White                                                     </td><td>Female                                                    </td><td><span style=white-space:pre-wrap>   0</span>              </td><td>0                                                         </td><td>15                                                        </td><td>United-States                                             </td><td>&lt;=50K                                                  </td></tr>\n",
       "\t<tr><th scope=row>44745</th><td>90                                                       </td><td>Federal-gov                                              </td><td>195433                                                   </td><td>HS-grad                                                  </td><td>9                                                        </td><td>Married-civ-spouse                                       </td><td><span style=white-space:pre-wrap>Craft-repair     </span></td><td><span style=white-space:pre-wrap>Husband      </span>    </td><td>White                                                    </td><td><span style=white-space:pre-wrap>Male  </span>           </td><td><span style=white-space:pre-wrap>   0</span>             </td><td>0                                                        </td><td>30                                                       </td><td>United-States                                            </td><td>&lt;=50K                                                 </td></tr>\n",
       "\t<tr><th scope=row>47312</th><td>90                                                   </td><td><span style=white-space:pre-wrap>Private    </span>  </td><td> 47929                                               </td><td>HS-grad                                              </td><td>9                                                    </td><td>Married-civ-spouse                                   </td><td>Machine-op-inspct                                    </td><td><span style=white-space:pre-wrap>Husband      </span></td><td>White                                                </td><td><span style=white-space:pre-wrap>Male  </span>       </td><td><span style=white-space:pre-wrap>   0</span>         </td><td>0                                                    </td><td>40                                                   </td><td>United-States                                        </td><td>&lt;=50K                                             </td></tr>\n",
       "\t<tr><th scope=row>47978</th><td>90                                                       </td><td><span style=white-space:pre-wrap>?          </span>      </td><td>313986                                                   </td><td>HS-grad                                                  </td><td>9                                                        </td><td>Married-civ-spouse                                       </td><td><span style=white-space:pre-wrap>?                </span></td><td><span style=white-space:pre-wrap>Husband      </span>    </td><td>White                                                    </td><td><span style=white-space:pre-wrap>Male  </span>           </td><td><span style=white-space:pre-wrap>   0</span>             </td><td>0                                                        </td><td>40                                                       </td><td>United-States                                            </td><td>&gt;50K                                                  </td></tr>\n",
       "\t<tr><th scope=row>48559</th><td>90                                                        </td><td><span style=white-space:pre-wrap>Private    </span>       </td><td>313749                                                    </td><td>HS-grad                                                   </td><td>9                                                         </td><td><span style=white-space:pre-wrap>Widowed           </span></td><td><span style=white-space:pre-wrap>Adm-clerical     </span> </td><td><span style=white-space:pre-wrap>Unmarried    </span>     </td><td>White                                                     </td><td>Female                                                    </td><td><span style=white-space:pre-wrap>   0</span>              </td><td>0                                                         </td><td>25                                                        </td><td>United-States                                             </td><td>&lt;=50K                                                  </td></tr>\n",
       "\t<tr><th scope=row>48649</th><td>90                                                       </td><td><span style=white-space:pre-wrap>Local-gov  </span>      </td><td>214594                                                   </td><td>7th-8th                                                  </td><td>4                                                        </td><td>Married-civ-spouse                                       </td><td><span style=white-space:pre-wrap>Protective-serv  </span></td><td><span style=white-space:pre-wrap>Husband      </span>    </td><td>White                                                    </td><td><span style=white-space:pre-wrap>Male  </span>           </td><td>2653                                                     </td><td>0                                                        </td><td>40                                                       </td><td>United-States                                            </td><td>&lt;=50K                                                 </td></tr>\n",
       "</tbody>\n",
       "</table>\n"
      ],
      "text/latex": [
       "\\begin{tabular}{r|lllllllllllllll}\n",
       "  & age & workclass & fnlwgt & education & educational.num & marital.status & occupation & relationship & race & gender & capital.gain & capital.loss & hours.per.week & native.country & income\\\\\n",
       "\\hline\n",
       "\t41585 & 90                 & ?                  & 175444             & 7th-8th            & 4                  & Separated          & ?                  & Not-in-family      & White              & Female             &    0               & 0                  & 15                 & United-States      & <=50K             \\\\\n",
       "\t44745 & 90                 & Federal-gov        & 195433             & HS-grad            & 9                  & Married-civ-spouse & Craft-repair       & Husband            & White              & Male               &    0               & 0                  & 30                 & United-States      & <=50K             \\\\\n",
       "\t47312 & 90                 & Private            &  47929             & HS-grad            & 9                  & Married-civ-spouse & Machine-op-inspct  & Husband            & White              & Male               &    0               & 0                  & 40                 & United-States      & <=50K             \\\\\n",
       "\t47978 & 90                 & ?                  & 313986             & HS-grad            & 9                  & Married-civ-spouse & ?                  & Husband            & White              & Male               &    0               & 0                  & 40                 & United-States      & >50K              \\\\\n",
       "\t48559 & 90                 & Private            & 313749             & HS-grad            & 9                  & Widowed            & Adm-clerical       & Unmarried          & White              & Female             &    0               & 0                  & 25                 & United-States      & <=50K             \\\\\n",
       "\t48649 & 90                 & Local-gov          & 214594             & 7th-8th            & 4                  & Married-civ-spouse & Protective-serv    & Husband            & White              & Male               & 2653               & 0                  & 40                 & United-States      & <=50K             \\\\\n",
       "\\end{tabular}\n"
      ],
      "text/markdown": [
       "\n",
       "| <!--/--> | age | workclass | fnlwgt | education | educational.num | marital.status | occupation | relationship | race | gender | capital.gain | capital.loss | hours.per.week | native.country | income |\n",
       "|---|---|---|---|---|---|---|---|---|---|---|---|---|---|---|---|\n",
       "| 41585 | 90                 | ?                  | 175444             | 7th-8th            | 4                  | Separated          | ?                  | Not-in-family      | White              | Female             |    0               | 0                  | 15                 | United-States      | <=50K              |\n",
       "| 44745 | 90                 | Federal-gov        | 195433             | HS-grad            | 9                  | Married-civ-spouse | Craft-repair       | Husband            | White              | Male               |    0               | 0                  | 30                 | United-States      | <=50K              |\n",
       "| 47312 | 90                 | Private            |  47929             | HS-grad            | 9                  | Married-civ-spouse | Machine-op-inspct  | Husband            | White              | Male               |    0               | 0                  | 40                 | United-States      | <=50K              |\n",
       "| 47978 | 90                 | ?                  | 313986             | HS-grad            | 9                  | Married-civ-spouse | ?                  | Husband            | White              | Male               |    0               | 0                  | 40                 | United-States      | >50K               |\n",
       "| 48559 | 90                 | Private            | 313749             | HS-grad            | 9                  | Widowed            | Adm-clerical       | Unmarried          | White              | Female             |    0               | 0                  | 25                 | United-States      | <=50K              |\n",
       "| 48649 | 90                 | Local-gov          | 214594             | 7th-8th            | 4                  | Married-civ-spouse | Protective-serv    | Husband            | White              | Male               | 2653               | 0                  | 40                 | United-States      | <=50K              |\n",
       "\n"
      ],
      "text/plain": [
       "      age workclass   fnlwgt education educational.num marital.status    \n",
       "41585 90  ?           175444 7th-8th   4               Separated         \n",
       "44745 90  Federal-gov 195433 HS-grad   9               Married-civ-spouse\n",
       "47312 90  Private      47929 HS-grad   9               Married-civ-spouse\n",
       "47978 90  ?           313986 HS-grad   9               Married-civ-spouse\n",
       "48559 90  Private     313749 HS-grad   9               Widowed           \n",
       "48649 90  Local-gov   214594 7th-8th   4               Married-civ-spouse\n",
       "      occupation        relationship  race  gender capital.gain capital.loss\n",
       "41585 ?                 Not-in-family White Female    0         0           \n",
       "44745 Craft-repair      Husband       White Male      0         0           \n",
       "47312 Machine-op-inspct Husband       White Male      0         0           \n",
       "47978 ?                 Husband       White Male      0         0           \n",
       "48559 Adm-clerical      Unmarried     White Female    0         0           \n",
       "48649 Protective-serv   Husband       White Male   2653         0           \n",
       "      hours.per.week native.country income\n",
       "41585 15             United-States  <=50K \n",
       "44745 30             United-States  <=50K \n",
       "47312 40             United-States  <=50K \n",
       "47978 40             United-States  >50K  \n",
       "48559 25             United-States  <=50K \n",
       "48649 40             United-States  <=50K "
      ]
     },
     "metadata": {},
     "output_type": "display_data"
    }
   ],
   "source": [
    "# shows the last six record arrange in order of age\n",
    "tail(adult[order(adult$age),])"
   ]
  },
  {
   "cell_type": "code",
   "execution_count": 7,
   "metadata": {
    "scrolled": true
   },
   "outputs": [
    {
     "data": {
      "text/html": [
       "10.0780885303632"
      ],
      "text/latex": [
       "10.0780885303632"
      ],
      "text/markdown": [
       "10.0780885303632"
      ],
      "text/plain": [
       "[1] 10.07809"
      ]
     },
     "metadata": {},
     "output_type": "display_data"
    },
    {
     "data": {
      "text/html": [
       "10"
      ],
      "text/latex": [
       "10"
      ],
      "text/markdown": [
       "10"
      ],
      "text/plain": [
       "[1] 10"
      ]
     },
     "metadata": {},
     "output_type": "display_data"
    }
   ],
   "source": [
    "# calculating mean and median of educational num.\n",
    "mean(adult$educational.num)\n",
    "median1<-median(adult$educational.num)\n",
    "median1"
   ]
  },
  {
   "cell_type": "code",
   "execution_count": 8,
   "metadata": {
    "scrolled": true
   },
   "outputs": [
    {
     "data": {
      "text/html": [
       "<table>\n",
       "<thead><tr><th scope=col>age</th><th scope=col>workclass</th><th scope=col>fnlwgt</th><th scope=col>education</th><th scope=col>educational.num</th><th scope=col>marital.status</th><th scope=col>occupation</th><th scope=col>relationship</th><th scope=col>race</th><th scope=col>gender</th><th scope=col>capital.gain</th><th scope=col>capital.loss</th><th scope=col>hours.per.week</th><th scope=col>native.country</th><th scope=col>income</th></tr></thead>\n",
       "<tbody>\n",
       "\t<tr><td>25                                                           </td><td><span style=white-space:pre-wrap>Private         </span>     </td><td>226802                                                       </td><td><span style=white-space:pre-wrap>11th   </span>              </td><td>7                                                            </td><td><span style=white-space:pre-wrap>Never-married        </span></td><td>Machine-op-inspct                                            </td><td><span style=white-space:pre-wrap>Own-child    </span>        </td><td>Black                                                        </td><td><span style=white-space:pre-wrap>Male  </span>               </td><td><span style=white-space:pre-wrap>    0</span>                </td><td>0                                                            </td><td>40                                                           </td><td>United-States                                                </td><td>&lt;=50K                                                     </td></tr>\n",
       "\t<tr><td>38                                                           </td><td><span style=white-space:pre-wrap>Private         </span>     </td><td> 89814                                                       </td><td>HS-grad                                                      </td><td>9                                                            </td><td><span style=white-space:pre-wrap>Married-civ-spouse   </span></td><td><span style=white-space:pre-wrap>Farming-fishing  </span>    </td><td><span style=white-space:pre-wrap>Husband      </span>        </td><td>White                                                        </td><td><span style=white-space:pre-wrap>Male  </span>               </td><td><span style=white-space:pre-wrap>    0</span>                </td><td>0                                                            </td><td>50                                                           </td><td>United-States                                                </td><td>&lt;=50K                                                     </td></tr>\n",
       "\t<tr><td>34                                                           </td><td><span style=white-space:pre-wrap>Private         </span>     </td><td>198693                                                       </td><td><span style=white-space:pre-wrap>10th   </span>              </td><td>6                                                            </td><td><span style=white-space:pre-wrap>Never-married        </span></td><td><span style=white-space:pre-wrap>Other-service    </span>    </td><td>Not-in-family                                                </td><td>White                                                        </td><td><span style=white-space:pre-wrap>Male  </span>               </td><td><span style=white-space:pre-wrap>    0</span>                </td><td>0                                                            </td><td>30                                                           </td><td>United-States                                                </td><td>&lt;=50K                                                     </td></tr>\n",
       "\t<tr><td>29                                                           </td><td><span style=white-space:pre-wrap>?               </span>     </td><td>227026                                                       </td><td>HS-grad                                                      </td><td>9                                                            </td><td><span style=white-space:pre-wrap>Never-married        </span></td><td><span style=white-space:pre-wrap>?                </span>    </td><td><span style=white-space:pre-wrap>Unmarried    </span>        </td><td>Black                                                        </td><td><span style=white-space:pre-wrap>Male  </span>               </td><td><span style=white-space:pre-wrap>    0</span>                </td><td>0                                                            </td><td>40                                                           </td><td>United-States                                                </td><td>&lt;=50K                                                     </td></tr>\n",
       "\t<tr><td>55                                                           </td><td><span style=white-space:pre-wrap>Private         </span>     </td><td>104996                                                       </td><td>7th-8th                                                      </td><td>4                                                            </td><td><span style=white-space:pre-wrap>Married-civ-spouse   </span></td><td><span style=white-space:pre-wrap>Craft-repair     </span>    </td><td><span style=white-space:pre-wrap>Husband      </span>        </td><td>White                                                        </td><td><span style=white-space:pre-wrap>Male  </span>               </td><td><span style=white-space:pre-wrap>    0</span>                </td><td>0                                                            </td><td>10                                                           </td><td>United-States                                                </td><td>&lt;=50K                                                     </td></tr>\n",
       "\t<tr><td>65                                                           </td><td><span style=white-space:pre-wrap>Private         </span>     </td><td>184454                                                       </td><td>HS-grad                                                      </td><td>9                                                            </td><td><span style=white-space:pre-wrap>Married-civ-spouse   </span></td><td>Machine-op-inspct                                            </td><td><span style=white-space:pre-wrap>Husband      </span>        </td><td>White                                                        </td><td><span style=white-space:pre-wrap>Male  </span>               </td><td> 6418                                                        </td><td>0                                                            </td><td>40                                                           </td><td>United-States                                                </td><td>&gt;50K                                                      </td></tr>\n",
       "\t<tr><td>26                                                           </td><td><span style=white-space:pre-wrap>Private         </span>     </td><td> 82091                                                       </td><td>HS-grad                                                      </td><td>9                                                            </td><td><span style=white-space:pre-wrap>Never-married        </span></td><td><span style=white-space:pre-wrap>Adm-clerical     </span>    </td><td>Not-in-family                                                </td><td>White                                                        </td><td>Female                                                       </td><td><span style=white-space:pre-wrap>    0</span>                </td><td>0                                                            </td><td>39                                                           </td><td>United-States                                                </td><td>&lt;=50K                                                     </td></tr>\n",
       "\t<tr><td>58                                                           </td><td><span style=white-space:pre-wrap>?               </span>     </td><td>299831                                                       </td><td>HS-grad                                                      </td><td>9                                                            </td><td><span style=white-space:pre-wrap>Married-civ-spouse   </span></td><td><span style=white-space:pre-wrap>?                </span>    </td><td><span style=white-space:pre-wrap>Husband      </span>        </td><td>White                                                        </td><td><span style=white-space:pre-wrap>Male  </span>               </td><td><span style=white-space:pre-wrap>    0</span>                </td><td>0                                                            </td><td>35                                                           </td><td>United-States                                                </td><td>&lt;=50K                                                     </td></tr>\n",
       "\t<tr><td>48                                                           </td><td><span style=white-space:pre-wrap>Private         </span>     </td><td>279724                                                       </td><td>HS-grad                                                      </td><td>9                                                            </td><td><span style=white-space:pre-wrap>Married-civ-spouse   </span></td><td>Machine-op-inspct                                            </td><td><span style=white-space:pre-wrap>Husband      </span>        </td><td>White                                                        </td><td><span style=white-space:pre-wrap>Male  </span>               </td><td> 3103                                                        </td><td>0                                                            </td><td>48                                                           </td><td>United-States                                                </td><td>&gt;50K                                                      </td></tr>\n",
       "\t<tr><td>43                                                           </td><td><span style=white-space:pre-wrap>Private         </span>     </td><td>128354                                                       </td><td>HS-grad                                                      </td><td>9                                                            </td><td><span style=white-space:pre-wrap>Married-civ-spouse   </span></td><td><span style=white-space:pre-wrap>Adm-clerical     </span>    </td><td><span style=white-space:pre-wrap>Wife         </span>        </td><td>White                                                        </td><td>Female                                                       </td><td><span style=white-space:pre-wrap>    0</span>                </td><td>0                                                            </td><td>30                                                           </td><td>United-States                                                </td><td>&lt;=50K                                                     </td></tr>\n",
       "\t<tr><td>37                                                           </td><td><span style=white-space:pre-wrap>Private         </span>     </td><td> 60548                                                       </td><td>HS-grad                                                      </td><td>9                                                            </td><td><span style=white-space:pre-wrap>Widowed              </span></td><td>Machine-op-inspct                                            </td><td><span style=white-space:pre-wrap>Unmarried    </span>        </td><td>White                                                        </td><td>Female                                                       </td><td><span style=white-space:pre-wrap>    0</span>                </td><td>0                                                            </td><td>20                                                           </td><td>United-States                                                </td><td>&lt;=50K                                                     </td></tr>\n",
       "\t<tr><td>72                                                           </td><td><span style=white-space:pre-wrap>?               </span>     </td><td>132015                                                       </td><td>7th-8th                                                      </td><td>4                                                            </td><td><span style=white-space:pre-wrap>Divorced             </span></td><td><span style=white-space:pre-wrap>?                </span>    </td><td>Not-in-family                                                </td><td>White                                                        </td><td>Female                                                       </td><td><span style=white-space:pre-wrap>    0</span>                </td><td>0                                                            </td><td> 6                                                           </td><td>United-States                                                </td><td>&lt;=50K                                                     </td></tr>\n",
       "\t<tr><td>45                                                           </td><td>Self-emp-not-inc                                             </td><td>432824                                                       </td><td>HS-grad                                                      </td><td>9                                                            </td><td><span style=white-space:pre-wrap>Married-civ-spouse   </span></td><td><span style=white-space:pre-wrap>Craft-repair     </span>    </td><td><span style=white-space:pre-wrap>Husband      </span>        </td><td>White                                                        </td><td><span style=white-space:pre-wrap>Male  </span>               </td><td> 7298                                                        </td><td>0                                                            </td><td>90                                                           </td><td>United-States                                                </td><td>&gt;50K                                                      </td></tr>\n",
       "\t<tr><td>22                                                           </td><td><span style=white-space:pre-wrap>Private         </span>     </td><td>236427                                                       </td><td>HS-grad                                                      </td><td>9                                                            </td><td><span style=white-space:pre-wrap>Never-married        </span></td><td><span style=white-space:pre-wrap>Adm-clerical     </span>    </td><td><span style=white-space:pre-wrap>Own-child    </span>        </td><td>White                                                        </td><td><span style=white-space:pre-wrap>Male  </span>               </td><td><span style=white-space:pre-wrap>    0</span>                </td><td>0                                                            </td><td>20                                                           </td><td>United-States                                                </td><td>&lt;=50K                                                     </td></tr>\n",
       "\t<tr><td>23                                                           </td><td><span style=white-space:pre-wrap>Private         </span>     </td><td>134446                                                       </td><td>HS-grad                                                      </td><td>9                                                            </td><td><span style=white-space:pre-wrap>Separated            </span></td><td>Machine-op-inspct                                            </td><td><span style=white-space:pre-wrap>Unmarried    </span>        </td><td>Black                                                        </td><td><span style=white-space:pre-wrap>Male  </span>               </td><td><span style=white-space:pre-wrap>    0</span>                </td><td>0                                                            </td><td>54                                                           </td><td>United-States                                                </td><td>&lt;=50K                                                     </td></tr>\n",
       "\t<tr><td>54                                                           </td><td><span style=white-space:pre-wrap>Private         </span>     </td><td> 99516                                                       </td><td>HS-grad                                                      </td><td>9                                                            </td><td><span style=white-space:pre-wrap>Married-civ-spouse   </span></td><td><span style=white-space:pre-wrap>Craft-repair     </span>    </td><td><span style=white-space:pre-wrap>Husband      </span>        </td><td>White                                                        </td><td><span style=white-space:pre-wrap>Male  </span>               </td><td><span style=white-space:pre-wrap>    0</span>                </td><td>0                                                            </td><td>35                                                           </td><td>United-States                                                </td><td>&lt;=50K                                                     </td></tr>\n",
       "\t<tr><td>56                                                           </td><td>Self-emp-not-inc                                             </td><td>186651                                                       </td><td><span style=white-space:pre-wrap>11th   </span>              </td><td>7                                                            </td><td><span style=white-space:pre-wrap>Widowed              </span></td><td><span style=white-space:pre-wrap>Other-service    </span>    </td><td><span style=white-space:pre-wrap>Unmarried    </span>        </td><td>White                                                        </td><td>Female                                                       </td><td><span style=white-space:pre-wrap>    0</span>                </td><td>0                                                            </td><td>50                                                           </td><td>United-States                                                </td><td>&lt;=50K                                                     </td></tr>\n",
       "\t<tr><td>26                                                           </td><td><span style=white-space:pre-wrap>Private         </span>     </td><td> 43311                                                       </td><td>HS-grad                                                      </td><td>9                                                            </td><td><span style=white-space:pre-wrap>Divorced             </span></td><td><span style=white-space:pre-wrap>Exec-managerial  </span>    </td><td><span style=white-space:pre-wrap>Unmarried    </span>        </td><td>White                                                        </td><td>Female                                                       </td><td><span style=white-space:pre-wrap>    0</span>                </td><td>0                                                            </td><td>40                                                           </td><td>United-States                                                </td><td>&lt;=50K                                                     </td></tr>\n",
       "\t<tr><td>65                                                           </td><td><span style=white-space:pre-wrap>?               </span>     </td><td>191846                                                       </td><td>HS-grad                                                      </td><td>9                                                            </td><td><span style=white-space:pre-wrap>Married-civ-spouse   </span></td><td><span style=white-space:pre-wrap>?                </span>    </td><td><span style=white-space:pre-wrap>Husband      </span>        </td><td>White                                                        </td><td><span style=white-space:pre-wrap>Male  </span>               </td><td><span style=white-space:pre-wrap>    0</span>                </td><td>0                                                            </td><td>40                                                           </td><td>United-States                                                </td><td>&lt;=50K                                                     </td></tr>\n",
       "\t<tr><td>22                                                           </td><td><span style=white-space:pre-wrap>Private         </span>     </td><td>248446                                                       </td><td>5th-6th                                                      </td><td>3                                                            </td><td><span style=white-space:pre-wrap>Never-married        </span></td><td><span style=white-space:pre-wrap>Priv-house-serv  </span>    </td><td>Not-in-family                                                </td><td>White                                                        </td><td><span style=white-space:pre-wrap>Male  </span>               </td><td><span style=white-space:pre-wrap>    0</span>                </td><td>0                                                            </td><td>50                                                           </td><td><span style=white-space:pre-wrap>Guatemala    </span>        </td><td>&lt;=50K                                                     </td></tr>\n",
       "\t<tr><td>17                                                           </td><td><span style=white-space:pre-wrap>Private         </span>     </td><td>269430                                                       </td><td><span style=white-space:pre-wrap>10th   </span>              </td><td>6                                                            </td><td><span style=white-space:pre-wrap>Never-married        </span></td><td>Machine-op-inspct                                            </td><td>Not-in-family                                                </td><td>White                                                        </td><td><span style=white-space:pre-wrap>Male  </span>               </td><td><span style=white-space:pre-wrap>    0</span>                </td><td>0                                                            </td><td>40                                                           </td><td>United-States                                                </td><td>&lt;=50K                                                     </td></tr>\n",
       "\t<tr><td>20                                                           </td><td><span style=white-space:pre-wrap>Private         </span>     </td><td>257509                                                       </td><td>HS-grad                                                      </td><td>9                                                            </td><td><span style=white-space:pre-wrap>Never-married        </span></td><td><span style=white-space:pre-wrap>Craft-repair     </span>    </td><td><span style=white-space:pre-wrap>Own-child    </span>        </td><td>White                                                        </td><td><span style=white-space:pre-wrap>Male  </span>               </td><td><span style=white-space:pre-wrap>    0</span>                </td><td>0                                                            </td><td>40                                                           </td><td>United-States                                                </td><td>&lt;=50K                                                     </td></tr>\n",
       "\t<tr><td>36                                                           </td><td><span style=white-space:pre-wrap>Private         </span>     </td><td>465326                                                       </td><td>HS-grad                                                      </td><td>9                                                            </td><td><span style=white-space:pre-wrap>Married-civ-spouse   </span></td><td><span style=white-space:pre-wrap>Farming-fishing  </span>    </td><td><span style=white-space:pre-wrap>Husband      </span>        </td><td>White                                                        </td><td><span style=white-space:pre-wrap>Male  </span>               </td><td><span style=white-space:pre-wrap>    0</span>                </td><td>0                                                            </td><td>40                                                           </td><td>United-States                                                </td><td>&lt;=50K                                                     </td></tr>\n",
       "\t<tr><td>29                                                           </td><td><span style=white-space:pre-wrap>Private         </span>     </td><td>103634                                                       </td><td><span style=white-space:pre-wrap>11th   </span>              </td><td>7                                                            </td><td><span style=white-space:pre-wrap>Married-civ-spouse   </span></td><td><span style=white-space:pre-wrap>Other-service    </span>    </td><td><span style=white-space:pre-wrap>Husband      </span>        </td><td>White                                                        </td><td><span style=white-space:pre-wrap>Male  </span>               </td><td><span style=white-space:pre-wrap>    0</span>                </td><td>0                                                            </td><td>40                                                           </td><td>United-States                                                </td><td>&lt;=50K                                                     </td></tr>\n",
       "\t<tr><td>39                                                           </td><td><span style=white-space:pre-wrap>Private         </span>     </td><td>290208                                                       </td><td>7th-8th                                                      </td><td>4                                                            </td><td><span style=white-space:pre-wrap>Married-civ-spouse   </span></td><td><span style=white-space:pre-wrap>Craft-repair     </span>    </td><td><span style=white-space:pre-wrap>Husband      </span>        </td><td>White                                                        </td><td><span style=white-space:pre-wrap>Male  </span>               </td><td><span style=white-space:pre-wrap>    0</span>                </td><td>0                                                            </td><td>40                                                           </td><td><span style=white-space:pre-wrap>Mexico       </span>        </td><td>&lt;=50K                                                     </td></tr>\n",
       "\t<tr><td>52                                                           </td><td><span style=white-space:pre-wrap>Private         </span>     </td><td>201062                                                       </td><td><span style=white-space:pre-wrap>11th   </span>              </td><td>7                                                            </td><td><span style=white-space:pre-wrap>Separated            </span></td><td><span style=white-space:pre-wrap>Priv-house-serv  </span>    </td><td>Not-in-family                                                </td><td>Black                                                        </td><td>Female                                                       </td><td><span style=white-space:pre-wrap>    0</span>                </td><td>0                                                            </td><td>18                                                           </td><td>United-States                                                </td><td>&lt;=50K                                                     </td></tr>\n",
       "\t<tr><td>56                                                           </td><td><span style=white-space:pre-wrap>Self-emp-inc    </span>     </td><td>131916                                                       </td><td>HS-grad                                                      </td><td>9                                                            </td><td><span style=white-space:pre-wrap>Widowed              </span></td><td><span style=white-space:pre-wrap>Exec-managerial  </span>    </td><td>Not-in-family                                                </td><td>White                                                        </td><td>Female                                                       </td><td><span style=white-space:pre-wrap>    0</span>                </td><td>0                                                            </td><td>50                                                           </td><td>United-States                                                </td><td>&lt;=50K                                                     </td></tr>\n",
       "\t<tr><td>39                                                           </td><td><span style=white-space:pre-wrap>Private         </span>     </td><td>280215                                                       </td><td>HS-grad                                                      </td><td>9                                                            </td><td><span style=white-space:pre-wrap>Divorced             </span></td><td>Handlers-cleaners                                            </td><td><span style=white-space:pre-wrap>Own-child    </span>        </td><td>Black                                                        </td><td><span style=white-space:pre-wrap>Male  </span>               </td><td><span style=white-space:pre-wrap>    0</span>                </td><td>0                                                            </td><td>40                                                           </td><td>United-States                                                </td><td>&lt;=50K                                                     </td></tr>\n",
       "\t<tr><td>22                                                           </td><td><span style=white-space:pre-wrap>Private         </span>     </td><td> 54164                                                       </td><td>HS-grad                                                      </td><td>9                                                            </td><td><span style=white-space:pre-wrap>Never-married        </span></td><td><span style=white-space:pre-wrap>Other-service    </span>    </td><td>Not-in-family                                                </td><td>White                                                        </td><td><span style=white-space:pre-wrap>Male  </span>               </td><td>14084                                                        </td><td>0                                                            </td><td>60                                                           </td><td>United-States                                                </td><td>&gt;50K                                                      </td></tr>\n",
       "\t<tr><td>38                                                       </td><td><span style=white-space:pre-wrap>Private         </span> </td><td>219446                                                   </td><td><span style=white-space:pre-wrap>9th    </span>          </td><td>5                                                        </td><td>Married-spouse-absent                                    </td><td><span style=white-space:pre-wrap>Exec-managerial  </span></td><td>Not-in-family                                            </td><td>White                                                    </td><td><span style=white-space:pre-wrap>Male  </span>           </td><td><span style=white-space:pre-wrap>    0</span>            </td><td>0                                                        </td><td>54                                                       </td><td><span style=white-space:pre-wrap>Mexico       </span>    </td><td>&lt;=50K                                                 </td></tr>\n",
       "\t<tr><td>...</td><td>...</td><td>...</td><td>...</td><td>...</td><td>...</td><td>...</td><td>...</td><td>...</td><td>...</td><td>...</td><td>...</td><td>...</td><td>...</td><td>...</td></tr>\n",
       "\t<tr><td>25                                                        </td><td><span style=white-space:pre-wrap>Private     </span>      </td><td>403788                                                    </td><td>HS-grad                                                   </td><td>9                                                         </td><td><span style=white-space:pre-wrap>Never-married     </span></td><td><span style=white-space:pre-wrap>Craft-repair     </span> </td><td>Other-relative                                            </td><td><span style=white-space:pre-wrap>Black             </span></td><td><span style=white-space:pre-wrap>Male  </span>            </td><td><span style=white-space:pre-wrap>    0</span>             </td><td><span style=white-space:pre-wrap>  0</span>               </td><td>40                                                        </td><td><span style=white-space:pre-wrap>United-States     </span></td><td>&lt;=50K                                                  </td></tr>\n",
       "\t<tr><td>34                                                        </td><td><span style=white-space:pre-wrap>Private     </span>      </td><td> 60567                                                    </td><td><span style=white-space:pre-wrap>11th   </span>           </td><td>7                                                         </td><td><span style=white-space:pre-wrap>Divorced          </span></td><td>Transport-moving                                          </td><td><span style=white-space:pre-wrap>Unmarried     </span>    </td><td><span style=white-space:pre-wrap>White             </span></td><td><span style=white-space:pre-wrap>Male  </span>            </td><td><span style=white-space:pre-wrap>    0</span>             </td><td>880                                                       </td><td>60                                                        </td><td><span style=white-space:pre-wrap>United-States     </span></td><td>&lt;=50K                                                  </td></tr>\n",
       "\t<tr><td>71                                                        </td><td><span style=white-space:pre-wrap>Private     </span>      </td><td>138145                                                    </td><td><span style=white-space:pre-wrap>9th    </span>           </td><td>5                                                         </td><td>Married-civ-spouse                                        </td><td><span style=white-space:pre-wrap>Other-service    </span> </td><td><span style=white-space:pre-wrap>Husband       </span>    </td><td><span style=white-space:pre-wrap>White             </span></td><td><span style=white-space:pre-wrap>Male  </span>            </td><td><span style=white-space:pre-wrap>    0</span>             </td><td><span style=white-space:pre-wrap>  0</span>               </td><td>40                                                        </td><td><span style=white-space:pre-wrap>United-States     </span></td><td>&lt;=50K                                                  </td></tr>\n",
       "\t<tr><td>47                                                        </td><td><span style=white-space:pre-wrap>Private     </span>      </td><td>312088                                                    </td><td>HS-grad                                                   </td><td>9                                                         </td><td>Married-civ-spouse                                        </td><td><span style=white-space:pre-wrap>Craft-repair     </span> </td><td><span style=white-space:pre-wrap>Husband       </span>    </td><td><span style=white-space:pre-wrap>White             </span></td><td><span style=white-space:pre-wrap>Male  </span>            </td><td><span style=white-space:pre-wrap>    0</span>             </td><td><span style=white-space:pre-wrap>  0</span>               </td><td>40                                                        </td><td><span style=white-space:pre-wrap>United-States     </span></td><td>&lt;=50K                                                  </td></tr>\n",
       "\t<tr><td>33                                                        </td><td><span style=white-space:pre-wrap>Private     </span>      </td><td>182401                                                    </td><td><span style=white-space:pre-wrap>10th   </span>           </td><td>6                                                         </td><td><span style=white-space:pre-wrap>Never-married     </span></td><td><span style=white-space:pre-wrap>Adm-clerical     </span> </td><td>Not-in-family                                             </td><td><span style=white-space:pre-wrap>Black             </span></td><td><span style=white-space:pre-wrap>Male  </span>            </td><td><span style=white-space:pre-wrap>    0</span>             </td><td><span style=white-space:pre-wrap>  0</span>               </td><td>40                                                        </td><td><span style=white-space:pre-wrap>United-States     </span></td><td>&lt;=50K                                                  </td></tr>\n",
       "\t<tr><td>45                                                        </td><td><span style=white-space:pre-wrap>Private     </span>      </td><td>155093                                                    </td><td><span style=white-space:pre-wrap>10th   </span>           </td><td>6                                                         </td><td><span style=white-space:pre-wrap>Divorced          </span></td><td><span style=white-space:pre-wrap>Other-service    </span> </td><td>Not-in-family                                             </td><td><span style=white-space:pre-wrap>Black             </span></td><td>Female                                                    </td><td><span style=white-space:pre-wrap>    0</span>             </td><td><span style=white-space:pre-wrap>  0</span>               </td><td>38                                                        </td><td>Dominican-Republic                                        </td><td>&lt;=50K                                                  </td></tr>\n",
       "\t<tr><td>32                                                        </td><td><span style=white-space:pre-wrap>Private     </span>      </td><td>192965                                                    </td><td>HS-grad                                                   </td><td>9                                                         </td><td><span style=white-space:pre-wrap>Separated         </span></td><td><span style=white-space:pre-wrap>Sales            </span> </td><td>Not-in-family                                             </td><td><span style=white-space:pre-wrap>White             </span></td><td>Female                                                    </td><td><span style=white-space:pre-wrap>    0</span>             </td><td><span style=white-space:pre-wrap>  0</span>               </td><td>45                                                        </td><td><span style=white-space:pre-wrap>United-States     </span></td><td>&lt;=50K                                                  </td></tr>\n",
       "\t<tr><td>39                                                        </td><td><span style=white-space:pre-wrap>Private     </span>      </td><td>107302                                                    </td><td>HS-grad                                                   </td><td>9                                                         </td><td>Married-civ-spouse                                        </td><td><span style=white-space:pre-wrap>Prof-specialty   </span> </td><td><span style=white-space:pre-wrap>Husband       </span>    </td><td><span style=white-space:pre-wrap>White             </span></td><td><span style=white-space:pre-wrap>Male  </span>            </td><td><span style=white-space:pre-wrap>    0</span>             </td><td><span style=white-space:pre-wrap>  0</span>               </td><td>45                                                        </td><td><span style=white-space:pre-wrap>?                 </span></td><td>&gt;50K                                                   </td></tr>\n",
       "\t<tr><td>20                                                        </td><td><span style=white-space:pre-wrap>Private     </span>      </td><td>270436                                                    </td><td>HS-grad                                                   </td><td>9                                                         </td><td><span style=white-space:pre-wrap>Never-married     </span></td><td>Machine-op-inspct                                         </td><td><span style=white-space:pre-wrap>Own-child     </span>    </td><td><span style=white-space:pre-wrap>White             </span></td><td><span style=white-space:pre-wrap>Male  </span>            </td><td><span style=white-space:pre-wrap>    0</span>             </td><td><span style=white-space:pre-wrap>  0</span>               </td><td>40                                                        </td><td><span style=white-space:pre-wrap>United-States     </span></td><td>&lt;=50K                                                  </td></tr>\n",
       "\t<tr><td>66                                                        </td><td>Federal-gov                                               </td><td> 47358                                                    </td><td><span style=white-space:pre-wrap>10th   </span>           </td><td>6                                                         </td><td>Married-civ-spouse                                        </td><td><span style=white-space:pre-wrap>Craft-repair     </span> </td><td><span style=white-space:pre-wrap>Husband       </span>    </td><td><span style=white-space:pre-wrap>White             </span></td><td><span style=white-space:pre-wrap>Male  </span>            </td><td> 3471                                                     </td><td><span style=white-space:pre-wrap>  0</span>               </td><td>40                                                        </td><td><span style=white-space:pre-wrap>United-States     </span></td><td>&lt;=50K                                                  </td></tr>\n",
       "\t<tr><td>36                                                        </td><td><span style=white-space:pre-wrap>Private     </span>      </td><td>131459                                                    </td><td>7th-8th                                                   </td><td>4                                                         </td><td>Married-civ-spouse                                        </td><td><span style=white-space:pre-wrap>Craft-repair     </span> </td><td><span style=white-space:pre-wrap>Husband       </span>    </td><td><span style=white-space:pre-wrap>White             </span></td><td><span style=white-space:pre-wrap>Male  </span>            </td><td><span style=white-space:pre-wrap>    0</span>             </td><td><span style=white-space:pre-wrap>  0</span>               </td><td>40                                                        </td><td><span style=white-space:pre-wrap>United-States     </span></td><td>&lt;=50K                                                  </td></tr>\n",
       "\t<tr><td>57                                                        </td><td><span style=white-space:pre-wrap>Local-gov   </span>      </td><td>110417                                                    </td><td>HS-grad                                                   </td><td>9                                                         </td><td>Married-civ-spouse                                        </td><td><span style=white-space:pre-wrap>Craft-repair     </span> </td><td><span style=white-space:pre-wrap>Husband       </span>    </td><td><span style=white-space:pre-wrap>White             </span></td><td><span style=white-space:pre-wrap>Male  </span>            </td><td>99999                                                     </td><td><span style=white-space:pre-wrap>  0</span>               </td><td>40                                                        </td><td><span style=white-space:pre-wrap>United-States     </span></td><td>&gt;50K                                                   </td></tr>\n",
       "\t<tr><td>27                                                        </td><td><span style=white-space:pre-wrap>Private     </span>      </td><td>177398                                                    </td><td>HS-grad                                                   </td><td>9                                                         </td><td><span style=white-space:pre-wrap>Never-married     </span></td><td><span style=white-space:pre-wrap>Other-service    </span> </td><td><span style=white-space:pre-wrap>Unmarried     </span>    </td><td><span style=white-space:pre-wrap>White             </span></td><td>Female                                                    </td><td><span style=white-space:pre-wrap>    0</span>             </td><td><span style=white-space:pre-wrap>  0</span>               </td><td>64                                                        </td><td><span style=white-space:pre-wrap>United-States     </span></td><td>&lt;=50K                                                  </td></tr>\n",
       "\t<tr><td>33                                                        </td><td><span style=white-space:pre-wrap>Private     </span>      </td><td>273243                                                    </td><td>HS-grad                                                   </td><td>9                                                         </td><td>Married-civ-spouse                                        </td><td><span style=white-space:pre-wrap>Craft-repair     </span> </td><td><span style=white-space:pre-wrap>Husband       </span>    </td><td><span style=white-space:pre-wrap>Black             </span></td><td><span style=white-space:pre-wrap>Male  </span>            </td><td><span style=white-space:pre-wrap>    0</span>             </td><td><span style=white-space:pre-wrap>  0</span>               </td><td>40                                                        </td><td><span style=white-space:pre-wrap>United-States     </span></td><td>&lt;=50K                                                  </td></tr>\n",
       "\t<tr><td>58                                                        </td><td><span style=white-space:pre-wrap>Private     </span>      </td><td>147707                                                    </td><td><span style=white-space:pre-wrap>11th   </span>           </td><td>7                                                         </td><td>Married-civ-spouse                                        </td><td><span style=white-space:pre-wrap>Sales            </span> </td><td><span style=white-space:pre-wrap>Husband       </span>    </td><td><span style=white-space:pre-wrap>White             </span></td><td><span style=white-space:pre-wrap>Male  </span>            </td><td><span style=white-space:pre-wrap>    0</span>             </td><td><span style=white-space:pre-wrap>  0</span>               </td><td>40                                                        </td><td><span style=white-space:pre-wrap>United-States     </span></td><td>&lt;=50K                                                  </td></tr>\n",
       "\t<tr><td>30                                                        </td><td><span style=white-space:pre-wrap>Private     </span>      </td><td> 77266                                                    </td><td>HS-grad                                                   </td><td>9                                                         </td><td><span style=white-space:pre-wrap>Divorced          </span></td><td>Transport-moving                                          </td><td>Not-in-family                                             </td><td><span style=white-space:pre-wrap>White             </span></td><td><span style=white-space:pre-wrap>Male  </span>            </td><td><span style=white-space:pre-wrap>    0</span>             </td><td><span style=white-space:pre-wrap>  0</span>               </td><td>55                                                        </td><td><span style=white-space:pre-wrap>United-States     </span></td><td>&lt;=50K                                                  </td></tr>\n",
       "\t<tr><td>32                                                        </td><td><span style=white-space:pre-wrap>Private     </span>      </td><td>211349                                                    </td><td><span style=white-space:pre-wrap>10th   </span>           </td><td>6                                                         </td><td>Married-civ-spouse                                        </td><td>Transport-moving                                          </td><td><span style=white-space:pre-wrap>Husband       </span>    </td><td><span style=white-space:pre-wrap>White             </span></td><td><span style=white-space:pre-wrap>Male  </span>            </td><td><span style=white-space:pre-wrap>    0</span>             </td><td><span style=white-space:pre-wrap>  0</span>               </td><td>40                                                        </td><td><span style=white-space:pre-wrap>United-States     </span></td><td>&lt;=50K                                                  </td></tr>\n",
       "\t<tr><td>31                                                        </td><td><span style=white-space:pre-wrap>Private     </span>      </td><td>292592                                                    </td><td>HS-grad                                                   </td><td>9                                                         </td><td>Married-civ-spouse                                        </td><td>Machine-op-inspct                                         </td><td><span style=white-space:pre-wrap>Wife          </span>    </td><td><span style=white-space:pre-wrap>White             </span></td><td>Female                                                    </td><td><span style=white-space:pre-wrap>    0</span>             </td><td><span style=white-space:pre-wrap>  0</span>               </td><td>40                                                        </td><td><span style=white-space:pre-wrap>United-States     </span></td><td>&lt;=50K                                                  </td></tr>\n",
       "\t<tr><td>29                                                        </td><td><span style=white-space:pre-wrap>Private     </span>      </td><td>125976                                                    </td><td>HS-grad                                                   </td><td>9                                                         </td><td><span style=white-space:pre-wrap>Separated         </span></td><td><span style=white-space:pre-wrap>Sales            </span> </td><td><span style=white-space:pre-wrap>Unmarried     </span>    </td><td><span style=white-space:pre-wrap>White             </span></td><td>Female                                                    </td><td><span style=white-space:pre-wrap>    0</span>             </td><td><span style=white-space:pre-wrap>  0</span>               </td><td>35                                                        </td><td><span style=white-space:pre-wrap>United-States     </span></td><td>&lt;=50K                                                  </td></tr>\n",
       "\t<tr><td>22                                                        </td><td><span style=white-space:pre-wrap>Private     </span>      </td><td>325033                                                    </td><td><span style=white-space:pre-wrap>12th   </span>           </td><td>8                                                         </td><td><span style=white-space:pre-wrap>Never-married     </span></td><td><span style=white-space:pre-wrap>Protective-serv  </span> </td><td><span style=white-space:pre-wrap>Own-child     </span>    </td><td><span style=white-space:pre-wrap>Black             </span></td><td><span style=white-space:pre-wrap>Male  </span>            </td><td><span style=white-space:pre-wrap>    0</span>             </td><td><span style=white-space:pre-wrap>  0</span>               </td><td>35                                                        </td><td><span style=white-space:pre-wrap>United-States     </span></td><td>&lt;=50K                                                  </td></tr>\n",
       "\t<tr><td>30                                                        </td><td><span style=white-space:pre-wrap>Private     </span>      </td><td>345898                                                    </td><td>HS-grad                                                   </td><td>9                                                         </td><td><span style=white-space:pre-wrap>Never-married     </span></td><td><span style=white-space:pre-wrap>Craft-repair     </span> </td><td>Not-in-family                                             </td><td><span style=white-space:pre-wrap>Black             </span></td><td><span style=white-space:pre-wrap>Male  </span>            </td><td><span style=white-space:pre-wrap>    0</span>             </td><td><span style=white-space:pre-wrap>  0</span>               </td><td>46                                                        </td><td><span style=white-space:pre-wrap>United-States     </span></td><td>&lt;=50K                                                  </td></tr>\n",
       "\t<tr><td>45                                                        </td><td><span style=white-space:pre-wrap>State-gov   </span>      </td><td>252208                                                    </td><td>HS-grad                                                   </td><td>9                                                         </td><td><span style=white-space:pre-wrap>Separated         </span></td><td><span style=white-space:pre-wrap>Adm-clerical     </span> </td><td><span style=white-space:pre-wrap>Own-child     </span>    </td><td><span style=white-space:pre-wrap>White             </span></td><td>Female                                                    </td><td><span style=white-space:pre-wrap>    0</span>             </td><td><span style=white-space:pre-wrap>  0</span>               </td><td>40                                                        </td><td><span style=white-space:pre-wrap>United-States     </span></td><td>&lt;=50K                                                  </td></tr>\n",
       "\t<tr><td>41                                                        </td><td><span style=white-space:pre-wrap>?           </span>      </td><td>202822                                                    </td><td>HS-grad                                                   </td><td>9                                                         </td><td><span style=white-space:pre-wrap>Separated         </span></td><td><span style=white-space:pre-wrap>?                </span> </td><td>Not-in-family                                             </td><td><span style=white-space:pre-wrap>Black             </span></td><td>Female                                                    </td><td><span style=white-space:pre-wrap>    0</span>             </td><td><span style=white-space:pre-wrap>  0</span>               </td><td>32                                                        </td><td><span style=white-space:pre-wrap>United-States     </span></td><td>&lt;=50K                                                  </td></tr>\n",
       "\t<tr><td>72                                                        </td><td><span style=white-space:pre-wrap>?           </span>      </td><td>129912                                                    </td><td>HS-grad                                                   </td><td>9                                                         </td><td>Married-civ-spouse                                        </td><td><span style=white-space:pre-wrap>?                </span> </td><td><span style=white-space:pre-wrap>Husband       </span>    </td><td><span style=white-space:pre-wrap>White             </span></td><td><span style=white-space:pre-wrap>Male  </span>            </td><td><span style=white-space:pre-wrap>    0</span>             </td><td><span style=white-space:pre-wrap>  0</span>               </td><td>25                                                        </td><td><span style=white-space:pre-wrap>United-States     </span></td><td>&lt;=50K                                                  </td></tr>\n",
       "\t<tr><td>43                                                        </td><td><span style=white-space:pre-wrap>Private     </span>      </td><td>260761                                                    </td><td>HS-grad                                                   </td><td>9                                                         </td><td>Married-civ-spouse                                        </td><td>Machine-op-inspct                                         </td><td><span style=white-space:pre-wrap>Husband       </span>    </td><td><span style=white-space:pre-wrap>White             </span></td><td><span style=white-space:pre-wrap>Male  </span>            </td><td><span style=white-space:pre-wrap>    0</span>             </td><td><span style=white-space:pre-wrap>  0</span>               </td><td>40                                                        </td><td><span style=white-space:pre-wrap>Mexico            </span></td><td>&lt;=50K                                                  </td></tr>\n",
       "\t<tr><td>32                                                        </td><td><span style=white-space:pre-wrap>Private     </span>      </td><td> 34066                                                    </td><td><span style=white-space:pre-wrap>10th   </span>           </td><td>6                                                         </td><td>Married-civ-spouse                                        </td><td>Handlers-cleaners                                         </td><td><span style=white-space:pre-wrap>Husband       </span>    </td><td>Amer-Indian-Eskimo                                        </td><td><span style=white-space:pre-wrap>Male  </span>            </td><td><span style=white-space:pre-wrap>    0</span>             </td><td><span style=white-space:pre-wrap>  0</span>               </td><td>40                                                        </td><td><span style=white-space:pre-wrap>United-States     </span></td><td>&lt;=50K                                                  </td></tr>\n",
       "\t<tr><td>40                                                        </td><td><span style=white-space:pre-wrap>Private     </span>      </td><td>154374                                                    </td><td>HS-grad                                                   </td><td>9                                                         </td><td>Married-civ-spouse                                        </td><td>Machine-op-inspct                                         </td><td><span style=white-space:pre-wrap>Husband       </span>    </td><td><span style=white-space:pre-wrap>White             </span></td><td><span style=white-space:pre-wrap>Male  </span>            </td><td><span style=white-space:pre-wrap>    0</span>             </td><td><span style=white-space:pre-wrap>  0</span>               </td><td>40                                                        </td><td><span style=white-space:pre-wrap>United-States     </span></td><td>&gt;50K                                                   </td></tr>\n",
       "\t<tr><td>58                                                        </td><td><span style=white-space:pre-wrap>Private     </span>      </td><td>151910                                                    </td><td>HS-grad                                                   </td><td>9                                                         </td><td><span style=white-space:pre-wrap>Widowed           </span></td><td><span style=white-space:pre-wrap>Adm-clerical     </span> </td><td><span style=white-space:pre-wrap>Unmarried     </span>    </td><td><span style=white-space:pre-wrap>White             </span></td><td>Female                                                    </td><td><span style=white-space:pre-wrap>    0</span>             </td><td><span style=white-space:pre-wrap>  0</span>               </td><td>40                                                        </td><td><span style=white-space:pre-wrap>United-States     </span></td><td>&lt;=50K                                                  </td></tr>\n",
       "\t<tr><td>22                                                        </td><td><span style=white-space:pre-wrap>Private     </span>      </td><td>201490                                                    </td><td>HS-grad                                                   </td><td>9                                                         </td><td><span style=white-space:pre-wrap>Never-married     </span></td><td><span style=white-space:pre-wrap>Adm-clerical     </span> </td><td><span style=white-space:pre-wrap>Own-child     </span>    </td><td><span style=white-space:pre-wrap>White             </span></td><td><span style=white-space:pre-wrap>Male  </span>            </td><td><span style=white-space:pre-wrap>    0</span>             </td><td><span style=white-space:pre-wrap>  0</span>               </td><td>20                                                        </td><td><span style=white-space:pre-wrap>United-States     </span></td><td>&lt;=50K                                                  </td></tr>\n",
       "\t<tr><td>52                                                        </td><td>Self-emp-inc                                              </td><td>287927                                                    </td><td>HS-grad                                                   </td><td>9                                                         </td><td>Married-civ-spouse                                        </td><td><span style=white-space:pre-wrap>Exec-managerial  </span> </td><td><span style=white-space:pre-wrap>Wife          </span>    </td><td><span style=white-space:pre-wrap>White             </span></td><td>Female                                                    </td><td>15024                                                     </td><td><span style=white-space:pre-wrap>  0</span>               </td><td>40                                                        </td><td><span style=white-space:pre-wrap>United-States     </span></td><td>&gt;50K                                                   </td></tr>\n",
       "</tbody>\n",
       "</table>\n"
      ],
      "text/latex": [
       "\\begin{tabular}{r|lllllllllllllll}\n",
       " age & workclass & fnlwgt & education & educational.num & marital.status & occupation & relationship & race & gender & capital.gain & capital.loss & hours.per.week & native.country & income\\\\\n",
       "\\hline\n",
       "\t 25                    & Private               & 226802                & 11th                  & 7                     & Never-married         & Machine-op-inspct     & Own-child             & Black                 & Male                  &     0                 & 0                     & 40                    & United-States         & <=50K                \\\\\n",
       "\t 38                    & Private               &  89814                & HS-grad               & 9                     & Married-civ-spouse    & Farming-fishing       & Husband               & White                 & Male                  &     0                 & 0                     & 50                    & United-States         & <=50K                \\\\\n",
       "\t 34                    & Private               & 198693                & 10th                  & 6                     & Never-married         & Other-service         & Not-in-family         & White                 & Male                  &     0                 & 0                     & 30                    & United-States         & <=50K                \\\\\n",
       "\t 29                    & ?                     & 227026                & HS-grad               & 9                     & Never-married         & ?                     & Unmarried             & Black                 & Male                  &     0                 & 0                     & 40                    & United-States         & <=50K                \\\\\n",
       "\t 55                    & Private               & 104996                & 7th-8th               & 4                     & Married-civ-spouse    & Craft-repair          & Husband               & White                 & Male                  &     0                 & 0                     & 10                    & United-States         & <=50K                \\\\\n",
       "\t 65                    & Private               & 184454                & HS-grad               & 9                     & Married-civ-spouse    & Machine-op-inspct     & Husband               & White                 & Male                  &  6418                 & 0                     & 40                    & United-States         & >50K                 \\\\\n",
       "\t 26                    & Private               &  82091                & HS-grad               & 9                     & Never-married         & Adm-clerical          & Not-in-family         & White                 & Female                &     0                 & 0                     & 39                    & United-States         & <=50K                \\\\\n",
       "\t 58                    & ?                     & 299831                & HS-grad               & 9                     & Married-civ-spouse    & ?                     & Husband               & White                 & Male                  &     0                 & 0                     & 35                    & United-States         & <=50K                \\\\\n",
       "\t 48                    & Private               & 279724                & HS-grad               & 9                     & Married-civ-spouse    & Machine-op-inspct     & Husband               & White                 & Male                  &  3103                 & 0                     & 48                    & United-States         & >50K                 \\\\\n",
       "\t 43                    & Private               & 128354                & HS-grad               & 9                     & Married-civ-spouse    & Adm-clerical          & Wife                  & White                 & Female                &     0                 & 0                     & 30                    & United-States         & <=50K                \\\\\n",
       "\t 37                    & Private               &  60548                & HS-grad               & 9                     & Widowed               & Machine-op-inspct     & Unmarried             & White                 & Female                &     0                 & 0                     & 20                    & United-States         & <=50K                \\\\\n",
       "\t 72                    & ?                     & 132015                & 7th-8th               & 4                     & Divorced              & ?                     & Not-in-family         & White                 & Female                &     0                 & 0                     &  6                    & United-States         & <=50K                \\\\\n",
       "\t 45                    & Self-emp-not-inc      & 432824                & HS-grad               & 9                     & Married-civ-spouse    & Craft-repair          & Husband               & White                 & Male                  &  7298                 & 0                     & 90                    & United-States         & >50K                 \\\\\n",
       "\t 22                    & Private               & 236427                & HS-grad               & 9                     & Never-married         & Adm-clerical          & Own-child             & White                 & Male                  &     0                 & 0                     & 20                    & United-States         & <=50K                \\\\\n",
       "\t 23                    & Private               & 134446                & HS-grad               & 9                     & Separated             & Machine-op-inspct     & Unmarried             & Black                 & Male                  &     0                 & 0                     & 54                    & United-States         & <=50K                \\\\\n",
       "\t 54                    & Private               &  99516                & HS-grad               & 9                     & Married-civ-spouse    & Craft-repair          & Husband               & White                 & Male                  &     0                 & 0                     & 35                    & United-States         & <=50K                \\\\\n",
       "\t 56                    & Self-emp-not-inc      & 186651                & 11th                  & 7                     & Widowed               & Other-service         & Unmarried             & White                 & Female                &     0                 & 0                     & 50                    & United-States         & <=50K                \\\\\n",
       "\t 26                    & Private               &  43311                & HS-grad               & 9                     & Divorced              & Exec-managerial       & Unmarried             & White                 & Female                &     0                 & 0                     & 40                    & United-States         & <=50K                \\\\\n",
       "\t 65                    & ?                     & 191846                & HS-grad               & 9                     & Married-civ-spouse    & ?                     & Husband               & White                 & Male                  &     0                 & 0                     & 40                    & United-States         & <=50K                \\\\\n",
       "\t 22                    & Private               & 248446                & 5th-6th               & 3                     & Never-married         & Priv-house-serv       & Not-in-family         & White                 & Male                  &     0                 & 0                     & 50                    & Guatemala             & <=50K                \\\\\n",
       "\t 17                    & Private               & 269430                & 10th                  & 6                     & Never-married         & Machine-op-inspct     & Not-in-family         & White                 & Male                  &     0                 & 0                     & 40                    & United-States         & <=50K                \\\\\n",
       "\t 20                    & Private               & 257509                & HS-grad               & 9                     & Never-married         & Craft-repair          & Own-child             & White                 & Male                  &     0                 & 0                     & 40                    & United-States         & <=50K                \\\\\n",
       "\t 36                    & Private               & 465326                & HS-grad               & 9                     & Married-civ-spouse    & Farming-fishing       & Husband               & White                 & Male                  &     0                 & 0                     & 40                    & United-States         & <=50K                \\\\\n",
       "\t 29                    & Private               & 103634                & 11th                  & 7                     & Married-civ-spouse    & Other-service         & Husband               & White                 & Male                  &     0                 & 0                     & 40                    & United-States         & <=50K                \\\\\n",
       "\t 39                    & Private               & 290208                & 7th-8th               & 4                     & Married-civ-spouse    & Craft-repair          & Husband               & White                 & Male                  &     0                 & 0                     & 40                    & Mexico                & <=50K                \\\\\n",
       "\t 52                    & Private               & 201062                & 11th                  & 7                     & Separated             & Priv-house-serv       & Not-in-family         & Black                 & Female                &     0                 & 0                     & 18                    & United-States         & <=50K                \\\\\n",
       "\t 56                    & Self-emp-inc          & 131916                & HS-grad               & 9                     & Widowed               & Exec-managerial       & Not-in-family         & White                 & Female                &     0                 & 0                     & 50                    & United-States         & <=50K                \\\\\n",
       "\t 39                    & Private               & 280215                & HS-grad               & 9                     & Divorced              & Handlers-cleaners     & Own-child             & Black                 & Male                  &     0                 & 0                     & 40                    & United-States         & <=50K                \\\\\n",
       "\t 22                    & Private               &  54164                & HS-grad               & 9                     & Never-married         & Other-service         & Not-in-family         & White                 & Male                  & 14084                 & 0                     & 60                    & United-States         & >50K                 \\\\\n",
       "\t 38                    & Private               & 219446                & 9th                   & 5                     & Married-spouse-absent & Exec-managerial       & Not-in-family         & White                 & Male                  &     0                 & 0                     & 54                    & Mexico                & <=50K                \\\\\n",
       "\t ... & ... & ... & ... & ... & ... & ... & ... & ... & ... & ... & ... & ... & ... & ...\\\\\n",
       "\t 25                 & Private            & 403788             & HS-grad            & 9                  & Never-married      & Craft-repair       & Other-relative     & Black              & Male               &     0              &   0                & 40                 & United-States      & <=50K             \\\\\n",
       "\t 34                 & Private            &  60567             & 11th               & 7                  & Divorced           & Transport-moving   & Unmarried          & White              & Male               &     0              & 880                & 60                 & United-States      & <=50K             \\\\\n",
       "\t 71                 & Private            & 138145             & 9th                & 5                  & Married-civ-spouse & Other-service      & Husband            & White              & Male               &     0              &   0                & 40                 & United-States      & <=50K             \\\\\n",
       "\t 47                 & Private            & 312088             & HS-grad            & 9                  & Married-civ-spouse & Craft-repair       & Husband            & White              & Male               &     0              &   0                & 40                 & United-States      & <=50K             \\\\\n",
       "\t 33                 & Private            & 182401             & 10th               & 6                  & Never-married      & Adm-clerical       & Not-in-family      & Black              & Male               &     0              &   0                & 40                 & United-States      & <=50K             \\\\\n",
       "\t 45                 & Private            & 155093             & 10th               & 6                  & Divorced           & Other-service      & Not-in-family      & Black              & Female             &     0              &   0                & 38                 & Dominican-Republic & <=50K             \\\\\n",
       "\t 32                 & Private            & 192965             & HS-grad            & 9                  & Separated          & Sales              & Not-in-family      & White              & Female             &     0              &   0                & 45                 & United-States      & <=50K             \\\\\n",
       "\t 39                 & Private            & 107302             & HS-grad            & 9                  & Married-civ-spouse & Prof-specialty     & Husband            & White              & Male               &     0              &   0                & 45                 & ?                  & >50K              \\\\\n",
       "\t 20                 & Private            & 270436             & HS-grad            & 9                  & Never-married      & Machine-op-inspct  & Own-child          & White              & Male               &     0              &   0                & 40                 & United-States      & <=50K             \\\\\n",
       "\t 66                 & Federal-gov        &  47358             & 10th               & 6                  & Married-civ-spouse & Craft-repair       & Husband            & White              & Male               &  3471              &   0                & 40                 & United-States      & <=50K             \\\\\n",
       "\t 36                 & Private            & 131459             & 7th-8th            & 4                  & Married-civ-spouse & Craft-repair       & Husband            & White              & Male               &     0              &   0                & 40                 & United-States      & <=50K             \\\\\n",
       "\t 57                 & Local-gov          & 110417             & HS-grad            & 9                  & Married-civ-spouse & Craft-repair       & Husband            & White              & Male               & 99999              &   0                & 40                 & United-States      & >50K              \\\\\n",
       "\t 27                 & Private            & 177398             & HS-grad            & 9                  & Never-married      & Other-service      & Unmarried          & White              & Female             &     0              &   0                & 64                 & United-States      & <=50K             \\\\\n",
       "\t 33                 & Private            & 273243             & HS-grad            & 9                  & Married-civ-spouse & Craft-repair       & Husband            & Black              & Male               &     0              &   0                & 40                 & United-States      & <=50K             \\\\\n",
       "\t 58                 & Private            & 147707             & 11th               & 7                  & Married-civ-spouse & Sales              & Husband            & White              & Male               &     0              &   0                & 40                 & United-States      & <=50K             \\\\\n",
       "\t 30                 & Private            &  77266             & HS-grad            & 9                  & Divorced           & Transport-moving   & Not-in-family      & White              & Male               &     0              &   0                & 55                 & United-States      & <=50K             \\\\\n",
       "\t 32                 & Private            & 211349             & 10th               & 6                  & Married-civ-spouse & Transport-moving   & Husband            & White              & Male               &     0              &   0                & 40                 & United-States      & <=50K             \\\\\n",
       "\t 31                 & Private            & 292592             & HS-grad            & 9                  & Married-civ-spouse & Machine-op-inspct  & Wife               & White              & Female             &     0              &   0                & 40                 & United-States      & <=50K             \\\\\n",
       "\t 29                 & Private            & 125976             & HS-grad            & 9                  & Separated          & Sales              & Unmarried          & White              & Female             &     0              &   0                & 35                 & United-States      & <=50K             \\\\\n",
       "\t 22                 & Private            & 325033             & 12th               & 8                  & Never-married      & Protective-serv    & Own-child          & Black              & Male               &     0              &   0                & 35                 & United-States      & <=50K             \\\\\n",
       "\t 30                 & Private            & 345898             & HS-grad            & 9                  & Never-married      & Craft-repair       & Not-in-family      & Black              & Male               &     0              &   0                & 46                 & United-States      & <=50K             \\\\\n",
       "\t 45                 & State-gov          & 252208             & HS-grad            & 9                  & Separated          & Adm-clerical       & Own-child          & White              & Female             &     0              &   0                & 40                 & United-States      & <=50K             \\\\\n",
       "\t 41                 & ?                  & 202822             & HS-grad            & 9                  & Separated          & ?                  & Not-in-family      & Black              & Female             &     0              &   0                & 32                 & United-States      & <=50K             \\\\\n",
       "\t 72                 & ?                  & 129912             & HS-grad            & 9                  & Married-civ-spouse & ?                  & Husband            & White              & Male               &     0              &   0                & 25                 & United-States      & <=50K             \\\\\n",
       "\t 43                 & Private            & 260761             & HS-grad            & 9                  & Married-civ-spouse & Machine-op-inspct  & Husband            & White              & Male               &     0              &   0                & 40                 & Mexico             & <=50K             \\\\\n",
       "\t 32                 & Private            &  34066             & 10th               & 6                  & Married-civ-spouse & Handlers-cleaners  & Husband            & Amer-Indian-Eskimo & Male               &     0              &   0                & 40                 & United-States      & <=50K             \\\\\n",
       "\t 40                 & Private            & 154374             & HS-grad            & 9                  & Married-civ-spouse & Machine-op-inspct  & Husband            & White              & Male               &     0              &   0                & 40                 & United-States      & >50K              \\\\\n",
       "\t 58                 & Private            & 151910             & HS-grad            & 9                  & Widowed            & Adm-clerical       & Unmarried          & White              & Female             &     0              &   0                & 40                 & United-States      & <=50K             \\\\\n",
       "\t 22                 & Private            & 201490             & HS-grad            & 9                  & Never-married      & Adm-clerical       & Own-child          & White              & Male               &     0              &   0                & 20                 & United-States      & <=50K             \\\\\n",
       "\t 52                 & Self-emp-inc       & 287927             & HS-grad            & 9                  & Married-civ-spouse & Exec-managerial    & Wife               & White              & Female             & 15024              &   0                & 40                 & United-States      & >50K              \\\\\n",
       "\\end{tabular}\n"
      ],
      "text/markdown": [
       "\n",
       "| age | workclass | fnlwgt | education | educational.num | marital.status | occupation | relationship | race | gender | capital.gain | capital.loss | hours.per.week | native.country | income |\n",
       "|---|---|---|---|---|---|---|---|---|---|---|---|---|---|---|\n",
       "| 25                    | Private               | 226802                | 11th                  | 7                     | Never-married         | Machine-op-inspct     | Own-child             | Black                 | Male                  |     0                 | 0                     | 40                    | United-States         | <=50K                 |\n",
       "| 38                    | Private               |  89814                | HS-grad               | 9                     | Married-civ-spouse    | Farming-fishing       | Husband               | White                 | Male                  |     0                 | 0                     | 50                    | United-States         | <=50K                 |\n",
       "| 34                    | Private               | 198693                | 10th                  | 6                     | Never-married         | Other-service         | Not-in-family         | White                 | Male                  |     0                 | 0                     | 30                    | United-States         | <=50K                 |\n",
       "| 29                    | ?                     | 227026                | HS-grad               | 9                     | Never-married         | ?                     | Unmarried             | Black                 | Male                  |     0                 | 0                     | 40                    | United-States         | <=50K                 |\n",
       "| 55                    | Private               | 104996                | 7th-8th               | 4                     | Married-civ-spouse    | Craft-repair          | Husband               | White                 | Male                  |     0                 | 0                     | 10                    | United-States         | <=50K                 |\n",
       "| 65                    | Private               | 184454                | HS-grad               | 9                     | Married-civ-spouse    | Machine-op-inspct     | Husband               | White                 | Male                  |  6418                 | 0                     | 40                    | United-States         | >50K                  |\n",
       "| 26                    | Private               |  82091                | HS-grad               | 9                     | Never-married         | Adm-clerical          | Not-in-family         | White                 | Female                |     0                 | 0                     | 39                    | United-States         | <=50K                 |\n",
       "| 58                    | ?                     | 299831                | HS-grad               | 9                     | Married-civ-spouse    | ?                     | Husband               | White                 | Male                  |     0                 | 0                     | 35                    | United-States         | <=50K                 |\n",
       "| 48                    | Private               | 279724                | HS-grad               | 9                     | Married-civ-spouse    | Machine-op-inspct     | Husband               | White                 | Male                  |  3103                 | 0                     | 48                    | United-States         | >50K                  |\n",
       "| 43                    | Private               | 128354                | HS-grad               | 9                     | Married-civ-spouse    | Adm-clerical          | Wife                  | White                 | Female                |     0                 | 0                     | 30                    | United-States         | <=50K                 |\n",
       "| 37                    | Private               |  60548                | HS-grad               | 9                     | Widowed               | Machine-op-inspct     | Unmarried             | White                 | Female                |     0                 | 0                     | 20                    | United-States         | <=50K                 |\n",
       "| 72                    | ?                     | 132015                | 7th-8th               | 4                     | Divorced              | ?                     | Not-in-family         | White                 | Female                |     0                 | 0                     |  6                    | United-States         | <=50K                 |\n",
       "| 45                    | Self-emp-not-inc      | 432824                | HS-grad               | 9                     | Married-civ-spouse    | Craft-repair          | Husband               | White                 | Male                  |  7298                 | 0                     | 90                    | United-States         | >50K                  |\n",
       "| 22                    | Private               | 236427                | HS-grad               | 9                     | Never-married         | Adm-clerical          | Own-child             | White                 | Male                  |     0                 | 0                     | 20                    | United-States         | <=50K                 |\n",
       "| 23                    | Private               | 134446                | HS-grad               | 9                     | Separated             | Machine-op-inspct     | Unmarried             | Black                 | Male                  |     0                 | 0                     | 54                    | United-States         | <=50K                 |\n",
       "| 54                    | Private               |  99516                | HS-grad               | 9                     | Married-civ-spouse    | Craft-repair          | Husband               | White                 | Male                  |     0                 | 0                     | 35                    | United-States         | <=50K                 |\n",
       "| 56                    | Self-emp-not-inc      | 186651                | 11th                  | 7                     | Widowed               | Other-service         | Unmarried             | White                 | Female                |     0                 | 0                     | 50                    | United-States         | <=50K                 |\n",
       "| 26                    | Private               |  43311                | HS-grad               | 9                     | Divorced              | Exec-managerial       | Unmarried             | White                 | Female                |     0                 | 0                     | 40                    | United-States         | <=50K                 |\n",
       "| 65                    | ?                     | 191846                | HS-grad               | 9                     | Married-civ-spouse    | ?                     | Husband               | White                 | Male                  |     0                 | 0                     | 40                    | United-States         | <=50K                 |\n",
       "| 22                    | Private               | 248446                | 5th-6th               | 3                     | Never-married         | Priv-house-serv       | Not-in-family         | White                 | Male                  |     0                 | 0                     | 50                    | Guatemala             | <=50K                 |\n",
       "| 17                    | Private               | 269430                | 10th                  | 6                     | Never-married         | Machine-op-inspct     | Not-in-family         | White                 | Male                  |     0                 | 0                     | 40                    | United-States         | <=50K                 |\n",
       "| 20                    | Private               | 257509                | HS-grad               | 9                     | Never-married         | Craft-repair          | Own-child             | White                 | Male                  |     0                 | 0                     | 40                    | United-States         | <=50K                 |\n",
       "| 36                    | Private               | 465326                | HS-grad               | 9                     | Married-civ-spouse    | Farming-fishing       | Husband               | White                 | Male                  |     0                 | 0                     | 40                    | United-States         | <=50K                 |\n",
       "| 29                    | Private               | 103634                | 11th                  | 7                     | Married-civ-spouse    | Other-service         | Husband               | White                 | Male                  |     0                 | 0                     | 40                    | United-States         | <=50K                 |\n",
       "| 39                    | Private               | 290208                | 7th-8th               | 4                     | Married-civ-spouse    | Craft-repair          | Husband               | White                 | Male                  |     0                 | 0                     | 40                    | Mexico                | <=50K                 |\n",
       "| 52                    | Private               | 201062                | 11th                  | 7                     | Separated             | Priv-house-serv       | Not-in-family         | Black                 | Female                |     0                 | 0                     | 18                    | United-States         | <=50K                 |\n",
       "| 56                    | Self-emp-inc          | 131916                | HS-grad               | 9                     | Widowed               | Exec-managerial       | Not-in-family         | White                 | Female                |     0                 | 0                     | 50                    | United-States         | <=50K                 |\n",
       "| 39                    | Private               | 280215                | HS-grad               | 9                     | Divorced              | Handlers-cleaners     | Own-child             | Black                 | Male                  |     0                 | 0                     | 40                    | United-States         | <=50K                 |\n",
       "| 22                    | Private               |  54164                | HS-grad               | 9                     | Never-married         | Other-service         | Not-in-family         | White                 | Male                  | 14084                 | 0                     | 60                    | United-States         | >50K                  |\n",
       "| 38                    | Private               | 219446                | 9th                   | 5                     | Married-spouse-absent | Exec-managerial       | Not-in-family         | White                 | Male                  |     0                 | 0                     | 54                    | Mexico                | <=50K                 |\n",
       "| ... | ... | ... | ... | ... | ... | ... | ... | ... | ... | ... | ... | ... | ... | ... |\n",
       "| 25                 | Private            | 403788             | HS-grad            | 9                  | Never-married      | Craft-repair       | Other-relative     | Black              | Male               |     0              |   0                | 40                 | United-States      | <=50K              |\n",
       "| 34                 | Private            |  60567             | 11th               | 7                  | Divorced           | Transport-moving   | Unmarried          | White              | Male               |     0              | 880                | 60                 | United-States      | <=50K              |\n",
       "| 71                 | Private            | 138145             | 9th                | 5                  | Married-civ-spouse | Other-service      | Husband            | White              | Male               |     0              |   0                | 40                 | United-States      | <=50K              |\n",
       "| 47                 | Private            | 312088             | HS-grad            | 9                  | Married-civ-spouse | Craft-repair       | Husband            | White              | Male               |     0              |   0                | 40                 | United-States      | <=50K              |\n",
       "| 33                 | Private            | 182401             | 10th               | 6                  | Never-married      | Adm-clerical       | Not-in-family      | Black              | Male               |     0              |   0                | 40                 | United-States      | <=50K              |\n",
       "| 45                 | Private            | 155093             | 10th               | 6                  | Divorced           | Other-service      | Not-in-family      | Black              | Female             |     0              |   0                | 38                 | Dominican-Republic | <=50K              |\n",
       "| 32                 | Private            | 192965             | HS-grad            | 9                  | Separated          | Sales              | Not-in-family      | White              | Female             |     0              |   0                | 45                 | United-States      | <=50K              |\n",
       "| 39                 | Private            | 107302             | HS-grad            | 9                  | Married-civ-spouse | Prof-specialty     | Husband            | White              | Male               |     0              |   0                | 45                 | ?                  | >50K               |\n",
       "| 20                 | Private            | 270436             | HS-grad            | 9                  | Never-married      | Machine-op-inspct  | Own-child          | White              | Male               |     0              |   0                | 40                 | United-States      | <=50K              |\n",
       "| 66                 | Federal-gov        |  47358             | 10th               | 6                  | Married-civ-spouse | Craft-repair       | Husband            | White              | Male               |  3471              |   0                | 40                 | United-States      | <=50K              |\n",
       "| 36                 | Private            | 131459             | 7th-8th            | 4                  | Married-civ-spouse | Craft-repair       | Husband            | White              | Male               |     0              |   0                | 40                 | United-States      | <=50K              |\n",
       "| 57                 | Local-gov          | 110417             | HS-grad            | 9                  | Married-civ-spouse | Craft-repair       | Husband            | White              | Male               | 99999              |   0                | 40                 | United-States      | >50K               |\n",
       "| 27                 | Private            | 177398             | HS-grad            | 9                  | Never-married      | Other-service      | Unmarried          | White              | Female             |     0              |   0                | 64                 | United-States      | <=50K              |\n",
       "| 33                 | Private            | 273243             | HS-grad            | 9                  | Married-civ-spouse | Craft-repair       | Husband            | Black              | Male               |     0              |   0                | 40                 | United-States      | <=50K              |\n",
       "| 58                 | Private            | 147707             | 11th               | 7                  | Married-civ-spouse | Sales              | Husband            | White              | Male               |     0              |   0                | 40                 | United-States      | <=50K              |\n",
       "| 30                 | Private            |  77266             | HS-grad            | 9                  | Divorced           | Transport-moving   | Not-in-family      | White              | Male               |     0              |   0                | 55                 | United-States      | <=50K              |\n",
       "| 32                 | Private            | 211349             | 10th               | 6                  | Married-civ-spouse | Transport-moving   | Husband            | White              | Male               |     0              |   0                | 40                 | United-States      | <=50K              |\n",
       "| 31                 | Private            | 292592             | HS-grad            | 9                  | Married-civ-spouse | Machine-op-inspct  | Wife               | White              | Female             |     0              |   0                | 40                 | United-States      | <=50K              |\n",
       "| 29                 | Private            | 125976             | HS-grad            | 9                  | Separated          | Sales              | Unmarried          | White              | Female             |     0              |   0                | 35                 | United-States      | <=50K              |\n",
       "| 22                 | Private            | 325033             | 12th               | 8                  | Never-married      | Protective-serv    | Own-child          | Black              | Male               |     0              |   0                | 35                 | United-States      | <=50K              |\n",
       "| 30                 | Private            | 345898             | HS-grad            | 9                  | Never-married      | Craft-repair       | Not-in-family      | Black              | Male               |     0              |   0                | 46                 | United-States      | <=50K              |\n",
       "| 45                 | State-gov          | 252208             | HS-grad            | 9                  | Separated          | Adm-clerical       | Own-child          | White              | Female             |     0              |   0                | 40                 | United-States      | <=50K              |\n",
       "| 41                 | ?                  | 202822             | HS-grad            | 9                  | Separated          | ?                  | Not-in-family      | Black              | Female             |     0              |   0                | 32                 | United-States      | <=50K              |\n",
       "| 72                 | ?                  | 129912             | HS-grad            | 9                  | Married-civ-spouse | ?                  | Husband            | White              | Male               |     0              |   0                | 25                 | United-States      | <=50K              |\n",
       "| 43                 | Private            | 260761             | HS-grad            | 9                  | Married-civ-spouse | Machine-op-inspct  | Husband            | White              | Male               |     0              |   0                | 40                 | Mexico             | <=50K              |\n",
       "| 32                 | Private            |  34066             | 10th               | 6                  | Married-civ-spouse | Handlers-cleaners  | Husband            | Amer-Indian-Eskimo | Male               |     0              |   0                | 40                 | United-States      | <=50K              |\n",
       "| 40                 | Private            | 154374             | HS-grad            | 9                  | Married-civ-spouse | Machine-op-inspct  | Husband            | White              | Male               |     0              |   0                | 40                 | United-States      | >50K               |\n",
       "| 58                 | Private            | 151910             | HS-grad            | 9                  | Widowed            | Adm-clerical       | Unmarried          | White              | Female             |     0              |   0                | 40                 | United-States      | <=50K              |\n",
       "| 22                 | Private            | 201490             | HS-grad            | 9                  | Never-married      | Adm-clerical       | Own-child          | White              | Male               |     0              |   0                | 20                 | United-States      | <=50K              |\n",
       "| 52                 | Self-emp-inc       | 287927             | HS-grad            | 9                  | Married-civ-spouse | Exec-managerial    | Wife               | White              | Female             | 15024              |   0                | 40                 | United-States      | >50K               |\n",
       "\n"
      ],
      "text/plain": [
       "      age workclass        fnlwgt education educational.num\n",
       "1     25  Private          226802 11th      7              \n",
       "2     38  Private           89814 HS-grad   9              \n",
       "3     34  Private          198693 10th      6              \n",
       "4     29  ?                227026 HS-grad   9              \n",
       "5     55  Private          104996 7th-8th   4              \n",
       "6     65  Private          184454 HS-grad   9              \n",
       "7     26  Private           82091 HS-grad   9              \n",
       "8     58  ?                299831 HS-grad   9              \n",
       "9     48  Private          279724 HS-grad   9              \n",
       "10    43  Private          128354 HS-grad   9              \n",
       "11    37  Private           60548 HS-grad   9              \n",
       "12    72  ?                132015 7th-8th   4              \n",
       "13    45  Self-emp-not-inc 432824 HS-grad   9              \n",
       "14    22  Private          236427 HS-grad   9              \n",
       "15    23  Private          134446 HS-grad   9              \n",
       "16    54  Private           99516 HS-grad   9              \n",
       "17    56  Self-emp-not-inc 186651 11th      7              \n",
       "18    26  Private           43311 HS-grad   9              \n",
       "19    65  ?                191846 HS-grad   9              \n",
       "20    22  Private          248446 5th-6th   3              \n",
       "21    17  Private          269430 10th      6              \n",
       "22    20  Private          257509 HS-grad   9              \n",
       "23    36  Private          465326 HS-grad   9              \n",
       "24    29  Private          103634 11th      7              \n",
       "25    39  Private          290208 7th-8th   4              \n",
       "26    52  Private          201062 11th      7              \n",
       "27    56  Self-emp-inc     131916 HS-grad   9              \n",
       "28    39  Private          280215 HS-grad   9              \n",
       "29    22  Private           54164 HS-grad   9              \n",
       "30    38  Private          219446 9th       5              \n",
       "...   ... ...              ...    ...       ...            \n",
       "22163 25  Private          403788 HS-grad   9              \n",
       "22164 34  Private           60567 11th      7              \n",
       "22165 71  Private          138145 9th       5              \n",
       "22166 47  Private          312088 HS-grad   9              \n",
       "22167 33  Private          182401 10th      6              \n",
       "22168 45  Private          155093 10th      6              \n",
       "22169 32  Private          192965 HS-grad   9              \n",
       "22170 39  Private          107302 HS-grad   9              \n",
       "22171 20  Private          270436 HS-grad   9              \n",
       "22172 66  Federal-gov       47358 10th      6              \n",
       "22173 36  Private          131459 7th-8th   4              \n",
       "22174 57  Local-gov        110417 HS-grad   9              \n",
       "22175 27  Private          177398 HS-grad   9              \n",
       "22176 33  Private          273243 HS-grad   9              \n",
       "22177 58  Private          147707 11th      7              \n",
       "22178 30  Private           77266 HS-grad   9              \n",
       "22179 32  Private          211349 10th      6              \n",
       "22180 31  Private          292592 HS-grad   9              \n",
       "22181 29  Private          125976 HS-grad   9              \n",
       "22182 22  Private          325033 12th      8              \n",
       "22183 30  Private          345898 HS-grad   9              \n",
       "22184 45  State-gov        252208 HS-grad   9              \n",
       "22185 41  ?                202822 HS-grad   9              \n",
       "22186 72  ?                129912 HS-grad   9              \n",
       "22187 43  Private          260761 HS-grad   9              \n",
       "22188 32  Private           34066 10th      6              \n",
       "22189 40  Private          154374 HS-grad   9              \n",
       "22190 58  Private          151910 HS-grad   9              \n",
       "22191 22  Private          201490 HS-grad   9              \n",
       "22192 52  Self-emp-inc     287927 HS-grad   9              \n",
       "      marital.status        occupation        relationship   race              \n",
       "1     Never-married         Machine-op-inspct Own-child      Black             \n",
       "2     Married-civ-spouse    Farming-fishing   Husband        White             \n",
       "3     Never-married         Other-service     Not-in-family  White             \n",
       "4     Never-married         ?                 Unmarried      Black             \n",
       "5     Married-civ-spouse    Craft-repair      Husband        White             \n",
       "6     Married-civ-spouse    Machine-op-inspct Husband        White             \n",
       "7     Never-married         Adm-clerical      Not-in-family  White             \n",
       "8     Married-civ-spouse    ?                 Husband        White             \n",
       "9     Married-civ-spouse    Machine-op-inspct Husband        White             \n",
       "10    Married-civ-spouse    Adm-clerical      Wife           White             \n",
       "11    Widowed               Machine-op-inspct Unmarried      White             \n",
       "12    Divorced              ?                 Not-in-family  White             \n",
       "13    Married-civ-spouse    Craft-repair      Husband        White             \n",
       "14    Never-married         Adm-clerical      Own-child      White             \n",
       "15    Separated             Machine-op-inspct Unmarried      Black             \n",
       "16    Married-civ-spouse    Craft-repair      Husband        White             \n",
       "17    Widowed               Other-service     Unmarried      White             \n",
       "18    Divorced              Exec-managerial   Unmarried      White             \n",
       "19    Married-civ-spouse    ?                 Husband        White             \n",
       "20    Never-married         Priv-house-serv   Not-in-family  White             \n",
       "21    Never-married         Machine-op-inspct Not-in-family  White             \n",
       "22    Never-married         Craft-repair      Own-child      White             \n",
       "23    Married-civ-spouse    Farming-fishing   Husband        White             \n",
       "24    Married-civ-spouse    Other-service     Husband        White             \n",
       "25    Married-civ-spouse    Craft-repair      Husband        White             \n",
       "26    Separated             Priv-house-serv   Not-in-family  Black             \n",
       "27    Widowed               Exec-managerial   Not-in-family  White             \n",
       "28    Divorced              Handlers-cleaners Own-child      Black             \n",
       "29    Never-married         Other-service     Not-in-family  White             \n",
       "30    Married-spouse-absent Exec-managerial   Not-in-family  White             \n",
       "...   ...                   ...               ...            ...               \n",
       "22163 Never-married         Craft-repair      Other-relative Black             \n",
       "22164 Divorced              Transport-moving  Unmarried      White             \n",
       "22165 Married-civ-spouse    Other-service     Husband        White             \n",
       "22166 Married-civ-spouse    Craft-repair      Husband        White             \n",
       "22167 Never-married         Adm-clerical      Not-in-family  Black             \n",
       "22168 Divorced              Other-service     Not-in-family  Black             \n",
       "22169 Separated             Sales             Not-in-family  White             \n",
       "22170 Married-civ-spouse    Prof-specialty    Husband        White             \n",
       "22171 Never-married         Machine-op-inspct Own-child      White             \n",
       "22172 Married-civ-spouse    Craft-repair      Husband        White             \n",
       "22173 Married-civ-spouse    Craft-repair      Husband        White             \n",
       "22174 Married-civ-spouse    Craft-repair      Husband        White             \n",
       "22175 Never-married         Other-service     Unmarried      White             \n",
       "22176 Married-civ-spouse    Craft-repair      Husband        Black             \n",
       "22177 Married-civ-spouse    Sales             Husband        White             \n",
       "22178 Divorced              Transport-moving  Not-in-family  White             \n",
       "22179 Married-civ-spouse    Transport-moving  Husband        White             \n",
       "22180 Married-civ-spouse    Machine-op-inspct Wife           White             \n",
       "22181 Separated             Sales             Unmarried      White             \n",
       "22182 Never-married         Protective-serv   Own-child      Black             \n",
       "22183 Never-married         Craft-repair      Not-in-family  Black             \n",
       "22184 Separated             Adm-clerical      Own-child      White             \n",
       "22185 Separated             ?                 Not-in-family  Black             \n",
       "22186 Married-civ-spouse    ?                 Husband        White             \n",
       "22187 Married-civ-spouse    Machine-op-inspct Husband        White             \n",
       "22188 Married-civ-spouse    Handlers-cleaners Husband        Amer-Indian-Eskimo\n",
       "22189 Married-civ-spouse    Machine-op-inspct Husband        White             \n",
       "22190 Widowed               Adm-clerical      Unmarried      White             \n",
       "22191 Never-married         Adm-clerical      Own-child      White             \n",
       "22192 Married-civ-spouse    Exec-managerial   Wife           White             \n",
       "      gender capital.gain capital.loss hours.per.week native.country     income\n",
       "1     Male       0        0            40             United-States      <=50K \n",
       "2     Male       0        0            50             United-States      <=50K \n",
       "3     Male       0        0            30             United-States      <=50K \n",
       "4     Male       0        0            40             United-States      <=50K \n",
       "5     Male       0        0            10             United-States      <=50K \n",
       "6     Male    6418        0            40             United-States      >50K  \n",
       "7     Female     0        0            39             United-States      <=50K \n",
       "8     Male       0        0            35             United-States      <=50K \n",
       "9     Male    3103        0            48             United-States      >50K  \n",
       "10    Female     0        0            30             United-States      <=50K \n",
       "11    Female     0        0            20             United-States      <=50K \n",
       "12    Female     0        0             6             United-States      <=50K \n",
       "13    Male    7298        0            90             United-States      >50K  \n",
       "14    Male       0        0            20             United-States      <=50K \n",
       "15    Male       0        0            54             United-States      <=50K \n",
       "16    Male       0        0            35             United-States      <=50K \n",
       "17    Female     0        0            50             United-States      <=50K \n",
       "18    Female     0        0            40             United-States      <=50K \n",
       "19    Male       0        0            40             United-States      <=50K \n",
       "20    Male       0        0            50             Guatemala          <=50K \n",
       "21    Male       0        0            40             United-States      <=50K \n",
       "22    Male       0        0            40             United-States      <=50K \n",
       "23    Male       0        0            40             United-States      <=50K \n",
       "24    Male       0        0            40             United-States      <=50K \n",
       "25    Male       0        0            40             Mexico             <=50K \n",
       "26    Female     0        0            18             United-States      <=50K \n",
       "27    Female     0        0            50             United-States      <=50K \n",
       "28    Male       0        0            40             United-States      <=50K \n",
       "29    Male   14084        0            60             United-States      >50K  \n",
       "30    Male       0        0            54             Mexico             <=50K \n",
       "...   ...    ...          ...          ...            ...                ...   \n",
       "22163 Male       0          0          40             United-States      <=50K \n",
       "22164 Male       0        880          60             United-States      <=50K \n",
       "22165 Male       0          0          40             United-States      <=50K \n",
       "22166 Male       0          0          40             United-States      <=50K \n",
       "22167 Male       0          0          40             United-States      <=50K \n",
       "22168 Female     0          0          38             Dominican-Republic <=50K \n",
       "22169 Female     0          0          45             United-States      <=50K \n",
       "22170 Male       0          0          45             ?                  >50K  \n",
       "22171 Male       0          0          40             United-States      <=50K \n",
       "22172 Male    3471          0          40             United-States      <=50K \n",
       "22173 Male       0          0          40             United-States      <=50K \n",
       "22174 Male   99999          0          40             United-States      >50K  \n",
       "22175 Female     0          0          64             United-States      <=50K \n",
       "22176 Male       0          0          40             United-States      <=50K \n",
       "22177 Male       0          0          40             United-States      <=50K \n",
       "22178 Male       0          0          55             United-States      <=50K \n",
       "22179 Male       0          0          40             United-States      <=50K \n",
       "22180 Female     0          0          40             United-States      <=50K \n",
       "22181 Female     0          0          35             United-States      <=50K \n",
       "22182 Male       0          0          35             United-States      <=50K \n",
       "22183 Male       0          0          46             United-States      <=50K \n",
       "22184 Female     0          0          40             United-States      <=50K \n",
       "22185 Female     0          0          32             United-States      <=50K \n",
       "22186 Male       0          0          25             United-States      <=50K \n",
       "22187 Male       0          0          40             Mexico             <=50K \n",
       "22188 Male       0          0          40             United-States      <=50K \n",
       "22189 Male       0          0          40             United-States      >50K  \n",
       "22190 Female     0          0          40             United-States      <=50K \n",
       "22191 Male       0          0          20             United-States      <=50K \n",
       "22192 Female 15024          0          40             United-States      >50K  "
      ]
     },
     "metadata": {},
     "output_type": "display_data"
    }
   ],
   "source": [
    "# filtered the data where educational num is less than \n",
    "# median of eduactional num\n",
    "filter(adult,adult$educational.num<median1) "
   ]
  },
  {
   "cell_type": "code",
   "execution_count": 9,
   "metadata": {
    "scrolled": true
   },
   "outputs": [
    {
     "data": {
      "text/html": [
       "<table>\n",
       "<thead><tr><th scope=col>age</th><th scope=col>workclass</th><th scope=col>fnlwgt</th><th scope=col>education</th><th scope=col>educational.num</th><th scope=col>marital.status</th><th scope=col>occupation</th><th scope=col>relationship</th><th scope=col>race</th><th scope=col>gender</th><th scope=col>capital.gain</th><th scope=col>capital.loss</th><th scope=col>hours.per.week</th><th scope=col>native.country</th><th scope=col>income</th></tr></thead>\n",
       "<tbody>\n",
       "\t<tr><td>25                                                        </td><td><span style=white-space:pre-wrap>Private         </span>  </td><td>226802                                                    </td><td><span style=white-space:pre-wrap>11th        </span>      </td><td> 7                                                        </td><td><span style=white-space:pre-wrap>Never-married     </span></td><td>Machine-op-inspct                                         </td><td><span style=white-space:pre-wrap>Own-child    </span>     </td><td><span style=white-space:pre-wrap>Black             </span></td><td>Male                                                      </td><td><span style=white-space:pre-wrap>   0</span>              </td><td>0                                                         </td><td>40                                                        </td><td>United-States                                             </td><td>&lt;=50K                                                  </td></tr>\n",
       "\t<tr><td>38                                                        </td><td><span style=white-space:pre-wrap>Private         </span>  </td><td> 89814                                                    </td><td><span style=white-space:pre-wrap>HS-grad     </span>      </td><td> 9                                                        </td><td>Married-civ-spouse                                        </td><td><span style=white-space:pre-wrap>Farming-fishing  </span> </td><td><span style=white-space:pre-wrap>Husband      </span>     </td><td><span style=white-space:pre-wrap>White             </span></td><td>Male                                                      </td><td><span style=white-space:pre-wrap>   0</span>              </td><td>0                                                         </td><td>50                                                        </td><td>United-States                                             </td><td>&lt;=50K                                                  </td></tr>\n",
       "\t<tr><td>28                                                        </td><td><span style=white-space:pre-wrap>Local-gov       </span>  </td><td>336951                                                    </td><td><span style=white-space:pre-wrap>Assoc-acdm  </span>      </td><td>12                                                        </td><td>Married-civ-spouse                                        </td><td><span style=white-space:pre-wrap>Protective-serv  </span> </td><td><span style=white-space:pre-wrap>Husband      </span>     </td><td><span style=white-space:pre-wrap>White             </span></td><td>Male                                                      </td><td><span style=white-space:pre-wrap>   0</span>              </td><td>0                                                         </td><td>40                                                        </td><td>United-States                                             </td><td>&gt;50K                                                   </td></tr>\n",
       "\t<tr><td>44                                                        </td><td><span style=white-space:pre-wrap>Private         </span>  </td><td>160323                                                    </td><td>Some-college                                              </td><td>10                                                        </td><td>Married-civ-spouse                                        </td><td>Machine-op-inspct                                         </td><td><span style=white-space:pre-wrap>Husband      </span>     </td><td><span style=white-space:pre-wrap>Black             </span></td><td>Male                                                      </td><td>7688                                                      </td><td>0                                                         </td><td>40                                                        </td><td>United-States                                             </td><td>&gt;50K                                                   </td></tr>\n",
       "\t<tr><td>34                                                        </td><td><span style=white-space:pre-wrap>Private         </span>  </td><td>198693                                                    </td><td><span style=white-space:pre-wrap>10th        </span>      </td><td> 6                                                        </td><td><span style=white-space:pre-wrap>Never-married     </span></td><td><span style=white-space:pre-wrap>Other-service    </span> </td><td>Not-in-family                                             </td><td><span style=white-space:pre-wrap>White             </span></td><td>Male                                                      </td><td><span style=white-space:pre-wrap>   0</span>              </td><td>0                                                         </td><td>30                                                        </td><td>United-States                                             </td><td>&lt;=50K                                                  </td></tr>\n",
       "\t<tr><td>29                                                        </td><td><span style=white-space:pre-wrap>?               </span>  </td><td>227026                                                    </td><td><span style=white-space:pre-wrap>HS-grad     </span>      </td><td> 9                                                        </td><td><span style=white-space:pre-wrap>Never-married     </span></td><td><span style=white-space:pre-wrap>?                </span> </td><td><span style=white-space:pre-wrap>Unmarried    </span>     </td><td><span style=white-space:pre-wrap>Black             </span></td><td>Male                                                      </td><td><span style=white-space:pre-wrap>   0</span>              </td><td>0                                                         </td><td>40                                                        </td><td>United-States                                             </td><td>&lt;=50K                                                  </td></tr>\n",
       "\t<tr><td>63                                                        </td><td>Self-emp-not-inc                                          </td><td>104626                                                    </td><td>Prof-school                                               </td><td>15                                                        </td><td>Married-civ-spouse                                        </td><td><span style=white-space:pre-wrap>Prof-specialty   </span> </td><td><span style=white-space:pre-wrap>Husband      </span>     </td><td><span style=white-space:pre-wrap>White             </span></td><td>Male                                                      </td><td>3103                                                      </td><td>0                                                         </td><td>32                                                        </td><td>United-States                                             </td><td>&gt;50K                                                   </td></tr>\n",
       "\t<tr><td>55                                                        </td><td><span style=white-space:pre-wrap>Private         </span>  </td><td>104996                                                    </td><td><span style=white-space:pre-wrap>7th-8th     </span>      </td><td> 4                                                        </td><td>Married-civ-spouse                                        </td><td><span style=white-space:pre-wrap>Craft-repair     </span> </td><td><span style=white-space:pre-wrap>Husband      </span>     </td><td><span style=white-space:pre-wrap>White             </span></td><td>Male                                                      </td><td><span style=white-space:pre-wrap>   0</span>              </td><td>0                                                         </td><td>10                                                        </td><td>United-States                                             </td><td>&lt;=50K                                                  </td></tr>\n",
       "\t<tr><td>65                                                        </td><td><span style=white-space:pre-wrap>Private         </span>  </td><td>184454                                                    </td><td><span style=white-space:pre-wrap>HS-grad     </span>      </td><td> 9                                                        </td><td>Married-civ-spouse                                        </td><td>Machine-op-inspct                                         </td><td><span style=white-space:pre-wrap>Husband      </span>     </td><td><span style=white-space:pre-wrap>White             </span></td><td>Male                                                      </td><td>6418                                                      </td><td>0                                                         </td><td>40                                                        </td><td>United-States                                             </td><td>&gt;50K                                                   </td></tr>\n",
       "\t<tr><td>36                                                        </td><td><span style=white-space:pre-wrap>Federal-gov     </span>  </td><td>212465                                                    </td><td><span style=white-space:pre-wrap>Bachelors   </span>      </td><td>13                                                        </td><td>Married-civ-spouse                                        </td><td><span style=white-space:pre-wrap>Adm-clerical     </span> </td><td><span style=white-space:pre-wrap>Husband      </span>     </td><td><span style=white-space:pre-wrap>White             </span></td><td>Male                                                      </td><td><span style=white-space:pre-wrap>   0</span>              </td><td>0                                                         </td><td>40                                                        </td><td>United-States                                             </td><td>&lt;=50K                                                  </td></tr>\n",
       "\t<tr><td>58                                                        </td><td><span style=white-space:pre-wrap>?               </span>  </td><td>299831                                                    </td><td><span style=white-space:pre-wrap>HS-grad     </span>      </td><td> 9                                                        </td><td>Married-civ-spouse                                        </td><td><span style=white-space:pre-wrap>?                </span> </td><td><span style=white-space:pre-wrap>Husband      </span>     </td><td><span style=white-space:pre-wrap>White             </span></td><td>Male                                                      </td><td><span style=white-space:pre-wrap>   0</span>              </td><td>0                                                         </td><td>35                                                        </td><td>United-States                                             </td><td>&lt;=50K                                                  </td></tr>\n",
       "\t<tr><td>48                                                        </td><td><span style=white-space:pre-wrap>Private         </span>  </td><td>279724                                                    </td><td><span style=white-space:pre-wrap>HS-grad     </span>      </td><td> 9                                                        </td><td>Married-civ-spouse                                        </td><td>Machine-op-inspct                                         </td><td><span style=white-space:pre-wrap>Husband      </span>     </td><td><span style=white-space:pre-wrap>White             </span></td><td>Male                                                      </td><td>3103                                                      </td><td>0                                                         </td><td>48                                                        </td><td>United-States                                             </td><td>&gt;50K                                                   </td></tr>\n",
       "\t<tr><td>43                                                        </td><td><span style=white-space:pre-wrap>Private         </span>  </td><td>346189                                                    </td><td><span style=white-space:pre-wrap>Masters     </span>      </td><td>14                                                        </td><td>Married-civ-spouse                                        </td><td><span style=white-space:pre-wrap>Exec-managerial  </span> </td><td><span style=white-space:pre-wrap>Husband      </span>     </td><td><span style=white-space:pre-wrap>White             </span></td><td>Male                                                      </td><td><span style=white-space:pre-wrap>   0</span>              </td><td>0                                                         </td><td>50                                                        </td><td>United-States                                             </td><td>&gt;50K                                                   </td></tr>\n",
       "\t<tr><td>20                                                        </td><td><span style=white-space:pre-wrap>State-gov       </span>  </td><td>444554                                                    </td><td>Some-college                                              </td><td>10                                                        </td><td><span style=white-space:pre-wrap>Never-married     </span></td><td><span style=white-space:pre-wrap>Other-service    </span> </td><td><span style=white-space:pre-wrap>Own-child    </span>     </td><td><span style=white-space:pre-wrap>White             </span></td><td>Male                                                      </td><td><span style=white-space:pre-wrap>   0</span>              </td><td>0                                                         </td><td>25                                                        </td><td>United-States                                             </td><td>&lt;=50K                                                  </td></tr>\n",
       "\t<tr><td>40                                                       </td><td><span style=white-space:pre-wrap>Private         </span> </td><td> 85019                                                   </td><td><span style=white-space:pre-wrap>Doctorate   </span>     </td><td>16                                                       </td><td>Married-civ-spouse                                       </td><td><span style=white-space:pre-wrap>Prof-specialty   </span></td><td><span style=white-space:pre-wrap>Husband      </span>    </td><td>Asian-Pac-Islander                                       </td><td>Male                                                     </td><td><span style=white-space:pre-wrap>   0</span>             </td><td>0                                                        </td><td>45                                                       </td><td><span style=white-space:pre-wrap>?            </span>    </td><td>&gt;50K                                                  </td></tr>\n",
       "\t<tr><td>34                                                        </td><td><span style=white-space:pre-wrap>Private         </span>  </td><td>107914                                                    </td><td><span style=white-space:pre-wrap>Bachelors   </span>      </td><td>13                                                        </td><td>Married-civ-spouse                                        </td><td><span style=white-space:pre-wrap>Tech-support     </span> </td><td><span style=white-space:pre-wrap>Husband      </span>     </td><td><span style=white-space:pre-wrap>White             </span></td><td>Male                                                      </td><td><span style=white-space:pre-wrap>   0</span>              </td><td>0                                                         </td><td>47                                                        </td><td>United-States                                             </td><td>&gt;50K                                                   </td></tr>\n",
       "\t<tr><td>25                                                        </td><td><span style=white-space:pre-wrap>Private         </span>  </td><td>220931                                                    </td><td><span style=white-space:pre-wrap>Bachelors   </span>      </td><td>13                                                        </td><td><span style=white-space:pre-wrap>Never-married     </span></td><td><span style=white-space:pre-wrap>Prof-specialty   </span> </td><td>Not-in-family                                             </td><td><span style=white-space:pre-wrap>White             </span></td><td>Male                                                      </td><td><span style=white-space:pre-wrap>   0</span>              </td><td>0                                                         </td><td>43                                                        </td><td><span style=white-space:pre-wrap>Peru         </span>     </td><td>&lt;=50K                                                  </td></tr>\n",
       "\t<tr><td>25                                                        </td><td><span style=white-space:pre-wrap>Private         </span>  </td><td>205947                                                    </td><td><span style=white-space:pre-wrap>Bachelors   </span>      </td><td>13                                                        </td><td>Married-civ-spouse                                        </td><td><span style=white-space:pre-wrap>Prof-specialty   </span> </td><td><span style=white-space:pre-wrap>Husband      </span>     </td><td><span style=white-space:pre-wrap>White             </span></td><td>Male                                                      </td><td><span style=white-space:pre-wrap>   0</span>              </td><td>0                                                         </td><td>40                                                        </td><td>United-States                                             </td><td>&lt;=50K                                                  </td></tr>\n",
       "\t<tr><td>45                                                        </td><td>Self-emp-not-inc                                          </td><td>432824                                                    </td><td><span style=white-space:pre-wrap>HS-grad     </span>      </td><td> 9                                                        </td><td>Married-civ-spouse                                        </td><td><span style=white-space:pre-wrap>Craft-repair     </span> </td><td><span style=white-space:pre-wrap>Husband      </span>     </td><td><span style=white-space:pre-wrap>White             </span></td><td>Male                                                      </td><td>7298                                                      </td><td>0                                                         </td><td>90                                                        </td><td>United-States                                             </td><td>&gt;50K                                                   </td></tr>\n",
       "\t<tr><td>22                                                        </td><td><span style=white-space:pre-wrap>Private         </span>  </td><td>236427                                                    </td><td><span style=white-space:pre-wrap>HS-grad     </span>      </td><td> 9                                                        </td><td><span style=white-space:pre-wrap>Never-married     </span></td><td><span style=white-space:pre-wrap>Adm-clerical     </span> </td><td><span style=white-space:pre-wrap>Own-child    </span>     </td><td><span style=white-space:pre-wrap>White             </span></td><td>Male                                                      </td><td><span style=white-space:pre-wrap>   0</span>              </td><td>0                                                         </td><td>20                                                        </td><td>United-States                                             </td><td>&lt;=50K                                                  </td></tr>\n",
       "\t<tr><td>23                                                        </td><td><span style=white-space:pre-wrap>Private         </span>  </td><td>134446                                                    </td><td><span style=white-space:pre-wrap>HS-grad     </span>      </td><td> 9                                                        </td><td><span style=white-space:pre-wrap>Separated         </span></td><td>Machine-op-inspct                                         </td><td><span style=white-space:pre-wrap>Unmarried    </span>     </td><td><span style=white-space:pre-wrap>Black             </span></td><td>Male                                                      </td><td><span style=white-space:pre-wrap>   0</span>              </td><td>0                                                         </td><td>54                                                        </td><td>United-States                                             </td><td>&lt;=50K                                                  </td></tr>\n",
       "\t<tr><td>54                                                        </td><td><span style=white-space:pre-wrap>Private         </span>  </td><td> 99516                                                    </td><td><span style=white-space:pre-wrap>HS-grad     </span>      </td><td> 9                                                        </td><td>Married-civ-spouse                                        </td><td><span style=white-space:pre-wrap>Craft-repair     </span> </td><td><span style=white-space:pre-wrap>Husband      </span>     </td><td><span style=white-space:pre-wrap>White             </span></td><td>Male                                                      </td><td><span style=white-space:pre-wrap>   0</span>              </td><td>0                                                         </td><td>35                                                        </td><td>United-States                                             </td><td>&lt;=50K                                                  </td></tr>\n",
       "\t<tr><td>32                                                        </td><td>Self-emp-not-inc                                          </td><td>109282                                                    </td><td>Some-college                                              </td><td>10                                                        </td><td><span style=white-space:pre-wrap>Never-married     </span></td><td><span style=white-space:pre-wrap>Prof-specialty   </span> </td><td>Not-in-family                                             </td><td><span style=white-space:pre-wrap>White             </span></td><td>Male                                                      </td><td><span style=white-space:pre-wrap>   0</span>              </td><td>0                                                         </td><td>60                                                        </td><td>United-States                                             </td><td>&lt;=50K                                                  </td></tr>\n",
       "\t<tr><td>46                                                        </td><td><span style=white-space:pre-wrap>State-gov       </span>  </td><td>106444                                                    </td><td>Some-college                                              </td><td>10                                                        </td><td>Married-civ-spouse                                        </td><td><span style=white-space:pre-wrap>Exec-managerial  </span> </td><td><span style=white-space:pre-wrap>Husband      </span>     </td><td><span style=white-space:pre-wrap>Black             </span></td><td>Male                                                      </td><td>7688                                                      </td><td>0                                                         </td><td>38                                                        </td><td>United-States                                             </td><td>&gt;50K                                                   </td></tr>\n",
       "\t<tr><td>24                                                        </td><td>Self-emp-not-inc                                          </td><td>188274                                                    </td><td><span style=white-space:pre-wrap>Bachelors   </span>      </td><td>13                                                        </td><td><span style=white-space:pre-wrap>Never-married     </span></td><td><span style=white-space:pre-wrap>Sales            </span> </td><td>Not-in-family                                             </td><td><span style=white-space:pre-wrap>White             </span></td><td>Male                                                      </td><td><span style=white-space:pre-wrap>   0</span>              </td><td>0                                                         </td><td>50                                                        </td><td>United-States                                             </td><td>&lt;=50K                                                  </td></tr>\n",
       "\t<tr><td>23                                                        </td><td><span style=white-space:pre-wrap>Local-gov       </span>  </td><td>258120                                                    </td><td>Some-college                                              </td><td>10                                                        </td><td>Married-civ-spouse                                        </td><td><span style=white-space:pre-wrap>Protective-serv  </span> </td><td><span style=white-space:pre-wrap>Husband      </span>     </td><td><span style=white-space:pre-wrap>White             </span></td><td>Male                                                      </td><td><span style=white-space:pre-wrap>   0</span>              </td><td>0                                                         </td><td>40                                                        </td><td>United-States                                             </td><td>&lt;=50K                                                  </td></tr>\n",
       "\t<tr><td>65                                                        </td><td><span style=white-space:pre-wrap>?               </span>  </td><td>191846                                                    </td><td><span style=white-space:pre-wrap>HS-grad     </span>      </td><td> 9                                                        </td><td>Married-civ-spouse                                        </td><td><span style=white-space:pre-wrap>?                </span> </td><td><span style=white-space:pre-wrap>Husband      </span>     </td><td><span style=white-space:pre-wrap>White             </span></td><td>Male                                                      </td><td><span style=white-space:pre-wrap>   0</span>              </td><td>0                                                         </td><td>40                                                        </td><td>United-States                                             </td><td>&lt;=50K                                                  </td></tr>\n",
       "\t<tr><td>36                                                        </td><td><span style=white-space:pre-wrap>Local-gov       </span>  </td><td>403681                                                    </td><td><span style=white-space:pre-wrap>Bachelors   </span>      </td><td>13                                                        </td><td>Married-civ-spouse                                        </td><td><span style=white-space:pre-wrap>Prof-specialty   </span> </td><td><span style=white-space:pre-wrap>Husband      </span>     </td><td><span style=white-space:pre-wrap>White             </span></td><td>Male                                                      </td><td><span style=white-space:pre-wrap>   0</span>              </td><td>0                                                         </td><td>40                                                        </td><td>United-States                                             </td><td>&gt;50K                                                   </td></tr>\n",
       "\t<tr><td>22                                                        </td><td><span style=white-space:pre-wrap>Private         </span>  </td><td>248446                                                    </td><td><span style=white-space:pre-wrap>5th-6th     </span>      </td><td> 3                                                        </td><td><span style=white-space:pre-wrap>Never-married     </span></td><td><span style=white-space:pre-wrap>Priv-house-serv  </span> </td><td>Not-in-family                                             </td><td><span style=white-space:pre-wrap>White             </span></td><td>Male                                                      </td><td><span style=white-space:pre-wrap>   0</span>              </td><td>0                                                         </td><td>50                                                        </td><td><span style=white-space:pre-wrap>Guatemala    </span>     </td><td>&lt;=50K                                                  </td></tr>\n",
       "\t<tr><td>17                                                        </td><td><span style=white-space:pre-wrap>Private         </span>  </td><td>269430                                                    </td><td><span style=white-space:pre-wrap>10th        </span>      </td><td> 6                                                        </td><td><span style=white-space:pre-wrap>Never-married     </span></td><td>Machine-op-inspct                                         </td><td>Not-in-family                                             </td><td><span style=white-space:pre-wrap>White             </span></td><td>Male                                                      </td><td><span style=white-space:pre-wrap>   0</span>              </td><td>0                                                         </td><td>40                                                        </td><td>United-States                                             </td><td>&lt;=50K                                                  </td></tr>\n",
       "\t<tr><td>...</td><td>...</td><td>...</td><td>...</td><td>...</td><td>...</td><td>...</td><td>...</td><td>...</td><td>...</td><td>...</td><td>...</td><td>...</td><td>...</td><td>...</td></tr>\n",
       "\t<tr><td>38                                                        </td><td><span style=white-space:pre-wrap>Private         </span>  </td><td> 32916                                                    </td><td><span style=white-space:pre-wrap>Assoc-voc   </span>      </td><td>11                                                        </td><td>Married-civ-spouse                                        </td><td><span style=white-space:pre-wrap>Craft-repair     </span> </td><td><span style=white-space:pre-wrap>Husband      </span>     </td><td><span style=white-space:pre-wrap>White             </span></td><td>Male                                                      </td><td><span style=white-space:pre-wrap>    0</span>             </td><td>0                                                         </td><td>55                                                        </td><td>United-States                                             </td><td>&gt;50K                                                   </td></tr>\n",
       "\t<tr><td>50                                                        </td><td><span style=white-space:pre-wrap>Private         </span>  </td><td>302372                                                    </td><td><span style=white-space:pre-wrap>Bachelors   </span>      </td><td>13                                                        </td><td>Married-civ-spouse                                        </td><td><span style=white-space:pre-wrap>Prof-specialty   </span> </td><td><span style=white-space:pre-wrap>Husband      </span>     </td><td><span style=white-space:pre-wrap>White             </span></td><td>Male                                                      </td><td><span style=white-space:pre-wrap>    0</span>             </td><td>0                                                         </td><td>40                                                        </td><td>United-States                                             </td><td>&lt;=50K                                                  </td></tr>\n",
       "\t<tr><td>39                                                        </td><td><span style=white-space:pre-wrap>Private         </span>  </td><td>107302                                                    </td><td><span style=white-space:pre-wrap>HS-grad     </span>      </td><td> 9                                                        </td><td>Married-civ-spouse                                        </td><td><span style=white-space:pre-wrap>Prof-specialty   </span> </td><td><span style=white-space:pre-wrap>Husband      </span>     </td><td><span style=white-space:pre-wrap>White             </span></td><td>Male                                                      </td><td><span style=white-space:pre-wrap>    0</span>             </td><td>0                                                         </td><td>45                                                        </td><td><span style=white-space:pre-wrap>?            </span>     </td><td>&gt;50K                                                   </td></tr>\n",
       "\t<tr><td>20                                                        </td><td><span style=white-space:pre-wrap>Private         </span>  </td><td>270436                                                    </td><td><span style=white-space:pre-wrap>HS-grad     </span>      </td><td> 9                                                        </td><td><span style=white-space:pre-wrap>Never-married     </span></td><td>Machine-op-inspct                                         </td><td><span style=white-space:pre-wrap>Own-child    </span>     </td><td><span style=white-space:pre-wrap>White             </span></td><td>Male                                                      </td><td><span style=white-space:pre-wrap>    0</span>             </td><td>0                                                         </td><td>40                                                        </td><td>United-States                                             </td><td>&lt;=50K                                                  </td></tr>\n",
       "\t<tr><td>40                                                        </td><td><span style=white-space:pre-wrap>Private         </span>  </td><td>142657                                                    </td><td><span style=white-space:pre-wrap>Assoc-voc   </span>      </td><td>11                                                        </td><td>Married-civ-spouse                                        </td><td><span style=white-space:pre-wrap>Craft-repair     </span> </td><td><span style=white-space:pre-wrap>Husband      </span>     </td><td><span style=white-space:pre-wrap>Black             </span></td><td>Male                                                      </td><td><span style=white-space:pre-wrap>    0</span>             </td><td>0                                                         </td><td>45                                                        </td><td>United-States                                             </td><td>&lt;=50K                                                  </td></tr>\n",
       "\t<tr><td>66                                                        </td><td><span style=white-space:pre-wrap>Federal-gov     </span>  </td><td> 47358                                                    </td><td><span style=white-space:pre-wrap>10th        </span>      </td><td> 6                                                        </td><td>Married-civ-spouse                                        </td><td><span style=white-space:pre-wrap>Craft-repair     </span> </td><td><span style=white-space:pre-wrap>Husband      </span>     </td><td><span style=white-space:pre-wrap>White             </span></td><td>Male                                                      </td><td> 3471                                                     </td><td>0                                                         </td><td>40                                                        </td><td>United-States                                             </td><td>&lt;=50K                                                  </td></tr>\n",
       "\t<tr><td>36                                                        </td><td><span style=white-space:pre-wrap>Private         </span>  </td><td>131459                                                    </td><td><span style=white-space:pre-wrap>7th-8th     </span>      </td><td> 4                                                        </td><td>Married-civ-spouse                                        </td><td><span style=white-space:pre-wrap>Craft-repair     </span> </td><td><span style=white-space:pre-wrap>Husband      </span>     </td><td><span style=white-space:pre-wrap>White             </span></td><td>Male                                                      </td><td><span style=white-space:pre-wrap>    0</span>             </td><td>0                                                         </td><td>40                                                        </td><td>United-States                                             </td><td>&lt;=50K                                                  </td></tr>\n",
       "\t<tr><td>57                                                        </td><td><span style=white-space:pre-wrap>Local-gov       </span>  </td><td>110417                                                    </td><td><span style=white-space:pre-wrap>HS-grad     </span>      </td><td> 9                                                        </td><td>Married-civ-spouse                                        </td><td><span style=white-space:pre-wrap>Craft-repair     </span> </td><td><span style=white-space:pre-wrap>Husband      </span>     </td><td><span style=white-space:pre-wrap>White             </span></td><td>Male                                                      </td><td>99999                                                     </td><td>0                                                         </td><td>40                                                        </td><td>United-States                                             </td><td>&gt;50K                                                   </td></tr>\n",
       "\t<tr><td>46                                                        </td><td><span style=white-space:pre-wrap>Private         </span>  </td><td>364548                                                    </td><td>Some-college                                              </td><td>10                                                        </td><td>Married-civ-spouse                                        </td><td><span style=white-space:pre-wrap>Exec-managerial  </span> </td><td><span style=white-space:pre-wrap>Husband      </span>     </td><td><span style=white-space:pre-wrap>White             </span></td><td>Male                                                      </td><td><span style=white-space:pre-wrap>    0</span>             </td><td>0                                                         </td><td>48                                                        </td><td>United-States                                             </td><td>&gt;50K                                                   </td></tr>\n",
       "\t<tr><td>33                                                        </td><td><span style=white-space:pre-wrap>Private         </span>  </td><td>273243                                                    </td><td><span style=white-space:pre-wrap>HS-grad     </span>      </td><td> 9                                                        </td><td>Married-civ-spouse                                        </td><td><span style=white-space:pre-wrap>Craft-repair     </span> </td><td><span style=white-space:pre-wrap>Husband      </span>     </td><td><span style=white-space:pre-wrap>Black             </span></td><td>Male                                                      </td><td><span style=white-space:pre-wrap>    0</span>             </td><td>0                                                         </td><td>40                                                        </td><td>United-States                                             </td><td>&lt;=50K                                                  </td></tr>\n",
       "\t<tr><td>58                                                        </td><td><span style=white-space:pre-wrap>Private         </span>  </td><td>147707                                                    </td><td><span style=white-space:pre-wrap>11th        </span>      </td><td> 7                                                        </td><td>Married-civ-spouse                                        </td><td><span style=white-space:pre-wrap>Sales            </span> </td><td><span style=white-space:pre-wrap>Husband      </span>     </td><td><span style=white-space:pre-wrap>White             </span></td><td>Male                                                      </td><td><span style=white-space:pre-wrap>    0</span>             </td><td>0                                                         </td><td>40                                                        </td><td>United-States                                             </td><td>&lt;=50K                                                  </td></tr>\n",
       "\t<tr><td>30                                                        </td><td><span style=white-space:pre-wrap>Private         </span>  </td><td> 77266                                                    </td><td><span style=white-space:pre-wrap>HS-grad     </span>      </td><td> 9                                                        </td><td><span style=white-space:pre-wrap>Divorced          </span></td><td>Transport-moving                                          </td><td>Not-in-family                                             </td><td><span style=white-space:pre-wrap>White             </span></td><td>Male                                                      </td><td><span style=white-space:pre-wrap>    0</span>             </td><td>0                                                         </td><td>55                                                        </td><td>United-States                                             </td><td>&lt;=50K                                                  </td></tr>\n",
       "\t<tr><td>32                                                        </td><td><span style=white-space:pre-wrap>Private         </span>  </td><td>211349                                                    </td><td><span style=white-space:pre-wrap>10th        </span>      </td><td> 6                                                        </td><td>Married-civ-spouse                                        </td><td>Transport-moving                                          </td><td><span style=white-space:pre-wrap>Husband      </span>     </td><td><span style=white-space:pre-wrap>White             </span></td><td>Male                                                      </td><td><span style=white-space:pre-wrap>    0</span>             </td><td>0                                                         </td><td>40                                                        </td><td>United-States                                             </td><td>&lt;=50K                                                  </td></tr>\n",
       "\t<tr><td>22                                                        </td><td><span style=white-space:pre-wrap>Private         </span>  </td><td>203715                                                    </td><td>Some-college                                              </td><td>10                                                        </td><td><span style=white-space:pre-wrap>Never-married     </span></td><td><span style=white-space:pre-wrap>Adm-clerical     </span> </td><td><span style=white-space:pre-wrap>Own-child    </span>     </td><td><span style=white-space:pre-wrap>White             </span></td><td>Male                                                      </td><td><span style=white-space:pre-wrap>    0</span>             </td><td>0                                                         </td><td>40                                                        </td><td>United-States                                             </td><td>&lt;=50K                                                  </td></tr>\n",
       "\t<tr><td>34                                                        </td><td><span style=white-space:pre-wrap>Private         </span>  </td><td>204461                                                    </td><td><span style=white-space:pre-wrap>Doctorate   </span>      </td><td>16                                                        </td><td>Married-civ-spouse                                        </td><td><span style=white-space:pre-wrap>Prof-specialty   </span> </td><td><span style=white-space:pre-wrap>Husband      </span>     </td><td><span style=white-space:pre-wrap>White             </span></td><td>Male                                                      </td><td><span style=white-space:pre-wrap>    0</span>             </td><td>0                                                         </td><td>60                                                        </td><td>United-States                                             </td><td>&gt;50K                                                   </td></tr>\n",
       "\t<tr><td>54                                                       </td><td><span style=white-space:pre-wrap>Private         </span> </td><td>337992                                                   </td><td><span style=white-space:pre-wrap>Bachelors   </span>     </td><td>13                                                       </td><td>Married-civ-spouse                                       </td><td><span style=white-space:pre-wrap>Exec-managerial  </span></td><td><span style=white-space:pre-wrap>Husband      </span>    </td><td>Asian-Pac-Islander                                       </td><td>Male                                                     </td><td><span style=white-space:pre-wrap>    0</span>            </td><td>0                                                        </td><td>50                                                       </td><td><span style=white-space:pre-wrap>Japan        </span>    </td><td>&gt;50K                                                  </td></tr>\n",
       "\t<tr><td>22                                                        </td><td><span style=white-space:pre-wrap>Private         </span>  </td><td>325033                                                    </td><td><span style=white-space:pre-wrap>12th        </span>      </td><td> 8                                                        </td><td><span style=white-space:pre-wrap>Never-married     </span></td><td><span style=white-space:pre-wrap>Protective-serv  </span> </td><td><span style=white-space:pre-wrap>Own-child    </span>     </td><td><span style=white-space:pre-wrap>Black             </span></td><td>Male                                                      </td><td><span style=white-space:pre-wrap>    0</span>             </td><td>0                                                         </td><td>35                                                        </td><td>United-States                                             </td><td>&lt;=50K                                                  </td></tr>\n",
       "\t<tr><td>30                                                        </td><td><span style=white-space:pre-wrap>Private         </span>  </td><td>345898                                                    </td><td><span style=white-space:pre-wrap>HS-grad     </span>      </td><td> 9                                                        </td><td><span style=white-space:pre-wrap>Never-married     </span></td><td><span style=white-space:pre-wrap>Craft-repair     </span> </td><td>Not-in-family                                             </td><td><span style=white-space:pre-wrap>Black             </span></td><td>Male                                                      </td><td><span style=white-space:pre-wrap>    0</span>             </td><td>0                                                         </td><td>46                                                        </td><td>United-States                                             </td><td>&lt;=50K                                                  </td></tr>\n",
       "\t<tr><td>71                                                        </td><td><span style=white-space:pre-wrap>?               </span>  </td><td>287372                                                    </td><td><span style=white-space:pre-wrap>Doctorate   </span>      </td><td>16                                                        </td><td>Married-civ-spouse                                        </td><td><span style=white-space:pre-wrap>?                </span> </td><td><span style=white-space:pre-wrap>Husband      </span>     </td><td><span style=white-space:pre-wrap>White             </span></td><td>Male                                                      </td><td><span style=white-space:pre-wrap>    0</span>             </td><td>0                                                         </td><td>10                                                        </td><td>United-States                                             </td><td>&gt;50K                                                   </td></tr>\n",
       "\t<tr><td>72                                                        </td><td><span style=white-space:pre-wrap>?               </span>  </td><td>129912                                                    </td><td><span style=white-space:pre-wrap>HS-grad     </span>      </td><td> 9                                                        </td><td>Married-civ-spouse                                        </td><td><span style=white-space:pre-wrap>?                </span> </td><td><span style=white-space:pre-wrap>Husband      </span>     </td><td><span style=white-space:pre-wrap>White             </span></td><td>Male                                                      </td><td><span style=white-space:pre-wrap>    0</span>             </td><td>0                                                         </td><td>25                                                        </td><td>United-States                                             </td><td>&lt;=50K                                                  </td></tr>\n",
       "\t<tr><td>43                                                        </td><td><span style=white-space:pre-wrap>Private         </span>  </td><td>260761                                                    </td><td><span style=white-space:pre-wrap>HS-grad     </span>      </td><td> 9                                                        </td><td>Married-civ-spouse                                        </td><td>Machine-op-inspct                                         </td><td><span style=white-space:pre-wrap>Husband      </span>     </td><td><span style=white-space:pre-wrap>White             </span></td><td>Male                                                      </td><td><span style=white-space:pre-wrap>    0</span>             </td><td>0                                                         </td><td>40                                                        </td><td><span style=white-space:pre-wrap>Mexico       </span>     </td><td>&lt;=50K                                                  </td></tr>\n",
       "\t<tr><td>65                                                        </td><td>Self-emp-not-inc                                          </td><td> 99359                                                    </td><td>Prof-school                                               </td><td>15                                                        </td><td><span style=white-space:pre-wrap>Never-married     </span></td><td><span style=white-space:pre-wrap>Prof-specialty   </span> </td><td>Not-in-family                                             </td><td><span style=white-space:pre-wrap>White             </span></td><td>Male                                                      </td><td> 1086                                                     </td><td>0                                                         </td><td>60                                                        </td><td>United-States                                             </td><td>&lt;=50K                                                  </td></tr>\n",
       "\t<tr><td>43                                                        </td><td>Self-emp-not-inc                                          </td><td> 27242                                                    </td><td>Some-college                                              </td><td>10                                                        </td><td>Married-civ-spouse                                        </td><td><span style=white-space:pre-wrap>Craft-repair     </span> </td><td><span style=white-space:pre-wrap>Husband      </span>     </td><td><span style=white-space:pre-wrap>White             </span></td><td>Male                                                      </td><td><span style=white-space:pre-wrap>    0</span>             </td><td>0                                                         </td><td>50                                                        </td><td>United-States                                             </td><td>&lt;=50K                                                  </td></tr>\n",
       "\t<tr><td>32                                                      </td><td><span style=white-space:pre-wrap>Private         </span></td><td> 34066                                                  </td><td><span style=white-space:pre-wrap>10th        </span>    </td><td> 6                                                      </td><td>Married-civ-spouse                                      </td><td>Handlers-cleaners                                       </td><td><span style=white-space:pre-wrap>Husband      </span>   </td><td>Amer-Indian-Eskimo                                      </td><td>Male                                                    </td><td><span style=white-space:pre-wrap>    0</span>           </td><td>0                                                       </td><td>40                                                      </td><td>United-States                                           </td><td>&lt;=50K                                                </td></tr>\n",
       "\t<tr><td>43                                                        </td><td><span style=white-space:pre-wrap>Private         </span>  </td><td> 84661                                                    </td><td><span style=white-space:pre-wrap>Assoc-voc   </span>      </td><td>11                                                        </td><td>Married-civ-spouse                                        </td><td><span style=white-space:pre-wrap>Sales            </span> </td><td><span style=white-space:pre-wrap>Husband      </span>     </td><td><span style=white-space:pre-wrap>White             </span></td><td>Male                                                      </td><td><span style=white-space:pre-wrap>    0</span>             </td><td>0                                                         </td><td>45                                                        </td><td>United-States                                             </td><td>&lt;=50K                                                  </td></tr>\n",
       "\t<tr><td>32                                                        </td><td><span style=white-space:pre-wrap>Private         </span>  </td><td>116138                                                    </td><td><span style=white-space:pre-wrap>Masters     </span>      </td><td>14                                                        </td><td><span style=white-space:pre-wrap>Never-married     </span></td><td><span style=white-space:pre-wrap>Tech-support     </span> </td><td>Not-in-family                                             </td><td>Asian-Pac-Islander                                        </td><td>Male                                                      </td><td><span style=white-space:pre-wrap>    0</span>             </td><td>0                                                         </td><td>11                                                        </td><td><span style=white-space:pre-wrap>Taiwan       </span>     </td><td>&lt;=50K                                                  </td></tr>\n",
       "\t<tr><td>53                                                        </td><td><span style=white-space:pre-wrap>Private         </span>  </td><td>321865                                                    </td><td><span style=white-space:pre-wrap>Masters     </span>      </td><td>14                                                        </td><td>Married-civ-spouse                                        </td><td><span style=white-space:pre-wrap>Exec-managerial  </span> </td><td><span style=white-space:pre-wrap>Husband      </span>     </td><td><span style=white-space:pre-wrap>White             </span></td><td>Male                                                      </td><td><span style=white-space:pre-wrap>    0</span>             </td><td>0                                                         </td><td>40                                                        </td><td>United-States                                             </td><td>&gt;50K                                                   </td></tr>\n",
       "\t<tr><td>22                                                        </td><td><span style=white-space:pre-wrap>Private         </span>  </td><td>310152                                                    </td><td>Some-college                                              </td><td>10                                                        </td><td><span style=white-space:pre-wrap>Never-married     </span></td><td><span style=white-space:pre-wrap>Protective-serv  </span> </td><td>Not-in-family                                             </td><td><span style=white-space:pre-wrap>White             </span></td><td>Male                                                      </td><td><span style=white-space:pre-wrap>    0</span>             </td><td>0                                                         </td><td>40                                                        </td><td>United-States                                             </td><td>&lt;=50K                                                  </td></tr>\n",
       "\t<tr><td>40                                                        </td><td><span style=white-space:pre-wrap>Private         </span>  </td><td>154374                                                    </td><td><span style=white-space:pre-wrap>HS-grad     </span>      </td><td> 9                                                        </td><td>Married-civ-spouse                                        </td><td>Machine-op-inspct                                         </td><td><span style=white-space:pre-wrap>Husband      </span>     </td><td><span style=white-space:pre-wrap>White             </span></td><td>Male                                                      </td><td><span style=white-space:pre-wrap>    0</span>             </td><td>0                                                         </td><td>40                                                        </td><td>United-States                                             </td><td>&gt;50K                                                   </td></tr>\n",
       "\t<tr><td>22                                                        </td><td><span style=white-space:pre-wrap>Private         </span>  </td><td>201490                                                    </td><td><span style=white-space:pre-wrap>HS-grad     </span>      </td><td> 9                                                        </td><td><span style=white-space:pre-wrap>Never-married     </span></td><td><span style=white-space:pre-wrap>Adm-clerical     </span> </td><td><span style=white-space:pre-wrap>Own-child    </span>     </td><td><span style=white-space:pre-wrap>White             </span></td><td>Male                                                      </td><td><span style=white-space:pre-wrap>    0</span>             </td><td>0                                                         </td><td>20                                                        </td><td>United-States                                             </td><td>&lt;=50K                                                  </td></tr>\n",
       "</tbody>\n",
       "</table>\n"
      ],
      "text/latex": [
       "\\begin{tabular}{r|lllllllllllllll}\n",
       " age & workclass & fnlwgt & education & educational.num & marital.status & occupation & relationship & race & gender & capital.gain & capital.loss & hours.per.week & native.country & income\\\\\n",
       "\\hline\n",
       "\t 25                 & Private            & 226802             & 11th               &  7                 & Never-married      & Machine-op-inspct  & Own-child          & Black              & Male               &    0               & 0                  & 40                 & United-States      & <=50K             \\\\\n",
       "\t 38                 & Private            &  89814             & HS-grad            &  9                 & Married-civ-spouse & Farming-fishing    & Husband            & White              & Male               &    0               & 0                  & 50                 & United-States      & <=50K             \\\\\n",
       "\t 28                 & Local-gov          & 336951             & Assoc-acdm         & 12                 & Married-civ-spouse & Protective-serv    & Husband            & White              & Male               &    0               & 0                  & 40                 & United-States      & >50K              \\\\\n",
       "\t 44                 & Private            & 160323             & Some-college       & 10                 & Married-civ-spouse & Machine-op-inspct  & Husband            & Black              & Male               & 7688               & 0                  & 40                 & United-States      & >50K              \\\\\n",
       "\t 34                 & Private            & 198693             & 10th               &  6                 & Never-married      & Other-service      & Not-in-family      & White              & Male               &    0               & 0                  & 30                 & United-States      & <=50K             \\\\\n",
       "\t 29                 & ?                  & 227026             & HS-grad            &  9                 & Never-married      & ?                  & Unmarried          & Black              & Male               &    0               & 0                  & 40                 & United-States      & <=50K             \\\\\n",
       "\t 63                 & Self-emp-not-inc   & 104626             & Prof-school        & 15                 & Married-civ-spouse & Prof-specialty     & Husband            & White              & Male               & 3103               & 0                  & 32                 & United-States      & >50K              \\\\\n",
       "\t 55                 & Private            & 104996             & 7th-8th            &  4                 & Married-civ-spouse & Craft-repair       & Husband            & White              & Male               &    0               & 0                  & 10                 & United-States      & <=50K             \\\\\n",
       "\t 65                 & Private            & 184454             & HS-grad            &  9                 & Married-civ-spouse & Machine-op-inspct  & Husband            & White              & Male               & 6418               & 0                  & 40                 & United-States      & >50K              \\\\\n",
       "\t 36                 & Federal-gov        & 212465             & Bachelors          & 13                 & Married-civ-spouse & Adm-clerical       & Husband            & White              & Male               &    0               & 0                  & 40                 & United-States      & <=50K             \\\\\n",
       "\t 58                 & ?                  & 299831             & HS-grad            &  9                 & Married-civ-spouse & ?                  & Husband            & White              & Male               &    0               & 0                  & 35                 & United-States      & <=50K             \\\\\n",
       "\t 48                 & Private            & 279724             & HS-grad            &  9                 & Married-civ-spouse & Machine-op-inspct  & Husband            & White              & Male               & 3103               & 0                  & 48                 & United-States      & >50K              \\\\\n",
       "\t 43                 & Private            & 346189             & Masters            & 14                 & Married-civ-spouse & Exec-managerial    & Husband            & White              & Male               &    0               & 0                  & 50                 & United-States      & >50K              \\\\\n",
       "\t 20                 & State-gov          & 444554             & Some-college       & 10                 & Never-married      & Other-service      & Own-child          & White              & Male               &    0               & 0                  & 25                 & United-States      & <=50K             \\\\\n",
       "\t 40                 & Private            &  85019             & Doctorate          & 16                 & Married-civ-spouse & Prof-specialty     & Husband            & Asian-Pac-Islander & Male               &    0               & 0                  & 45                 & ?                  & >50K              \\\\\n",
       "\t 34                 & Private            & 107914             & Bachelors          & 13                 & Married-civ-spouse & Tech-support       & Husband            & White              & Male               &    0               & 0                  & 47                 & United-States      & >50K              \\\\\n",
       "\t 25                 & Private            & 220931             & Bachelors          & 13                 & Never-married      & Prof-specialty     & Not-in-family      & White              & Male               &    0               & 0                  & 43                 & Peru               & <=50K             \\\\\n",
       "\t 25                 & Private            & 205947             & Bachelors          & 13                 & Married-civ-spouse & Prof-specialty     & Husband            & White              & Male               &    0               & 0                  & 40                 & United-States      & <=50K             \\\\\n",
       "\t 45                 & Self-emp-not-inc   & 432824             & HS-grad            &  9                 & Married-civ-spouse & Craft-repair       & Husband            & White              & Male               & 7298               & 0                  & 90                 & United-States      & >50K              \\\\\n",
       "\t 22                 & Private            & 236427             & HS-grad            &  9                 & Never-married      & Adm-clerical       & Own-child          & White              & Male               &    0               & 0                  & 20                 & United-States      & <=50K             \\\\\n",
       "\t 23                 & Private            & 134446             & HS-grad            &  9                 & Separated          & Machine-op-inspct  & Unmarried          & Black              & Male               &    0               & 0                  & 54                 & United-States      & <=50K             \\\\\n",
       "\t 54                 & Private            &  99516             & HS-grad            &  9                 & Married-civ-spouse & Craft-repair       & Husband            & White              & Male               &    0               & 0                  & 35                 & United-States      & <=50K             \\\\\n",
       "\t 32                 & Self-emp-not-inc   & 109282             & Some-college       & 10                 & Never-married      & Prof-specialty     & Not-in-family      & White              & Male               &    0               & 0                  & 60                 & United-States      & <=50K             \\\\\n",
       "\t 46                 & State-gov          & 106444             & Some-college       & 10                 & Married-civ-spouse & Exec-managerial    & Husband            & Black              & Male               & 7688               & 0                  & 38                 & United-States      & >50K              \\\\\n",
       "\t 24                 & Self-emp-not-inc   & 188274             & Bachelors          & 13                 & Never-married      & Sales              & Not-in-family      & White              & Male               &    0               & 0                  & 50                 & United-States      & <=50K             \\\\\n",
       "\t 23                 & Local-gov          & 258120             & Some-college       & 10                 & Married-civ-spouse & Protective-serv    & Husband            & White              & Male               &    0               & 0                  & 40                 & United-States      & <=50K             \\\\\n",
       "\t 65                 & ?                  & 191846             & HS-grad            &  9                 & Married-civ-spouse & ?                  & Husband            & White              & Male               &    0               & 0                  & 40                 & United-States      & <=50K             \\\\\n",
       "\t 36                 & Local-gov          & 403681             & Bachelors          & 13                 & Married-civ-spouse & Prof-specialty     & Husband            & White              & Male               &    0               & 0                  & 40                 & United-States      & >50K              \\\\\n",
       "\t 22                 & Private            & 248446             & 5th-6th            &  3                 & Never-married      & Priv-house-serv    & Not-in-family      & White              & Male               &    0               & 0                  & 50                 & Guatemala          & <=50K             \\\\\n",
       "\t 17                 & Private            & 269430             & 10th               &  6                 & Never-married      & Machine-op-inspct  & Not-in-family      & White              & Male               &    0               & 0                  & 40                 & United-States      & <=50K             \\\\\n",
       "\t ... & ... & ... & ... & ... & ... & ... & ... & ... & ... & ... & ... & ... & ... & ...\\\\\n",
       "\t 38                 & Private            &  32916             & Assoc-voc          & 11                 & Married-civ-spouse & Craft-repair       & Husband            & White              & Male               &     0              & 0                  & 55                 & United-States      & >50K              \\\\\n",
       "\t 50                 & Private            & 302372             & Bachelors          & 13                 & Married-civ-spouse & Prof-specialty     & Husband            & White              & Male               &     0              & 0                  & 40                 & United-States      & <=50K             \\\\\n",
       "\t 39                 & Private            & 107302             & HS-grad            &  9                 & Married-civ-spouse & Prof-specialty     & Husband            & White              & Male               &     0              & 0                  & 45                 & ?                  & >50K              \\\\\n",
       "\t 20                 & Private            & 270436             & HS-grad            &  9                 & Never-married      & Machine-op-inspct  & Own-child          & White              & Male               &     0              & 0                  & 40                 & United-States      & <=50K             \\\\\n",
       "\t 40                 & Private            & 142657             & Assoc-voc          & 11                 & Married-civ-spouse & Craft-repair       & Husband            & Black              & Male               &     0              & 0                  & 45                 & United-States      & <=50K             \\\\\n",
       "\t 66                 & Federal-gov        &  47358             & 10th               &  6                 & Married-civ-spouse & Craft-repair       & Husband            & White              & Male               &  3471              & 0                  & 40                 & United-States      & <=50K             \\\\\n",
       "\t 36                 & Private            & 131459             & 7th-8th            &  4                 & Married-civ-spouse & Craft-repair       & Husband            & White              & Male               &     0              & 0                  & 40                 & United-States      & <=50K             \\\\\n",
       "\t 57                 & Local-gov          & 110417             & HS-grad            &  9                 & Married-civ-spouse & Craft-repair       & Husband            & White              & Male               & 99999              & 0                  & 40                 & United-States      & >50K              \\\\\n",
       "\t 46                 & Private            & 364548             & Some-college       & 10                 & Married-civ-spouse & Exec-managerial    & Husband            & White              & Male               &     0              & 0                  & 48                 & United-States      & >50K              \\\\\n",
       "\t 33                 & Private            & 273243             & HS-grad            &  9                 & Married-civ-spouse & Craft-repair       & Husband            & Black              & Male               &     0              & 0                  & 40                 & United-States      & <=50K             \\\\\n",
       "\t 58                 & Private            & 147707             & 11th               &  7                 & Married-civ-spouse & Sales              & Husband            & White              & Male               &     0              & 0                  & 40                 & United-States      & <=50K             \\\\\n",
       "\t 30                 & Private            &  77266             & HS-grad            &  9                 & Divorced           & Transport-moving   & Not-in-family      & White              & Male               &     0              & 0                  & 55                 & United-States      & <=50K             \\\\\n",
       "\t 32                 & Private            & 211349             & 10th               &  6                 & Married-civ-spouse & Transport-moving   & Husband            & White              & Male               &     0              & 0                  & 40                 & United-States      & <=50K             \\\\\n",
       "\t 22                 & Private            & 203715             & Some-college       & 10                 & Never-married      & Adm-clerical       & Own-child          & White              & Male               &     0              & 0                  & 40                 & United-States      & <=50K             \\\\\n",
       "\t 34                 & Private            & 204461             & Doctorate          & 16                 & Married-civ-spouse & Prof-specialty     & Husband            & White              & Male               &     0              & 0                  & 60                 & United-States      & >50K              \\\\\n",
       "\t 54                 & Private            & 337992             & Bachelors          & 13                 & Married-civ-spouse & Exec-managerial    & Husband            & Asian-Pac-Islander & Male               &     0              & 0                  & 50                 & Japan              & >50K              \\\\\n",
       "\t 22                 & Private            & 325033             & 12th               &  8                 & Never-married      & Protective-serv    & Own-child          & Black              & Male               &     0              & 0                  & 35                 & United-States      & <=50K             \\\\\n",
       "\t 30                 & Private            & 345898             & HS-grad            &  9                 & Never-married      & Craft-repair       & Not-in-family      & Black              & Male               &     0              & 0                  & 46                 & United-States      & <=50K             \\\\\n",
       "\t 71                 & ?                  & 287372             & Doctorate          & 16                 & Married-civ-spouse & ?                  & Husband            & White              & Male               &     0              & 0                  & 10                 & United-States      & >50K              \\\\\n",
       "\t 72                 & ?                  & 129912             & HS-grad            &  9                 & Married-civ-spouse & ?                  & Husband            & White              & Male               &     0              & 0                  & 25                 & United-States      & <=50K             \\\\\n",
       "\t 43                 & Private            & 260761             & HS-grad            &  9                 & Married-civ-spouse & Machine-op-inspct  & Husband            & White              & Male               &     0              & 0                  & 40                 & Mexico             & <=50K             \\\\\n",
       "\t 65                 & Self-emp-not-inc   &  99359             & Prof-school        & 15                 & Never-married      & Prof-specialty     & Not-in-family      & White              & Male               &  1086              & 0                  & 60                 & United-States      & <=50K             \\\\\n",
       "\t 43                 & Self-emp-not-inc   &  27242             & Some-college       & 10                 & Married-civ-spouse & Craft-repair       & Husband            & White              & Male               &     0              & 0                  & 50                 & United-States      & <=50K             \\\\\n",
       "\t 32                 & Private            &  34066             & 10th               &  6                 & Married-civ-spouse & Handlers-cleaners  & Husband            & Amer-Indian-Eskimo & Male               &     0              & 0                  & 40                 & United-States      & <=50K             \\\\\n",
       "\t 43                 & Private            &  84661             & Assoc-voc          & 11                 & Married-civ-spouse & Sales              & Husband            & White              & Male               &     0              & 0                  & 45                 & United-States      & <=50K             \\\\\n",
       "\t 32                 & Private            & 116138             & Masters            & 14                 & Never-married      & Tech-support       & Not-in-family      & Asian-Pac-Islander & Male               &     0              & 0                  & 11                 & Taiwan             & <=50K             \\\\\n",
       "\t 53                 & Private            & 321865             & Masters            & 14                 & Married-civ-spouse & Exec-managerial    & Husband            & White              & Male               &     0              & 0                  & 40                 & United-States      & >50K              \\\\\n",
       "\t 22                 & Private            & 310152             & Some-college       & 10                 & Never-married      & Protective-serv    & Not-in-family      & White              & Male               &     0              & 0                  & 40                 & United-States      & <=50K             \\\\\n",
       "\t 40                 & Private            & 154374             & HS-grad            &  9                 & Married-civ-spouse & Machine-op-inspct  & Husband            & White              & Male               &     0              & 0                  & 40                 & United-States      & >50K              \\\\\n",
       "\t 22                 & Private            & 201490             & HS-grad            &  9                 & Never-married      & Adm-clerical       & Own-child          & White              & Male               &     0              & 0                  & 20                 & United-States      & <=50K             \\\\\n",
       "\\end{tabular}\n"
      ],
      "text/markdown": [
       "\n",
       "| age | workclass | fnlwgt | education | educational.num | marital.status | occupation | relationship | race | gender | capital.gain | capital.loss | hours.per.week | native.country | income |\n",
       "|---|---|---|---|---|---|---|---|---|---|---|---|---|---|---|\n",
       "| 25                 | Private            | 226802             | 11th               |  7                 | Never-married      | Machine-op-inspct  | Own-child          | Black              | Male               |    0               | 0                  | 40                 | United-States      | <=50K              |\n",
       "| 38                 | Private            |  89814             | HS-grad            |  9                 | Married-civ-spouse | Farming-fishing    | Husband            | White              | Male               |    0               | 0                  | 50                 | United-States      | <=50K              |\n",
       "| 28                 | Local-gov          | 336951             | Assoc-acdm         | 12                 | Married-civ-spouse | Protective-serv    | Husband            | White              | Male               |    0               | 0                  | 40                 | United-States      | >50K               |\n",
       "| 44                 | Private            | 160323             | Some-college       | 10                 | Married-civ-spouse | Machine-op-inspct  | Husband            | Black              | Male               | 7688               | 0                  | 40                 | United-States      | >50K               |\n",
       "| 34                 | Private            | 198693             | 10th               |  6                 | Never-married      | Other-service      | Not-in-family      | White              | Male               |    0               | 0                  | 30                 | United-States      | <=50K              |\n",
       "| 29                 | ?                  | 227026             | HS-grad            |  9                 | Never-married      | ?                  | Unmarried          | Black              | Male               |    0               | 0                  | 40                 | United-States      | <=50K              |\n",
       "| 63                 | Self-emp-not-inc   | 104626             | Prof-school        | 15                 | Married-civ-spouse | Prof-specialty     | Husband            | White              | Male               | 3103               | 0                  | 32                 | United-States      | >50K               |\n",
       "| 55                 | Private            | 104996             | 7th-8th            |  4                 | Married-civ-spouse | Craft-repair       | Husband            | White              | Male               |    0               | 0                  | 10                 | United-States      | <=50K              |\n",
       "| 65                 | Private            | 184454             | HS-grad            |  9                 | Married-civ-spouse | Machine-op-inspct  | Husband            | White              | Male               | 6418               | 0                  | 40                 | United-States      | >50K               |\n",
       "| 36                 | Federal-gov        | 212465             | Bachelors          | 13                 | Married-civ-spouse | Adm-clerical       | Husband            | White              | Male               |    0               | 0                  | 40                 | United-States      | <=50K              |\n",
       "| 58                 | ?                  | 299831             | HS-grad            |  9                 | Married-civ-spouse | ?                  | Husband            | White              | Male               |    0               | 0                  | 35                 | United-States      | <=50K              |\n",
       "| 48                 | Private            | 279724             | HS-grad            |  9                 | Married-civ-spouse | Machine-op-inspct  | Husband            | White              | Male               | 3103               | 0                  | 48                 | United-States      | >50K               |\n",
       "| 43                 | Private            | 346189             | Masters            | 14                 | Married-civ-spouse | Exec-managerial    | Husband            | White              | Male               |    0               | 0                  | 50                 | United-States      | >50K               |\n",
       "| 20                 | State-gov          | 444554             | Some-college       | 10                 | Never-married      | Other-service      | Own-child          | White              | Male               |    0               | 0                  | 25                 | United-States      | <=50K              |\n",
       "| 40                 | Private            |  85019             | Doctorate          | 16                 | Married-civ-spouse | Prof-specialty     | Husband            | Asian-Pac-Islander | Male               |    0               | 0                  | 45                 | ?                  | >50K               |\n",
       "| 34                 | Private            | 107914             | Bachelors          | 13                 | Married-civ-spouse | Tech-support       | Husband            | White              | Male               |    0               | 0                  | 47                 | United-States      | >50K               |\n",
       "| 25                 | Private            | 220931             | Bachelors          | 13                 | Never-married      | Prof-specialty     | Not-in-family      | White              | Male               |    0               | 0                  | 43                 | Peru               | <=50K              |\n",
       "| 25                 | Private            | 205947             | Bachelors          | 13                 | Married-civ-spouse | Prof-specialty     | Husband            | White              | Male               |    0               | 0                  | 40                 | United-States      | <=50K              |\n",
       "| 45                 | Self-emp-not-inc   | 432824             | HS-grad            |  9                 | Married-civ-spouse | Craft-repair       | Husband            | White              | Male               | 7298               | 0                  | 90                 | United-States      | >50K               |\n",
       "| 22                 | Private            | 236427             | HS-grad            |  9                 | Never-married      | Adm-clerical       | Own-child          | White              | Male               |    0               | 0                  | 20                 | United-States      | <=50K              |\n",
       "| 23                 | Private            | 134446             | HS-grad            |  9                 | Separated          | Machine-op-inspct  | Unmarried          | Black              | Male               |    0               | 0                  | 54                 | United-States      | <=50K              |\n",
       "| 54                 | Private            |  99516             | HS-grad            |  9                 | Married-civ-spouse | Craft-repair       | Husband            | White              | Male               |    0               | 0                  | 35                 | United-States      | <=50K              |\n",
       "| 32                 | Self-emp-not-inc   | 109282             | Some-college       | 10                 | Never-married      | Prof-specialty     | Not-in-family      | White              | Male               |    0               | 0                  | 60                 | United-States      | <=50K              |\n",
       "| 46                 | State-gov          | 106444             | Some-college       | 10                 | Married-civ-spouse | Exec-managerial    | Husband            | Black              | Male               | 7688               | 0                  | 38                 | United-States      | >50K               |\n",
       "| 24                 | Self-emp-not-inc   | 188274             | Bachelors          | 13                 | Never-married      | Sales              | Not-in-family      | White              | Male               |    0               | 0                  | 50                 | United-States      | <=50K              |\n",
       "| 23                 | Local-gov          | 258120             | Some-college       | 10                 | Married-civ-spouse | Protective-serv    | Husband            | White              | Male               |    0               | 0                  | 40                 | United-States      | <=50K              |\n",
       "| 65                 | ?                  | 191846             | HS-grad            |  9                 | Married-civ-spouse | ?                  | Husband            | White              | Male               |    0               | 0                  | 40                 | United-States      | <=50K              |\n",
       "| 36                 | Local-gov          | 403681             | Bachelors          | 13                 | Married-civ-spouse | Prof-specialty     | Husband            | White              | Male               |    0               | 0                  | 40                 | United-States      | >50K               |\n",
       "| 22                 | Private            | 248446             | 5th-6th            |  3                 | Never-married      | Priv-house-serv    | Not-in-family      | White              | Male               |    0               | 0                  | 50                 | Guatemala          | <=50K              |\n",
       "| 17                 | Private            | 269430             | 10th               |  6                 | Never-married      | Machine-op-inspct  | Not-in-family      | White              | Male               |    0               | 0                  | 40                 | United-States      | <=50K              |\n",
       "| ... | ... | ... | ... | ... | ... | ... | ... | ... | ... | ... | ... | ... | ... | ... |\n",
       "| 38                 | Private            |  32916             | Assoc-voc          | 11                 | Married-civ-spouse | Craft-repair       | Husband            | White              | Male               |     0              | 0                  | 55                 | United-States      | >50K               |\n",
       "| 50                 | Private            | 302372             | Bachelors          | 13                 | Married-civ-spouse | Prof-specialty     | Husband            | White              | Male               |     0              | 0                  | 40                 | United-States      | <=50K              |\n",
       "| 39                 | Private            | 107302             | HS-grad            |  9                 | Married-civ-spouse | Prof-specialty     | Husband            | White              | Male               |     0              | 0                  | 45                 | ?                  | >50K               |\n",
       "| 20                 | Private            | 270436             | HS-grad            |  9                 | Never-married      | Machine-op-inspct  | Own-child          | White              | Male               |     0              | 0                  | 40                 | United-States      | <=50K              |\n",
       "| 40                 | Private            | 142657             | Assoc-voc          | 11                 | Married-civ-spouse | Craft-repair       | Husband            | Black              | Male               |     0              | 0                  | 45                 | United-States      | <=50K              |\n",
       "| 66                 | Federal-gov        |  47358             | 10th               |  6                 | Married-civ-spouse | Craft-repair       | Husband            | White              | Male               |  3471              | 0                  | 40                 | United-States      | <=50K              |\n",
       "| 36                 | Private            | 131459             | 7th-8th            |  4                 | Married-civ-spouse | Craft-repair       | Husband            | White              | Male               |     0              | 0                  | 40                 | United-States      | <=50K              |\n",
       "| 57                 | Local-gov          | 110417             | HS-grad            |  9                 | Married-civ-spouse | Craft-repair       | Husband            | White              | Male               | 99999              | 0                  | 40                 | United-States      | >50K               |\n",
       "| 46                 | Private            | 364548             | Some-college       | 10                 | Married-civ-spouse | Exec-managerial    | Husband            | White              | Male               |     0              | 0                  | 48                 | United-States      | >50K               |\n",
       "| 33                 | Private            | 273243             | HS-grad            |  9                 | Married-civ-spouse | Craft-repair       | Husband            | Black              | Male               |     0              | 0                  | 40                 | United-States      | <=50K              |\n",
       "| 58                 | Private            | 147707             | 11th               |  7                 | Married-civ-spouse | Sales              | Husband            | White              | Male               |     0              | 0                  | 40                 | United-States      | <=50K              |\n",
       "| 30                 | Private            |  77266             | HS-grad            |  9                 | Divorced           | Transport-moving   | Not-in-family      | White              | Male               |     0              | 0                  | 55                 | United-States      | <=50K              |\n",
       "| 32                 | Private            | 211349             | 10th               |  6                 | Married-civ-spouse | Transport-moving   | Husband            | White              | Male               |     0              | 0                  | 40                 | United-States      | <=50K              |\n",
       "| 22                 | Private            | 203715             | Some-college       | 10                 | Never-married      | Adm-clerical       | Own-child          | White              | Male               |     0              | 0                  | 40                 | United-States      | <=50K              |\n",
       "| 34                 | Private            | 204461             | Doctorate          | 16                 | Married-civ-spouse | Prof-specialty     | Husband            | White              | Male               |     0              | 0                  | 60                 | United-States      | >50K               |\n",
       "| 54                 | Private            | 337992             | Bachelors          | 13                 | Married-civ-spouse | Exec-managerial    | Husband            | Asian-Pac-Islander | Male               |     0              | 0                  | 50                 | Japan              | >50K               |\n",
       "| 22                 | Private            | 325033             | 12th               |  8                 | Never-married      | Protective-serv    | Own-child          | Black              | Male               |     0              | 0                  | 35                 | United-States      | <=50K              |\n",
       "| 30                 | Private            | 345898             | HS-grad            |  9                 | Never-married      | Craft-repair       | Not-in-family      | Black              | Male               |     0              | 0                  | 46                 | United-States      | <=50K              |\n",
       "| 71                 | ?                  | 287372             | Doctorate          | 16                 | Married-civ-spouse | ?                  | Husband            | White              | Male               |     0              | 0                  | 10                 | United-States      | >50K               |\n",
       "| 72                 | ?                  | 129912             | HS-grad            |  9                 | Married-civ-spouse | ?                  | Husband            | White              | Male               |     0              | 0                  | 25                 | United-States      | <=50K              |\n",
       "| 43                 | Private            | 260761             | HS-grad            |  9                 | Married-civ-spouse | Machine-op-inspct  | Husband            | White              | Male               |     0              | 0                  | 40                 | Mexico             | <=50K              |\n",
       "| 65                 | Self-emp-not-inc   |  99359             | Prof-school        | 15                 | Never-married      | Prof-specialty     | Not-in-family      | White              | Male               |  1086              | 0                  | 60                 | United-States      | <=50K              |\n",
       "| 43                 | Self-emp-not-inc   |  27242             | Some-college       | 10                 | Married-civ-spouse | Craft-repair       | Husband            | White              | Male               |     0              | 0                  | 50                 | United-States      | <=50K              |\n",
       "| 32                 | Private            |  34066             | 10th               |  6                 | Married-civ-spouse | Handlers-cleaners  | Husband            | Amer-Indian-Eskimo | Male               |     0              | 0                  | 40                 | United-States      | <=50K              |\n",
       "| 43                 | Private            |  84661             | Assoc-voc          | 11                 | Married-civ-spouse | Sales              | Husband            | White              | Male               |     0              | 0                  | 45                 | United-States      | <=50K              |\n",
       "| 32                 | Private            | 116138             | Masters            | 14                 | Never-married      | Tech-support       | Not-in-family      | Asian-Pac-Islander | Male               |     0              | 0                  | 11                 | Taiwan             | <=50K              |\n",
       "| 53                 | Private            | 321865             | Masters            | 14                 | Married-civ-spouse | Exec-managerial    | Husband            | White              | Male               |     0              | 0                  | 40                 | United-States      | >50K               |\n",
       "| 22                 | Private            | 310152             | Some-college       | 10                 | Never-married      | Protective-serv    | Not-in-family      | White              | Male               |     0              | 0                  | 40                 | United-States      | <=50K              |\n",
       "| 40                 | Private            | 154374             | HS-grad            |  9                 | Married-civ-spouse | Machine-op-inspct  | Husband            | White              | Male               |     0              | 0                  | 40                 | United-States      | >50K               |\n",
       "| 22                 | Private            | 201490             | HS-grad            |  9                 | Never-married      | Adm-clerical       | Own-child          | White              | Male               |     0              | 0                  | 20                 | United-States      | <=50K              |\n",
       "\n"
      ],
      "text/plain": [
       "      age workclass        fnlwgt education    educational.num\n",
       "1     25  Private          226802 11th          7             \n",
       "2     38  Private           89814 HS-grad       9             \n",
       "3     28  Local-gov        336951 Assoc-acdm   12             \n",
       "4     44  Private          160323 Some-college 10             \n",
       "5     34  Private          198693 10th          6             \n",
       "6     29  ?                227026 HS-grad       9             \n",
       "7     63  Self-emp-not-inc 104626 Prof-school  15             \n",
       "8     55  Private          104996 7th-8th       4             \n",
       "9     65  Private          184454 HS-grad       9             \n",
       "10    36  Federal-gov      212465 Bachelors    13             \n",
       "11    58  ?                299831 HS-grad       9             \n",
       "12    48  Private          279724 HS-grad       9             \n",
       "13    43  Private          346189 Masters      14             \n",
       "14    20  State-gov        444554 Some-college 10             \n",
       "15    40  Private           85019 Doctorate    16             \n",
       "16    34  Private          107914 Bachelors    13             \n",
       "17    25  Private          220931 Bachelors    13             \n",
       "18    25  Private          205947 Bachelors    13             \n",
       "19    45  Self-emp-not-inc 432824 HS-grad       9             \n",
       "20    22  Private          236427 HS-grad       9             \n",
       "21    23  Private          134446 HS-grad       9             \n",
       "22    54  Private           99516 HS-grad       9             \n",
       "23    32  Self-emp-not-inc 109282 Some-college 10             \n",
       "24    46  State-gov        106444 Some-college 10             \n",
       "25    24  Self-emp-not-inc 188274 Bachelors    13             \n",
       "26    23  Local-gov        258120 Some-college 10             \n",
       "27    65  ?                191846 HS-grad       9             \n",
       "28    36  Local-gov        403681 Bachelors    13             \n",
       "29    22  Private          248446 5th-6th       3             \n",
       "30    17  Private          269430 10th          6             \n",
       "...   ... ...              ...    ...          ...            \n",
       "32621 38  Private           32916 Assoc-voc    11             \n",
       "32622 50  Private          302372 Bachelors    13             \n",
       "32623 39  Private          107302 HS-grad       9             \n",
       "32624 20  Private          270436 HS-grad       9             \n",
       "32625 40  Private          142657 Assoc-voc    11             \n",
       "32626 66  Federal-gov       47358 10th          6             \n",
       "32627 36  Private          131459 7th-8th       4             \n",
       "32628 57  Local-gov        110417 HS-grad       9             \n",
       "32629 46  Private          364548 Some-college 10             \n",
       "32630 33  Private          273243 HS-grad       9             \n",
       "32631 58  Private          147707 11th          7             \n",
       "32632 30  Private           77266 HS-grad       9             \n",
       "32633 32  Private          211349 10th          6             \n",
       "32634 22  Private          203715 Some-college 10             \n",
       "32635 34  Private          204461 Doctorate    16             \n",
       "32636 54  Private          337992 Bachelors    13             \n",
       "32637 22  Private          325033 12th          8             \n",
       "32638 30  Private          345898 HS-grad       9             \n",
       "32639 71  ?                287372 Doctorate    16             \n",
       "32640 72  ?                129912 HS-grad       9             \n",
       "32641 43  Private          260761 HS-grad       9             \n",
       "32642 65  Self-emp-not-inc  99359 Prof-school  15             \n",
       "32643 43  Self-emp-not-inc  27242 Some-college 10             \n",
       "32644 32  Private           34066 10th          6             \n",
       "32645 43  Private           84661 Assoc-voc    11             \n",
       "32646 32  Private          116138 Masters      14             \n",
       "32647 53  Private          321865 Masters      14             \n",
       "32648 22  Private          310152 Some-college 10             \n",
       "32649 40  Private          154374 HS-grad       9             \n",
       "32650 22  Private          201490 HS-grad       9             \n",
       "      marital.status     occupation        relationship  race              \n",
       "1     Never-married      Machine-op-inspct Own-child     Black             \n",
       "2     Married-civ-spouse Farming-fishing   Husband       White             \n",
       "3     Married-civ-spouse Protective-serv   Husband       White             \n",
       "4     Married-civ-spouse Machine-op-inspct Husband       Black             \n",
       "5     Never-married      Other-service     Not-in-family White             \n",
       "6     Never-married      ?                 Unmarried     Black             \n",
       "7     Married-civ-spouse Prof-specialty    Husband       White             \n",
       "8     Married-civ-spouse Craft-repair      Husband       White             \n",
       "9     Married-civ-spouse Machine-op-inspct Husband       White             \n",
       "10    Married-civ-spouse Adm-clerical      Husband       White             \n",
       "11    Married-civ-spouse ?                 Husband       White             \n",
       "12    Married-civ-spouse Machine-op-inspct Husband       White             \n",
       "13    Married-civ-spouse Exec-managerial   Husband       White             \n",
       "14    Never-married      Other-service     Own-child     White             \n",
       "15    Married-civ-spouse Prof-specialty    Husband       Asian-Pac-Islander\n",
       "16    Married-civ-spouse Tech-support      Husband       White             \n",
       "17    Never-married      Prof-specialty    Not-in-family White             \n",
       "18    Married-civ-spouse Prof-specialty    Husband       White             \n",
       "19    Married-civ-spouse Craft-repair      Husband       White             \n",
       "20    Never-married      Adm-clerical      Own-child     White             \n",
       "21    Separated          Machine-op-inspct Unmarried     Black             \n",
       "22    Married-civ-spouse Craft-repair      Husband       White             \n",
       "23    Never-married      Prof-specialty    Not-in-family White             \n",
       "24    Married-civ-spouse Exec-managerial   Husband       Black             \n",
       "25    Never-married      Sales             Not-in-family White             \n",
       "26    Married-civ-spouse Protective-serv   Husband       White             \n",
       "27    Married-civ-spouse ?                 Husband       White             \n",
       "28    Married-civ-spouse Prof-specialty    Husband       White             \n",
       "29    Never-married      Priv-house-serv   Not-in-family White             \n",
       "30    Never-married      Machine-op-inspct Not-in-family White             \n",
       "...   ...                ...               ...           ...               \n",
       "32621 Married-civ-spouse Craft-repair      Husband       White             \n",
       "32622 Married-civ-spouse Prof-specialty    Husband       White             \n",
       "32623 Married-civ-spouse Prof-specialty    Husband       White             \n",
       "32624 Never-married      Machine-op-inspct Own-child     White             \n",
       "32625 Married-civ-spouse Craft-repair      Husband       Black             \n",
       "32626 Married-civ-spouse Craft-repair      Husband       White             \n",
       "32627 Married-civ-spouse Craft-repair      Husband       White             \n",
       "32628 Married-civ-spouse Craft-repair      Husband       White             \n",
       "32629 Married-civ-spouse Exec-managerial   Husband       White             \n",
       "32630 Married-civ-spouse Craft-repair      Husband       Black             \n",
       "32631 Married-civ-spouse Sales             Husband       White             \n",
       "32632 Divorced           Transport-moving  Not-in-family White             \n",
       "32633 Married-civ-spouse Transport-moving  Husband       White             \n",
       "32634 Never-married      Adm-clerical      Own-child     White             \n",
       "32635 Married-civ-spouse Prof-specialty    Husband       White             \n",
       "32636 Married-civ-spouse Exec-managerial   Husband       Asian-Pac-Islander\n",
       "32637 Never-married      Protective-serv   Own-child     Black             \n",
       "32638 Never-married      Craft-repair      Not-in-family Black             \n",
       "32639 Married-civ-spouse ?                 Husband       White             \n",
       "32640 Married-civ-spouse ?                 Husband       White             \n",
       "32641 Married-civ-spouse Machine-op-inspct Husband       White             \n",
       "32642 Never-married      Prof-specialty    Not-in-family White             \n",
       "32643 Married-civ-spouse Craft-repair      Husband       White             \n",
       "32644 Married-civ-spouse Handlers-cleaners Husband       Amer-Indian-Eskimo\n",
       "32645 Married-civ-spouse Sales             Husband       White             \n",
       "32646 Never-married      Tech-support      Not-in-family Asian-Pac-Islander\n",
       "32647 Married-civ-spouse Exec-managerial   Husband       White             \n",
       "32648 Never-married      Protective-serv   Not-in-family White             \n",
       "32649 Married-civ-spouse Machine-op-inspct Husband       White             \n",
       "32650 Never-married      Adm-clerical      Own-child     White             \n",
       "      gender capital.gain capital.loss hours.per.week native.country income\n",
       "1     Male      0         0            40             United-States  <=50K \n",
       "2     Male      0         0            50             United-States  <=50K \n",
       "3     Male      0         0            40             United-States  >50K  \n",
       "4     Male   7688         0            40             United-States  >50K  \n",
       "5     Male      0         0            30             United-States  <=50K \n",
       "6     Male      0         0            40             United-States  <=50K \n",
       "7     Male   3103         0            32             United-States  >50K  \n",
       "8     Male      0         0            10             United-States  <=50K \n",
       "9     Male   6418         0            40             United-States  >50K  \n",
       "10    Male      0         0            40             United-States  <=50K \n",
       "11    Male      0         0            35             United-States  <=50K \n",
       "12    Male   3103         0            48             United-States  >50K  \n",
       "13    Male      0         0            50             United-States  >50K  \n",
       "14    Male      0         0            25             United-States  <=50K \n",
       "15    Male      0         0            45             ?              >50K  \n",
       "16    Male      0         0            47             United-States  >50K  \n",
       "17    Male      0         0            43             Peru           <=50K \n",
       "18    Male      0         0            40             United-States  <=50K \n",
       "19    Male   7298         0            90             United-States  >50K  \n",
       "20    Male      0         0            20             United-States  <=50K \n",
       "21    Male      0         0            54             United-States  <=50K \n",
       "22    Male      0         0            35             United-States  <=50K \n",
       "23    Male      0         0            60             United-States  <=50K \n",
       "24    Male   7688         0            38             United-States  >50K  \n",
       "25    Male      0         0            50             United-States  <=50K \n",
       "26    Male      0         0            40             United-States  <=50K \n",
       "27    Male      0         0            40             United-States  <=50K \n",
       "28    Male      0         0            40             United-States  >50K  \n",
       "29    Male      0         0            50             Guatemala      <=50K \n",
       "30    Male      0         0            40             United-States  <=50K \n",
       "...   ...    ...          ...          ...            ...            ...   \n",
       "32621 Male       0        0            55             United-States  >50K  \n",
       "32622 Male       0        0            40             United-States  <=50K \n",
       "32623 Male       0        0            45             ?              >50K  \n",
       "32624 Male       0        0            40             United-States  <=50K \n",
       "32625 Male       0        0            45             United-States  <=50K \n",
       "32626 Male    3471        0            40             United-States  <=50K \n",
       "32627 Male       0        0            40             United-States  <=50K \n",
       "32628 Male   99999        0            40             United-States  >50K  \n",
       "32629 Male       0        0            48             United-States  >50K  \n",
       "32630 Male       0        0            40             United-States  <=50K \n",
       "32631 Male       0        0            40             United-States  <=50K \n",
       "32632 Male       0        0            55             United-States  <=50K \n",
       "32633 Male       0        0            40             United-States  <=50K \n",
       "32634 Male       0        0            40             United-States  <=50K \n",
       "32635 Male       0        0            60             United-States  >50K  \n",
       "32636 Male       0        0            50             Japan          >50K  \n",
       "32637 Male       0        0            35             United-States  <=50K \n",
       "32638 Male       0        0            46             United-States  <=50K \n",
       "32639 Male       0        0            10             United-States  >50K  \n",
       "32640 Male       0        0            25             United-States  <=50K \n",
       "32641 Male       0        0            40             Mexico         <=50K \n",
       "32642 Male    1086        0            60             United-States  <=50K \n",
       "32643 Male       0        0            50             United-States  <=50K \n",
       "32644 Male       0        0            40             United-States  <=50K \n",
       "32645 Male       0        0            45             United-States  <=50K \n",
       "32646 Male       0        0            11             Taiwan         <=50K \n",
       "32647 Male       0        0            40             United-States  >50K  \n",
       "32648 Male       0        0            40             United-States  <=50K \n",
       "32649 Male       0        0            40             United-States  >50K  \n",
       "32650 Male       0        0            20             United-States  <=50K "
      ]
     },
     "metadata": {},
     "output_type": "display_data"
    }
   ],
   "source": [
    "# filtered the data where gender is Male\n",
    "filter(adult,adult$gender==\"Male\")"
   ]
  },
  {
   "cell_type": "code",
   "execution_count": 10,
   "metadata": {
    "scrolled": true
   },
   "outputs": [
    {
     "data": {
      "text/html": [
       "<table>\n",
       "<thead><tr><th scope=col>age</th><th scope=col>workclass</th><th scope=col>fnlwgt</th><th scope=col>education</th><th scope=col>educational.num</th><th scope=col>marital.status</th><th scope=col>occupation</th><th scope=col>relationship</th><th scope=col>race</th><th scope=col>gender</th><th scope=col>capital.gain</th><th scope=col>capital.loss</th><th scope=col>hours.per.week</th><th scope=col>native.country</th><th scope=col>income</th></tr></thead>\n",
       "<tbody>\n",
       "\t<tr><td>38                                                        </td><td><span style=white-space:pre-wrap>Private         </span>  </td><td> 89814                                                    </td><td><span style=white-space:pre-wrap>HS-grad     </span>      </td><td> 9                                                        </td><td>Married-civ-spouse                                        </td><td><span style=white-space:pre-wrap>Farming-fishing  </span> </td><td>Husband                                                   </td><td><span style=white-space:pre-wrap>White             </span></td><td>Male                                                      </td><td><span style=white-space:pre-wrap>    0</span>             </td><td>0                                                         </td><td>50                                                        </td><td>United-States                                             </td><td>&lt;=50K                                                  </td></tr>\n",
       "\t<tr><td>28                                                        </td><td><span style=white-space:pre-wrap>Local-gov       </span>  </td><td>336951                                                    </td><td><span style=white-space:pre-wrap>Assoc-acdm  </span>      </td><td>12                                                        </td><td>Married-civ-spouse                                        </td><td><span style=white-space:pre-wrap>Protective-serv  </span> </td><td>Husband                                                   </td><td><span style=white-space:pre-wrap>White             </span></td><td>Male                                                      </td><td><span style=white-space:pre-wrap>    0</span>             </td><td>0                                                         </td><td>40                                                        </td><td>United-States                                             </td><td>&gt;50K                                                   </td></tr>\n",
       "\t<tr><td>44                                                        </td><td><span style=white-space:pre-wrap>Private         </span>  </td><td>160323                                                    </td><td>Some-college                                              </td><td>10                                                        </td><td>Married-civ-spouse                                        </td><td>Machine-op-inspct                                         </td><td>Husband                                                   </td><td><span style=white-space:pre-wrap>Black             </span></td><td>Male                                                      </td><td> 7688                                                     </td><td>0                                                         </td><td>40                                                        </td><td>United-States                                             </td><td>&gt;50K                                                   </td></tr>\n",
       "\t<tr><td>63                                                        </td><td>Self-emp-not-inc                                          </td><td>104626                                                    </td><td>Prof-school                                               </td><td>15                                                        </td><td>Married-civ-spouse                                        </td><td><span style=white-space:pre-wrap>Prof-specialty   </span> </td><td>Husband                                                   </td><td><span style=white-space:pre-wrap>White             </span></td><td>Male                                                      </td><td> 3103                                                     </td><td>0                                                         </td><td>32                                                        </td><td>United-States                                             </td><td>&gt;50K                                                   </td></tr>\n",
       "\t<tr><td>55                                                        </td><td><span style=white-space:pre-wrap>Private         </span>  </td><td>104996                                                    </td><td><span style=white-space:pre-wrap>7th-8th     </span>      </td><td> 4                                                        </td><td>Married-civ-spouse                                        </td><td><span style=white-space:pre-wrap>Craft-repair     </span> </td><td>Husband                                                   </td><td><span style=white-space:pre-wrap>White             </span></td><td>Male                                                      </td><td><span style=white-space:pre-wrap>    0</span>             </td><td>0                                                         </td><td>10                                                        </td><td>United-States                                             </td><td>&lt;=50K                                                  </td></tr>\n",
       "\t<tr><td>65                                                        </td><td><span style=white-space:pre-wrap>Private         </span>  </td><td>184454                                                    </td><td><span style=white-space:pre-wrap>HS-grad     </span>      </td><td> 9                                                        </td><td>Married-civ-spouse                                        </td><td>Machine-op-inspct                                         </td><td>Husband                                                   </td><td><span style=white-space:pre-wrap>White             </span></td><td>Male                                                      </td><td> 6418                                                     </td><td>0                                                         </td><td>40                                                        </td><td>United-States                                             </td><td>&gt;50K                                                   </td></tr>\n",
       "\t<tr><td>36                                                        </td><td><span style=white-space:pre-wrap>Federal-gov     </span>  </td><td>212465                                                    </td><td><span style=white-space:pre-wrap>Bachelors   </span>      </td><td>13                                                        </td><td>Married-civ-spouse                                        </td><td><span style=white-space:pre-wrap>Adm-clerical     </span> </td><td>Husband                                                   </td><td><span style=white-space:pre-wrap>White             </span></td><td>Male                                                      </td><td><span style=white-space:pre-wrap>    0</span>             </td><td>0                                                         </td><td>40                                                        </td><td>United-States                                             </td><td>&lt;=50K                                                  </td></tr>\n",
       "\t<tr><td>58                                                        </td><td><span style=white-space:pre-wrap>?               </span>  </td><td>299831                                                    </td><td><span style=white-space:pre-wrap>HS-grad     </span>      </td><td> 9                                                        </td><td>Married-civ-spouse                                        </td><td><span style=white-space:pre-wrap>?                </span> </td><td>Husband                                                   </td><td><span style=white-space:pre-wrap>White             </span></td><td>Male                                                      </td><td><span style=white-space:pre-wrap>    0</span>             </td><td>0                                                         </td><td>35                                                        </td><td>United-States                                             </td><td>&lt;=50K                                                  </td></tr>\n",
       "\t<tr><td>48                                                        </td><td><span style=white-space:pre-wrap>Private         </span>  </td><td>279724                                                    </td><td><span style=white-space:pre-wrap>HS-grad     </span>      </td><td> 9                                                        </td><td>Married-civ-spouse                                        </td><td>Machine-op-inspct                                         </td><td>Husband                                                   </td><td><span style=white-space:pre-wrap>White             </span></td><td>Male                                                      </td><td> 3103                                                     </td><td>0                                                         </td><td>48                                                        </td><td>United-States                                             </td><td>&gt;50K                                                   </td></tr>\n",
       "\t<tr><td>43                                                        </td><td><span style=white-space:pre-wrap>Private         </span>  </td><td>346189                                                    </td><td><span style=white-space:pre-wrap>Masters     </span>      </td><td>14                                                        </td><td>Married-civ-spouse                                        </td><td><span style=white-space:pre-wrap>Exec-managerial  </span> </td><td>Husband                                                   </td><td><span style=white-space:pre-wrap>White             </span></td><td>Male                                                      </td><td><span style=white-space:pre-wrap>    0</span>             </td><td>0                                                         </td><td>50                                                        </td><td>United-States                                             </td><td>&gt;50K                                                   </td></tr>\n",
       "\t<tr><td>40                                                       </td><td><span style=white-space:pre-wrap>Private         </span> </td><td> 85019                                                   </td><td><span style=white-space:pre-wrap>Doctorate   </span>     </td><td>16                                                       </td><td>Married-civ-spouse                                       </td><td><span style=white-space:pre-wrap>Prof-specialty   </span></td><td>Husband                                                  </td><td>Asian-Pac-Islander                                       </td><td>Male                                                     </td><td><span style=white-space:pre-wrap>    0</span>            </td><td>0                                                        </td><td>45                                                       </td><td><span style=white-space:pre-wrap>?            </span>    </td><td>&gt;50K                                                  </td></tr>\n",
       "\t<tr><td>34                                                        </td><td><span style=white-space:pre-wrap>Private         </span>  </td><td>107914                                                    </td><td><span style=white-space:pre-wrap>Bachelors   </span>      </td><td>13                                                        </td><td>Married-civ-spouse                                        </td><td><span style=white-space:pre-wrap>Tech-support     </span> </td><td>Husband                                                   </td><td><span style=white-space:pre-wrap>White             </span></td><td>Male                                                      </td><td><span style=white-space:pre-wrap>    0</span>             </td><td>0                                                         </td><td>47                                                        </td><td>United-States                                             </td><td>&gt;50K                                                   </td></tr>\n",
       "\t<tr><td>25                                                        </td><td><span style=white-space:pre-wrap>Private         </span>  </td><td>205947                                                    </td><td><span style=white-space:pre-wrap>Bachelors   </span>      </td><td>13                                                        </td><td>Married-civ-spouse                                        </td><td><span style=white-space:pre-wrap>Prof-specialty   </span> </td><td>Husband                                                   </td><td><span style=white-space:pre-wrap>White             </span></td><td>Male                                                      </td><td><span style=white-space:pre-wrap>    0</span>             </td><td>0                                                         </td><td>40                                                        </td><td>United-States                                             </td><td>&lt;=50K                                                  </td></tr>\n",
       "\t<tr><td>45                                                        </td><td>Self-emp-not-inc                                          </td><td>432824                                                    </td><td><span style=white-space:pre-wrap>HS-grad     </span>      </td><td> 9                                                        </td><td>Married-civ-spouse                                        </td><td><span style=white-space:pre-wrap>Craft-repair     </span> </td><td>Husband                                                   </td><td><span style=white-space:pre-wrap>White             </span></td><td>Male                                                      </td><td> 7298                                                     </td><td>0                                                         </td><td>90                                                        </td><td>United-States                                             </td><td>&gt;50K                                                   </td></tr>\n",
       "\t<tr><td>54                                                        </td><td><span style=white-space:pre-wrap>Private         </span>  </td><td> 99516                                                    </td><td><span style=white-space:pre-wrap>HS-grad     </span>      </td><td> 9                                                        </td><td>Married-civ-spouse                                        </td><td><span style=white-space:pre-wrap>Craft-repair     </span> </td><td>Husband                                                   </td><td><span style=white-space:pre-wrap>White             </span></td><td>Male                                                      </td><td><span style=white-space:pre-wrap>    0</span>             </td><td>0                                                         </td><td>35                                                        </td><td>United-States                                             </td><td>&lt;=50K                                                  </td></tr>\n",
       "\t<tr><td>46                                                        </td><td><span style=white-space:pre-wrap>State-gov       </span>  </td><td>106444                                                    </td><td>Some-college                                              </td><td>10                                                        </td><td>Married-civ-spouse                                        </td><td><span style=white-space:pre-wrap>Exec-managerial  </span> </td><td>Husband                                                   </td><td><span style=white-space:pre-wrap>Black             </span></td><td>Male                                                      </td><td> 7688                                                     </td><td>0                                                         </td><td>38                                                        </td><td>United-States                                             </td><td>&gt;50K                                                   </td></tr>\n",
       "\t<tr><td>23                                                        </td><td><span style=white-space:pre-wrap>Local-gov       </span>  </td><td>258120                                                    </td><td>Some-college                                              </td><td>10                                                        </td><td>Married-civ-spouse                                        </td><td><span style=white-space:pre-wrap>Protective-serv  </span> </td><td>Husband                                                   </td><td><span style=white-space:pre-wrap>White             </span></td><td>Male                                                      </td><td><span style=white-space:pre-wrap>    0</span>             </td><td>0                                                         </td><td>40                                                        </td><td>United-States                                             </td><td>&lt;=50K                                                  </td></tr>\n",
       "\t<tr><td>65                                                        </td><td><span style=white-space:pre-wrap>?               </span>  </td><td>191846                                                    </td><td><span style=white-space:pre-wrap>HS-grad     </span>      </td><td> 9                                                        </td><td>Married-civ-spouse                                        </td><td><span style=white-space:pre-wrap>?                </span> </td><td>Husband                                                   </td><td><span style=white-space:pre-wrap>White             </span></td><td>Male                                                      </td><td><span style=white-space:pre-wrap>    0</span>             </td><td>0                                                         </td><td>40                                                        </td><td>United-States                                             </td><td>&lt;=50K                                                  </td></tr>\n",
       "\t<tr><td>36                                                        </td><td><span style=white-space:pre-wrap>Local-gov       </span>  </td><td>403681                                                    </td><td><span style=white-space:pre-wrap>Bachelors   </span>      </td><td>13                                                        </td><td>Married-civ-spouse                                        </td><td><span style=white-space:pre-wrap>Prof-specialty   </span> </td><td>Husband                                                   </td><td><span style=white-space:pre-wrap>White             </span></td><td>Male                                                      </td><td><span style=white-space:pre-wrap>    0</span>             </td><td>0                                                         </td><td>40                                                        </td><td>United-States                                             </td><td>&gt;50K                                                   </td></tr>\n",
       "\t<tr><td>65                                                        </td><td><span style=white-space:pre-wrap>Private         </span>  </td><td>136384                                                    </td><td><span style=white-space:pre-wrap>Masters     </span>      </td><td>14                                                        </td><td>Married-civ-spouse                                        </td><td><span style=white-space:pre-wrap>Prof-specialty   </span> </td><td>Husband                                                   </td><td><span style=white-space:pre-wrap>White             </span></td><td>Male                                                      </td><td><span style=white-space:pre-wrap>    0</span>             </td><td>0                                                         </td><td>50                                                        </td><td>United-States                                             </td><td>&gt;50K                                                   </td></tr>\n",
       "\t<tr><td>44                                                        </td><td><span style=white-space:pre-wrap>Self-emp-inc    </span>  </td><td>120277                                                    </td><td><span style=white-space:pre-wrap>Assoc-voc   </span>      </td><td>11                                                        </td><td>Married-civ-spouse                                        </td><td><span style=white-space:pre-wrap>Sales            </span> </td><td>Husband                                                   </td><td><span style=white-space:pre-wrap>White             </span></td><td>Male                                                      </td><td><span style=white-space:pre-wrap>    0</span>             </td><td>0                                                         </td><td>45                                                        </td><td>United-States                                             </td><td>&gt;50K                                                   </td></tr>\n",
       "\t<tr><td>36                                                        </td><td><span style=white-space:pre-wrap>Private         </span>  </td><td>465326                                                    </td><td><span style=white-space:pre-wrap>HS-grad     </span>      </td><td> 9                                                        </td><td>Married-civ-spouse                                        </td><td><span style=white-space:pre-wrap>Farming-fishing  </span> </td><td>Husband                                                   </td><td><span style=white-space:pre-wrap>White             </span></td><td>Male                                                      </td><td><span style=white-space:pre-wrap>    0</span>             </td><td>0                                                         </td><td>40                                                        </td><td>United-States                                             </td><td>&lt;=50K                                                  </td></tr>\n",
       "\t<tr><td>29                                                        </td><td><span style=white-space:pre-wrap>Private         </span>  </td><td>103634                                                    </td><td><span style=white-space:pre-wrap>11th        </span>      </td><td> 7                                                        </td><td>Married-civ-spouse                                        </td><td><span style=white-space:pre-wrap>Other-service    </span> </td><td>Husband                                                   </td><td><span style=white-space:pre-wrap>White             </span></td><td>Male                                                      </td><td><span style=white-space:pre-wrap>    0</span>             </td><td>0                                                         </td><td>40                                                        </td><td>United-States                                             </td><td>&lt;=50K                                                  </td></tr>\n",
       "\t<tr><td>39                                                        </td><td><span style=white-space:pre-wrap>Private         </span>  </td><td>290208                                                    </td><td><span style=white-space:pre-wrap>7th-8th     </span>      </td><td> 4                                                        </td><td>Married-civ-spouse                                        </td><td><span style=white-space:pre-wrap>Craft-repair     </span> </td><td>Husband                                                   </td><td><span style=white-space:pre-wrap>White             </span></td><td>Male                                                      </td><td><span style=white-space:pre-wrap>    0</span>             </td><td>0                                                         </td><td>40                                                        </td><td><span style=white-space:pre-wrap>Mexico       </span>     </td><td>&lt;=50K                                                  </td></tr>\n",
       "\t<tr><td>54                                                        </td><td><span style=white-space:pre-wrap>Private         </span>  </td><td>186272                                                    </td><td>Some-college                                              </td><td>10                                                        </td><td>Married-civ-spouse                                        </td><td>Transport-moving                                          </td><td>Husband                                                   </td><td><span style=white-space:pre-wrap>White             </span></td><td>Male                                                      </td><td> 3908                                                     </td><td>0                                                         </td><td>50                                                        </td><td>United-States                                             </td><td>&lt;=50K                                                  </td></tr>\n",
       "\t<tr><td>63                                                        </td><td><span style=white-space:pre-wrap>Private         </span>  </td><td>145985                                                    </td><td><span style=white-space:pre-wrap>HS-grad     </span>      </td><td> 9                                                        </td><td>Married-civ-spouse                                        </td><td><span style=white-space:pre-wrap>Craft-repair     </span> </td><td>Husband                                                   </td><td><span style=white-space:pre-wrap>White             </span></td><td>Male                                                      </td><td><span style=white-space:pre-wrap>    0</span>             </td><td>0                                                         </td><td>40                                                        </td><td>United-States                                             </td><td>&lt;=50K                                                  </td></tr>\n",
       "\t<tr><td>34                                                        </td><td><span style=white-space:pre-wrap>Local-gov       </span>  </td><td>382078                                                    </td><td><span style=white-space:pre-wrap>Bachelors   </span>      </td><td>13                                                        </td><td>Married-civ-spouse                                        </td><td><span style=white-space:pre-wrap>Exec-managerial  </span> </td><td>Husband                                                   </td><td><span style=white-space:pre-wrap>White             </span></td><td>Male                                                      </td><td> 3103                                                     </td><td>0                                                         </td><td>50                                                        </td><td>United-States                                             </td><td>&gt;50K                                                   </td></tr>\n",
       "\t<tr><td>42                                                        </td><td><span style=white-space:pre-wrap>Self-emp-inc    </span>  </td><td>170721                                                    </td><td><span style=white-space:pre-wrap>HS-grad     </span>      </td><td> 9                                                        </td><td>Married-civ-spouse                                        </td><td><span style=white-space:pre-wrap>Exec-managerial  </span> </td><td>Husband                                                   </td><td><span style=white-space:pre-wrap>White             </span></td><td>Male                                                      </td><td> 5178                                                     </td><td>0                                                         </td><td>50                                                        </td><td>United-States                                             </td><td>&gt;50K                                                   </td></tr>\n",
       "\t<tr><td>33                                                        </td><td><span style=white-space:pre-wrap>Private         </span>  </td><td>269705                                                    </td><td><span style=white-space:pre-wrap>HS-grad     </span>      </td><td> 9                                                        </td><td>Married-civ-spouse                                        </td><td>Handlers-cleaners                                         </td><td>Husband                                                   </td><td><span style=white-space:pre-wrap>White             </span></td><td>Male                                                      </td><td><span style=white-space:pre-wrap>    0</span>             </td><td>0                                                         </td><td>40                                                        </td><td>United-States                                             </td><td>&lt;=50K                                                  </td></tr>\n",
       "\t<tr><td>41                                                        </td><td><span style=white-space:pre-wrap>Self-emp-inc    </span>  </td><td>445382                                                    </td><td><span style=white-space:pre-wrap>Assoc-acdm  </span>      </td><td>12                                                        </td><td>Married-civ-spouse                                        </td><td><span style=white-space:pre-wrap>Craft-repair     </span> </td><td>Husband                                                   </td><td><span style=white-space:pre-wrap>White             </span></td><td>Male                                                      </td><td>15024                                                     </td><td>0                                                         </td><td>60                                                        </td><td>United-States                                             </td><td>&gt;50K                                                   </td></tr>\n",
       "\t<tr><td>...</td><td>...</td><td>...</td><td>...</td><td>...</td><td>...</td><td>...</td><td>...</td><td>...</td><td>...</td><td>...</td><td>...</td><td>...</td><td>...</td><td>...</td></tr>\n",
       "\t<tr><td>35                                                        </td><td><span style=white-space:pre-wrap>Private         </span>  </td><td> 30673                                                    </td><td><span style=white-space:pre-wrap>12th        </span>      </td><td> 8                                                        </td><td>Married-civ-spouse                                        </td><td><span style=white-space:pre-wrap>Craft-repair     </span> </td><td>Husband                                                   </td><td><span style=white-space:pre-wrap>White             </span></td><td>Male                                                      </td><td><span style=white-space:pre-wrap>    0</span>             </td><td>0                                                         </td><td>84                                                        </td><td>United-States                                             </td><td>&lt;=50K                                                  </td></tr>\n",
       "\t<tr><td>41                                                        </td><td><span style=white-space:pre-wrap>Private         </span>  </td><td>201495                                                    </td><td><span style=white-space:pre-wrap>Masters     </span>      </td><td>14                                                        </td><td>Married-civ-spouse                                        </td><td><span style=white-space:pre-wrap>Exec-managerial  </span> </td><td>Husband                                                   </td><td><span style=white-space:pre-wrap>White             </span></td><td>Male                                                      </td><td><span style=white-space:pre-wrap>    0</span>             </td><td>0                                                         </td><td>40                                                        </td><td>United-States                                             </td><td>&gt;50K                                                   </td></tr>\n",
       "\t<tr><td>32                                                        </td><td><span style=white-space:pre-wrap>Private         </span>  </td><td>157747                                                    </td><td>Some-college                                              </td><td>10                                                        </td><td>Married-civ-spouse                                        </td><td><span style=white-space:pre-wrap>Prof-specialty   </span> </td><td>Husband                                                   </td><td><span style=white-space:pre-wrap>White             </span></td><td>Male                                                      </td><td><span style=white-space:pre-wrap>    0</span>             </td><td>0                                                         </td><td>40                                                        </td><td>United-States                                             </td><td>&lt;=50K                                                  </td></tr>\n",
       "\t<tr><td>51                                                        </td><td><span style=white-space:pre-wrap>Private         </span>  </td><td>177669                                                    </td><td>Some-college                                              </td><td>10                                                        </td><td>Married-civ-spouse                                        </td><td><span style=white-space:pre-wrap>Sales            </span> </td><td>Husband                                                   </td><td><span style=white-space:pre-wrap>White             </span></td><td>Male                                                      </td><td><span style=white-space:pre-wrap>    0</span>             </td><td>0                                                         </td><td>60                                                        </td><td>United-States                                             </td><td>&lt;=50K                                                  </td></tr>\n",
       "\t<tr><td>61                                                        </td><td><span style=white-space:pre-wrap>Private         </span>  </td><td>355645                                                    </td><td><span style=white-space:pre-wrap>HS-grad     </span>      </td><td> 9                                                        </td><td>Married-civ-spouse                                        </td><td><span style=white-space:pre-wrap>Sales            </span> </td><td>Husband                                                   </td><td><span style=white-space:pre-wrap>Black             </span></td><td>Male                                                      </td><td><span style=white-space:pre-wrap>    0</span>             </td><td>0                                                         </td><td>40                                                        </td><td>United-States                                             </td><td>&lt;=50K                                                  </td></tr>\n",
       "\t<tr><td>57                                                        </td><td><span style=white-space:pre-wrap>Private         </span>  </td><td>153918                                                    </td><td><span style=white-space:pre-wrap>HS-grad     </span>      </td><td> 9                                                        </td><td>Married-civ-spouse                                        </td><td>Transport-moving                                          </td><td>Husband                                                   </td><td><span style=white-space:pre-wrap>White             </span></td><td>Male                                                      </td><td><span style=white-space:pre-wrap>    0</span>             </td><td>0                                                         </td><td>40                                                        </td><td>United-States                                             </td><td>&lt;=50K                                                  </td></tr>\n",
       "\t<tr><td>71                                                        </td><td><span style=white-space:pre-wrap>Private         </span>  </td><td>138145                                                    </td><td><span style=white-space:pre-wrap>9th         </span>      </td><td> 5                                                        </td><td>Married-civ-spouse                                        </td><td><span style=white-space:pre-wrap>Other-service    </span> </td><td>Husband                                                   </td><td><span style=white-space:pre-wrap>White             </span></td><td>Male                                                      </td><td><span style=white-space:pre-wrap>    0</span>             </td><td>0                                                         </td><td>40                                                        </td><td>United-States                                             </td><td>&lt;=50K                                                  </td></tr>\n",
       "\t<tr><td>35                                                        </td><td><span style=white-space:pre-wrap>Local-gov       </span>  </td><td> 79649                                                    </td><td><span style=white-space:pre-wrap>Bachelors   </span>      </td><td>13                                                        </td><td>Married-civ-spouse                                        </td><td><span style=white-space:pre-wrap>Prof-specialty   </span> </td><td>Husband                                                   </td><td><span style=white-space:pre-wrap>White             </span></td><td>Male                                                      </td><td><span style=white-space:pre-wrap>    0</span>             </td><td>0                                                         </td><td>50                                                        </td><td>United-States                                             </td><td>&lt;=50K                                                  </td></tr>\n",
       "\t<tr><td>47                                                        </td><td><span style=white-space:pre-wrap>Private         </span>  </td><td>312088                                                    </td><td><span style=white-space:pre-wrap>HS-grad     </span>      </td><td> 9                                                        </td><td>Married-civ-spouse                                        </td><td><span style=white-space:pre-wrap>Craft-repair     </span> </td><td>Husband                                                   </td><td><span style=white-space:pre-wrap>White             </span></td><td>Male                                                      </td><td><span style=white-space:pre-wrap>    0</span>             </td><td>0                                                         </td><td>40                                                        </td><td>United-States                                             </td><td>&lt;=50K                                                  </td></tr>\n",
       "\t<tr><td>38                                                        </td><td><span style=white-space:pre-wrap>Private         </span>  </td><td> 32916                                                    </td><td><span style=white-space:pre-wrap>Assoc-voc   </span>      </td><td>11                                                        </td><td>Married-civ-spouse                                        </td><td><span style=white-space:pre-wrap>Craft-repair     </span> </td><td>Husband                                                   </td><td><span style=white-space:pre-wrap>White             </span></td><td>Male                                                      </td><td><span style=white-space:pre-wrap>    0</span>             </td><td>0                                                         </td><td>55                                                        </td><td>United-States                                             </td><td>&gt;50K                                                   </td></tr>\n",
       "\t<tr><td>50                                                        </td><td><span style=white-space:pre-wrap>Private         </span>  </td><td>302372                                                    </td><td><span style=white-space:pre-wrap>Bachelors   </span>      </td><td>13                                                        </td><td>Married-civ-spouse                                        </td><td><span style=white-space:pre-wrap>Prof-specialty   </span> </td><td>Husband                                                   </td><td><span style=white-space:pre-wrap>White             </span></td><td>Male                                                      </td><td><span style=white-space:pre-wrap>    0</span>             </td><td>0                                                         </td><td>40                                                        </td><td>United-States                                             </td><td>&lt;=50K                                                  </td></tr>\n",
       "\t<tr><td>39                                                        </td><td><span style=white-space:pre-wrap>Private         </span>  </td><td>107302                                                    </td><td><span style=white-space:pre-wrap>HS-grad     </span>      </td><td> 9                                                        </td><td>Married-civ-spouse                                        </td><td><span style=white-space:pre-wrap>Prof-specialty   </span> </td><td>Husband                                                   </td><td><span style=white-space:pre-wrap>White             </span></td><td>Male                                                      </td><td><span style=white-space:pre-wrap>    0</span>             </td><td>0                                                         </td><td>45                                                        </td><td><span style=white-space:pre-wrap>?            </span>     </td><td>&gt;50K                                                   </td></tr>\n",
       "\t<tr><td>40                                                        </td><td><span style=white-space:pre-wrap>Private         </span>  </td><td>142657                                                    </td><td><span style=white-space:pre-wrap>Assoc-voc   </span>      </td><td>11                                                        </td><td>Married-civ-spouse                                        </td><td><span style=white-space:pre-wrap>Craft-repair     </span> </td><td>Husband                                                   </td><td><span style=white-space:pre-wrap>Black             </span></td><td>Male                                                      </td><td><span style=white-space:pre-wrap>    0</span>             </td><td>0                                                         </td><td>45                                                        </td><td>United-States                                             </td><td>&lt;=50K                                                  </td></tr>\n",
       "\t<tr><td>66                                                        </td><td><span style=white-space:pre-wrap>Federal-gov     </span>  </td><td> 47358                                                    </td><td><span style=white-space:pre-wrap>10th        </span>      </td><td> 6                                                        </td><td>Married-civ-spouse                                        </td><td><span style=white-space:pre-wrap>Craft-repair     </span> </td><td>Husband                                                   </td><td><span style=white-space:pre-wrap>White             </span></td><td>Male                                                      </td><td> 3471                                                     </td><td>0                                                         </td><td>40                                                        </td><td>United-States                                             </td><td>&lt;=50K                                                  </td></tr>\n",
       "\t<tr><td>36                                                        </td><td><span style=white-space:pre-wrap>Private         </span>  </td><td>131459                                                    </td><td><span style=white-space:pre-wrap>7th-8th     </span>      </td><td> 4                                                        </td><td>Married-civ-spouse                                        </td><td><span style=white-space:pre-wrap>Craft-repair     </span> </td><td>Husband                                                   </td><td><span style=white-space:pre-wrap>White             </span></td><td>Male                                                      </td><td><span style=white-space:pre-wrap>    0</span>             </td><td>0                                                         </td><td>40                                                        </td><td>United-States                                             </td><td>&lt;=50K                                                  </td></tr>\n",
       "\t<tr><td>57                                                        </td><td><span style=white-space:pre-wrap>Local-gov       </span>  </td><td>110417                                                    </td><td><span style=white-space:pre-wrap>HS-grad     </span>      </td><td> 9                                                        </td><td>Married-civ-spouse                                        </td><td><span style=white-space:pre-wrap>Craft-repair     </span> </td><td>Husband                                                   </td><td><span style=white-space:pre-wrap>White             </span></td><td>Male                                                      </td><td>99999                                                     </td><td>0                                                         </td><td>40                                                        </td><td>United-States                                             </td><td>&gt;50K                                                   </td></tr>\n",
       "\t<tr><td>46                                                        </td><td><span style=white-space:pre-wrap>Private         </span>  </td><td>364548                                                    </td><td>Some-college                                              </td><td>10                                                        </td><td>Married-civ-spouse                                        </td><td><span style=white-space:pre-wrap>Exec-managerial  </span> </td><td>Husband                                                   </td><td><span style=white-space:pre-wrap>White             </span></td><td>Male                                                      </td><td><span style=white-space:pre-wrap>    0</span>             </td><td>0                                                         </td><td>48                                                        </td><td>United-States                                             </td><td>&gt;50K                                                   </td></tr>\n",
       "\t<tr><td>33                                                        </td><td><span style=white-space:pre-wrap>Private         </span>  </td><td>273243                                                    </td><td><span style=white-space:pre-wrap>HS-grad     </span>      </td><td> 9                                                        </td><td>Married-civ-spouse                                        </td><td><span style=white-space:pre-wrap>Craft-repair     </span> </td><td>Husband                                                   </td><td><span style=white-space:pre-wrap>Black             </span></td><td>Male                                                      </td><td><span style=white-space:pre-wrap>    0</span>             </td><td>0                                                         </td><td>40                                                        </td><td>United-States                                             </td><td>&lt;=50K                                                  </td></tr>\n",
       "\t<tr><td>58                                                        </td><td><span style=white-space:pre-wrap>Private         </span>  </td><td>147707                                                    </td><td><span style=white-space:pre-wrap>11th        </span>      </td><td> 7                                                        </td><td>Married-civ-spouse                                        </td><td><span style=white-space:pre-wrap>Sales            </span> </td><td>Husband                                                   </td><td><span style=white-space:pre-wrap>White             </span></td><td>Male                                                      </td><td><span style=white-space:pre-wrap>    0</span>             </td><td>0                                                         </td><td>40                                                        </td><td>United-States                                             </td><td>&lt;=50K                                                  </td></tr>\n",
       "\t<tr><td>32                                                        </td><td><span style=white-space:pre-wrap>Private         </span>  </td><td>211349                                                    </td><td><span style=white-space:pre-wrap>10th        </span>      </td><td> 6                                                        </td><td>Married-civ-spouse                                        </td><td>Transport-moving                                          </td><td>Husband                                                   </td><td><span style=white-space:pre-wrap>White             </span></td><td>Male                                                      </td><td><span style=white-space:pre-wrap>    0</span>             </td><td>0                                                         </td><td>40                                                        </td><td>United-States                                             </td><td>&lt;=50K                                                  </td></tr>\n",
       "\t<tr><td>34                                                        </td><td><span style=white-space:pre-wrap>Private         </span>  </td><td>204461                                                    </td><td><span style=white-space:pre-wrap>Doctorate   </span>      </td><td>16                                                        </td><td>Married-civ-spouse                                        </td><td><span style=white-space:pre-wrap>Prof-specialty   </span> </td><td>Husband                                                   </td><td><span style=white-space:pre-wrap>White             </span></td><td>Male                                                      </td><td><span style=white-space:pre-wrap>    0</span>             </td><td>0                                                         </td><td>60                                                        </td><td>United-States                                             </td><td>&gt;50K                                                   </td></tr>\n",
       "\t<tr><td>54                                                       </td><td><span style=white-space:pre-wrap>Private         </span> </td><td>337992                                                   </td><td><span style=white-space:pre-wrap>Bachelors   </span>     </td><td>13                                                       </td><td>Married-civ-spouse                                       </td><td><span style=white-space:pre-wrap>Exec-managerial  </span></td><td>Husband                                                  </td><td>Asian-Pac-Islander                                       </td><td>Male                                                     </td><td><span style=white-space:pre-wrap>    0</span>            </td><td>0                                                        </td><td>50                                                       </td><td><span style=white-space:pre-wrap>Japan        </span>    </td><td>&gt;50K                                                  </td></tr>\n",
       "\t<tr><td>71                                                        </td><td><span style=white-space:pre-wrap>?               </span>  </td><td>287372                                                    </td><td><span style=white-space:pre-wrap>Doctorate   </span>      </td><td>16                                                        </td><td>Married-civ-spouse                                        </td><td><span style=white-space:pre-wrap>?                </span> </td><td>Husband                                                   </td><td><span style=white-space:pre-wrap>White             </span></td><td>Male                                                      </td><td><span style=white-space:pre-wrap>    0</span>             </td><td>0                                                         </td><td>10                                                        </td><td>United-States                                             </td><td>&gt;50K                                                   </td></tr>\n",
       "\t<tr><td>72                                                        </td><td><span style=white-space:pre-wrap>?               </span>  </td><td>129912                                                    </td><td><span style=white-space:pre-wrap>HS-grad     </span>      </td><td> 9                                                        </td><td>Married-civ-spouse                                        </td><td><span style=white-space:pre-wrap>?                </span> </td><td>Husband                                                   </td><td><span style=white-space:pre-wrap>White             </span></td><td>Male                                                      </td><td><span style=white-space:pre-wrap>    0</span>             </td><td>0                                                         </td><td>25                                                        </td><td>United-States                                             </td><td>&lt;=50K                                                  </td></tr>\n",
       "\t<tr><td>43                                                        </td><td><span style=white-space:pre-wrap>Private         </span>  </td><td>260761                                                    </td><td><span style=white-space:pre-wrap>HS-grad     </span>      </td><td> 9                                                        </td><td>Married-civ-spouse                                        </td><td>Machine-op-inspct                                         </td><td>Husband                                                   </td><td><span style=white-space:pre-wrap>White             </span></td><td>Male                                                      </td><td><span style=white-space:pre-wrap>    0</span>             </td><td>0                                                         </td><td>40                                                        </td><td><span style=white-space:pre-wrap>Mexico       </span>     </td><td>&lt;=50K                                                  </td></tr>\n",
       "\t<tr><td>43                                                        </td><td>Self-emp-not-inc                                          </td><td> 27242                                                    </td><td>Some-college                                              </td><td>10                                                        </td><td>Married-civ-spouse                                        </td><td><span style=white-space:pre-wrap>Craft-repair     </span> </td><td>Husband                                                   </td><td><span style=white-space:pre-wrap>White             </span></td><td>Male                                                      </td><td><span style=white-space:pre-wrap>    0</span>             </td><td>0                                                         </td><td>50                                                        </td><td>United-States                                             </td><td>&lt;=50K                                                  </td></tr>\n",
       "\t<tr><td>32                                                      </td><td><span style=white-space:pre-wrap>Private         </span></td><td> 34066                                                  </td><td><span style=white-space:pre-wrap>10th        </span>    </td><td> 6                                                      </td><td>Married-civ-spouse                                      </td><td>Handlers-cleaners                                       </td><td>Husband                                                 </td><td>Amer-Indian-Eskimo                                      </td><td>Male                                                    </td><td><span style=white-space:pre-wrap>    0</span>           </td><td>0                                                       </td><td>40                                                      </td><td>United-States                                           </td><td>&lt;=50K                                                </td></tr>\n",
       "\t<tr><td>43                                                        </td><td><span style=white-space:pre-wrap>Private         </span>  </td><td> 84661                                                    </td><td><span style=white-space:pre-wrap>Assoc-voc   </span>      </td><td>11                                                        </td><td>Married-civ-spouse                                        </td><td><span style=white-space:pre-wrap>Sales            </span> </td><td>Husband                                                   </td><td><span style=white-space:pre-wrap>White             </span></td><td>Male                                                      </td><td><span style=white-space:pre-wrap>    0</span>             </td><td>0                                                         </td><td>45                                                        </td><td>United-States                                             </td><td>&lt;=50K                                                  </td></tr>\n",
       "\t<tr><td>53                                                        </td><td><span style=white-space:pre-wrap>Private         </span>  </td><td>321865                                                    </td><td><span style=white-space:pre-wrap>Masters     </span>      </td><td>14                                                        </td><td>Married-civ-spouse                                        </td><td><span style=white-space:pre-wrap>Exec-managerial  </span> </td><td>Husband                                                   </td><td><span style=white-space:pre-wrap>White             </span></td><td>Male                                                      </td><td><span style=white-space:pre-wrap>    0</span>             </td><td>0                                                         </td><td>40                                                        </td><td>United-States                                             </td><td>&gt;50K                                                   </td></tr>\n",
       "\t<tr><td>40                                                        </td><td><span style=white-space:pre-wrap>Private         </span>  </td><td>154374                                                    </td><td><span style=white-space:pre-wrap>HS-grad     </span>      </td><td> 9                                                        </td><td>Married-civ-spouse                                        </td><td>Machine-op-inspct                                         </td><td>Husband                                                   </td><td><span style=white-space:pre-wrap>White             </span></td><td>Male                                                      </td><td><span style=white-space:pre-wrap>    0</span>             </td><td>0                                                         </td><td>40                                                        </td><td>United-States                                             </td><td>&gt;50K                                                   </td></tr>\n",
       "</tbody>\n",
       "</table>\n"
      ],
      "text/latex": [
       "\\begin{tabular}{r|lllllllllllllll}\n",
       " age & workclass & fnlwgt & education & educational.num & marital.status & occupation & relationship & race & gender & capital.gain & capital.loss & hours.per.week & native.country & income\\\\\n",
       "\\hline\n",
       "\t 38                 & Private            &  89814             & HS-grad            &  9                 & Married-civ-spouse & Farming-fishing    & Husband            & White              & Male               &     0              & 0                  & 50                 & United-States      & <=50K             \\\\\n",
       "\t 28                 & Local-gov          & 336951             & Assoc-acdm         & 12                 & Married-civ-spouse & Protective-serv    & Husband            & White              & Male               &     0              & 0                  & 40                 & United-States      & >50K              \\\\\n",
       "\t 44                 & Private            & 160323             & Some-college       & 10                 & Married-civ-spouse & Machine-op-inspct  & Husband            & Black              & Male               &  7688              & 0                  & 40                 & United-States      & >50K              \\\\\n",
       "\t 63                 & Self-emp-not-inc   & 104626             & Prof-school        & 15                 & Married-civ-spouse & Prof-specialty     & Husband            & White              & Male               &  3103              & 0                  & 32                 & United-States      & >50K              \\\\\n",
       "\t 55                 & Private            & 104996             & 7th-8th            &  4                 & Married-civ-spouse & Craft-repair       & Husband            & White              & Male               &     0              & 0                  & 10                 & United-States      & <=50K             \\\\\n",
       "\t 65                 & Private            & 184454             & HS-grad            &  9                 & Married-civ-spouse & Machine-op-inspct  & Husband            & White              & Male               &  6418              & 0                  & 40                 & United-States      & >50K              \\\\\n",
       "\t 36                 & Federal-gov        & 212465             & Bachelors          & 13                 & Married-civ-spouse & Adm-clerical       & Husband            & White              & Male               &     0              & 0                  & 40                 & United-States      & <=50K             \\\\\n",
       "\t 58                 & ?                  & 299831             & HS-grad            &  9                 & Married-civ-spouse & ?                  & Husband            & White              & Male               &     0              & 0                  & 35                 & United-States      & <=50K             \\\\\n",
       "\t 48                 & Private            & 279724             & HS-grad            &  9                 & Married-civ-spouse & Machine-op-inspct  & Husband            & White              & Male               &  3103              & 0                  & 48                 & United-States      & >50K              \\\\\n",
       "\t 43                 & Private            & 346189             & Masters            & 14                 & Married-civ-spouse & Exec-managerial    & Husband            & White              & Male               &     0              & 0                  & 50                 & United-States      & >50K              \\\\\n",
       "\t 40                 & Private            &  85019             & Doctorate          & 16                 & Married-civ-spouse & Prof-specialty     & Husband            & Asian-Pac-Islander & Male               &     0              & 0                  & 45                 & ?                  & >50K              \\\\\n",
       "\t 34                 & Private            & 107914             & Bachelors          & 13                 & Married-civ-spouse & Tech-support       & Husband            & White              & Male               &     0              & 0                  & 47                 & United-States      & >50K              \\\\\n",
       "\t 25                 & Private            & 205947             & Bachelors          & 13                 & Married-civ-spouse & Prof-specialty     & Husband            & White              & Male               &     0              & 0                  & 40                 & United-States      & <=50K             \\\\\n",
       "\t 45                 & Self-emp-not-inc   & 432824             & HS-grad            &  9                 & Married-civ-spouse & Craft-repair       & Husband            & White              & Male               &  7298              & 0                  & 90                 & United-States      & >50K              \\\\\n",
       "\t 54                 & Private            &  99516             & HS-grad            &  9                 & Married-civ-spouse & Craft-repair       & Husband            & White              & Male               &     0              & 0                  & 35                 & United-States      & <=50K             \\\\\n",
       "\t 46                 & State-gov          & 106444             & Some-college       & 10                 & Married-civ-spouse & Exec-managerial    & Husband            & Black              & Male               &  7688              & 0                  & 38                 & United-States      & >50K              \\\\\n",
       "\t 23                 & Local-gov          & 258120             & Some-college       & 10                 & Married-civ-spouse & Protective-serv    & Husband            & White              & Male               &     0              & 0                  & 40                 & United-States      & <=50K             \\\\\n",
       "\t 65                 & ?                  & 191846             & HS-grad            &  9                 & Married-civ-spouse & ?                  & Husband            & White              & Male               &     0              & 0                  & 40                 & United-States      & <=50K             \\\\\n",
       "\t 36                 & Local-gov          & 403681             & Bachelors          & 13                 & Married-civ-spouse & Prof-specialty     & Husband            & White              & Male               &     0              & 0                  & 40                 & United-States      & >50K              \\\\\n",
       "\t 65                 & Private            & 136384             & Masters            & 14                 & Married-civ-spouse & Prof-specialty     & Husband            & White              & Male               &     0              & 0                  & 50                 & United-States      & >50K              \\\\\n",
       "\t 44                 & Self-emp-inc       & 120277             & Assoc-voc          & 11                 & Married-civ-spouse & Sales              & Husband            & White              & Male               &     0              & 0                  & 45                 & United-States      & >50K              \\\\\n",
       "\t 36                 & Private            & 465326             & HS-grad            &  9                 & Married-civ-spouse & Farming-fishing    & Husband            & White              & Male               &     0              & 0                  & 40                 & United-States      & <=50K             \\\\\n",
       "\t 29                 & Private            & 103634             & 11th               &  7                 & Married-civ-spouse & Other-service      & Husband            & White              & Male               &     0              & 0                  & 40                 & United-States      & <=50K             \\\\\n",
       "\t 39                 & Private            & 290208             & 7th-8th            &  4                 & Married-civ-spouse & Craft-repair       & Husband            & White              & Male               &     0              & 0                  & 40                 & Mexico             & <=50K             \\\\\n",
       "\t 54                 & Private            & 186272             & Some-college       & 10                 & Married-civ-spouse & Transport-moving   & Husband            & White              & Male               &  3908              & 0                  & 50                 & United-States      & <=50K             \\\\\n",
       "\t 63                 & Private            & 145985             & HS-grad            &  9                 & Married-civ-spouse & Craft-repair       & Husband            & White              & Male               &     0              & 0                  & 40                 & United-States      & <=50K             \\\\\n",
       "\t 34                 & Local-gov          & 382078             & Bachelors          & 13                 & Married-civ-spouse & Exec-managerial    & Husband            & White              & Male               &  3103              & 0                  & 50                 & United-States      & >50K              \\\\\n",
       "\t 42                 & Self-emp-inc       & 170721             & HS-grad            &  9                 & Married-civ-spouse & Exec-managerial    & Husband            & White              & Male               &  5178              & 0                  & 50                 & United-States      & >50K              \\\\\n",
       "\t 33                 & Private            & 269705             & HS-grad            &  9                 & Married-civ-spouse & Handlers-cleaners  & Husband            & White              & Male               &     0              & 0                  & 40                 & United-States      & <=50K             \\\\\n",
       "\t 41                 & Self-emp-inc       & 445382             & Assoc-acdm         & 12                 & Married-civ-spouse & Craft-repair       & Husband            & White              & Male               & 15024              & 0                  & 60                 & United-States      & >50K              \\\\\n",
       "\t ... & ... & ... & ... & ... & ... & ... & ... & ... & ... & ... & ... & ... & ... & ...\\\\\n",
       "\t 35                 & Private            &  30673             & 12th               &  8                 & Married-civ-spouse & Craft-repair       & Husband            & White              & Male               &     0              & 0                  & 84                 & United-States      & <=50K             \\\\\n",
       "\t 41                 & Private            & 201495             & Masters            & 14                 & Married-civ-spouse & Exec-managerial    & Husband            & White              & Male               &     0              & 0                  & 40                 & United-States      & >50K              \\\\\n",
       "\t 32                 & Private            & 157747             & Some-college       & 10                 & Married-civ-spouse & Prof-specialty     & Husband            & White              & Male               &     0              & 0                  & 40                 & United-States      & <=50K             \\\\\n",
       "\t 51                 & Private            & 177669             & Some-college       & 10                 & Married-civ-spouse & Sales              & Husband            & White              & Male               &     0              & 0                  & 60                 & United-States      & <=50K             \\\\\n",
       "\t 61                 & Private            & 355645             & HS-grad            &  9                 & Married-civ-spouse & Sales              & Husband            & Black              & Male               &     0              & 0                  & 40                 & United-States      & <=50K             \\\\\n",
       "\t 57                 & Private            & 153918             & HS-grad            &  9                 & Married-civ-spouse & Transport-moving   & Husband            & White              & Male               &     0              & 0                  & 40                 & United-States      & <=50K             \\\\\n",
       "\t 71                 & Private            & 138145             & 9th                &  5                 & Married-civ-spouse & Other-service      & Husband            & White              & Male               &     0              & 0                  & 40                 & United-States      & <=50K             \\\\\n",
       "\t 35                 & Local-gov          &  79649             & Bachelors          & 13                 & Married-civ-spouse & Prof-specialty     & Husband            & White              & Male               &     0              & 0                  & 50                 & United-States      & <=50K             \\\\\n",
       "\t 47                 & Private            & 312088             & HS-grad            &  9                 & Married-civ-spouse & Craft-repair       & Husband            & White              & Male               &     0              & 0                  & 40                 & United-States      & <=50K             \\\\\n",
       "\t 38                 & Private            &  32916             & Assoc-voc          & 11                 & Married-civ-spouse & Craft-repair       & Husband            & White              & Male               &     0              & 0                  & 55                 & United-States      & >50K              \\\\\n",
       "\t 50                 & Private            & 302372             & Bachelors          & 13                 & Married-civ-spouse & Prof-specialty     & Husband            & White              & Male               &     0              & 0                  & 40                 & United-States      & <=50K             \\\\\n",
       "\t 39                 & Private            & 107302             & HS-grad            &  9                 & Married-civ-spouse & Prof-specialty     & Husband            & White              & Male               &     0              & 0                  & 45                 & ?                  & >50K              \\\\\n",
       "\t 40                 & Private            & 142657             & Assoc-voc          & 11                 & Married-civ-spouse & Craft-repair       & Husband            & Black              & Male               &     0              & 0                  & 45                 & United-States      & <=50K             \\\\\n",
       "\t 66                 & Federal-gov        &  47358             & 10th               &  6                 & Married-civ-spouse & Craft-repair       & Husband            & White              & Male               &  3471              & 0                  & 40                 & United-States      & <=50K             \\\\\n",
       "\t 36                 & Private            & 131459             & 7th-8th            &  4                 & Married-civ-spouse & Craft-repair       & Husband            & White              & Male               &     0              & 0                  & 40                 & United-States      & <=50K             \\\\\n",
       "\t 57                 & Local-gov          & 110417             & HS-grad            &  9                 & Married-civ-spouse & Craft-repair       & Husband            & White              & Male               & 99999              & 0                  & 40                 & United-States      & >50K              \\\\\n",
       "\t 46                 & Private            & 364548             & Some-college       & 10                 & Married-civ-spouse & Exec-managerial    & Husband            & White              & Male               &     0              & 0                  & 48                 & United-States      & >50K              \\\\\n",
       "\t 33                 & Private            & 273243             & HS-grad            &  9                 & Married-civ-spouse & Craft-repair       & Husband            & Black              & Male               &     0              & 0                  & 40                 & United-States      & <=50K             \\\\\n",
       "\t 58                 & Private            & 147707             & 11th               &  7                 & Married-civ-spouse & Sales              & Husband            & White              & Male               &     0              & 0                  & 40                 & United-States      & <=50K             \\\\\n",
       "\t 32                 & Private            & 211349             & 10th               &  6                 & Married-civ-spouse & Transport-moving   & Husband            & White              & Male               &     0              & 0                  & 40                 & United-States      & <=50K             \\\\\n",
       "\t 34                 & Private            & 204461             & Doctorate          & 16                 & Married-civ-spouse & Prof-specialty     & Husband            & White              & Male               &     0              & 0                  & 60                 & United-States      & >50K              \\\\\n",
       "\t 54                 & Private            & 337992             & Bachelors          & 13                 & Married-civ-spouse & Exec-managerial    & Husband            & Asian-Pac-Islander & Male               &     0              & 0                  & 50                 & Japan              & >50K              \\\\\n",
       "\t 71                 & ?                  & 287372             & Doctorate          & 16                 & Married-civ-spouse & ?                  & Husband            & White              & Male               &     0              & 0                  & 10                 & United-States      & >50K              \\\\\n",
       "\t 72                 & ?                  & 129912             & HS-grad            &  9                 & Married-civ-spouse & ?                  & Husband            & White              & Male               &     0              & 0                  & 25                 & United-States      & <=50K             \\\\\n",
       "\t 43                 & Private            & 260761             & HS-grad            &  9                 & Married-civ-spouse & Machine-op-inspct  & Husband            & White              & Male               &     0              & 0                  & 40                 & Mexico             & <=50K             \\\\\n",
       "\t 43                 & Self-emp-not-inc   &  27242             & Some-college       & 10                 & Married-civ-spouse & Craft-repair       & Husband            & White              & Male               &     0              & 0                  & 50                 & United-States      & <=50K             \\\\\n",
       "\t 32                 & Private            &  34066             & 10th               &  6                 & Married-civ-spouse & Handlers-cleaners  & Husband            & Amer-Indian-Eskimo & Male               &     0              & 0                  & 40                 & United-States      & <=50K             \\\\\n",
       "\t 43                 & Private            &  84661             & Assoc-voc          & 11                 & Married-civ-spouse & Sales              & Husband            & White              & Male               &     0              & 0                  & 45                 & United-States      & <=50K             \\\\\n",
       "\t 53                 & Private            & 321865             & Masters            & 14                 & Married-civ-spouse & Exec-managerial    & Husband            & White              & Male               &     0              & 0                  & 40                 & United-States      & >50K              \\\\\n",
       "\t 40                 & Private            & 154374             & HS-grad            &  9                 & Married-civ-spouse & Machine-op-inspct  & Husband            & White              & Male               &     0              & 0                  & 40                 & United-States      & >50K              \\\\\n",
       "\\end{tabular}\n"
      ],
      "text/markdown": [
       "\n",
       "| age | workclass | fnlwgt | education | educational.num | marital.status | occupation | relationship | race | gender | capital.gain | capital.loss | hours.per.week | native.country | income |\n",
       "|---|---|---|---|---|---|---|---|---|---|---|---|---|---|---|\n",
       "| 38                 | Private            |  89814             | HS-grad            |  9                 | Married-civ-spouse | Farming-fishing    | Husband            | White              | Male               |     0              | 0                  | 50                 | United-States      | <=50K              |\n",
       "| 28                 | Local-gov          | 336951             | Assoc-acdm         | 12                 | Married-civ-spouse | Protective-serv    | Husband            | White              | Male               |     0              | 0                  | 40                 | United-States      | >50K               |\n",
       "| 44                 | Private            | 160323             | Some-college       | 10                 | Married-civ-spouse | Machine-op-inspct  | Husband            | Black              | Male               |  7688              | 0                  | 40                 | United-States      | >50K               |\n",
       "| 63                 | Self-emp-not-inc   | 104626             | Prof-school        | 15                 | Married-civ-spouse | Prof-specialty     | Husband            | White              | Male               |  3103              | 0                  | 32                 | United-States      | >50K               |\n",
       "| 55                 | Private            | 104996             | 7th-8th            |  4                 | Married-civ-spouse | Craft-repair       | Husband            | White              | Male               |     0              | 0                  | 10                 | United-States      | <=50K              |\n",
       "| 65                 | Private            | 184454             | HS-grad            |  9                 | Married-civ-spouse | Machine-op-inspct  | Husband            | White              | Male               |  6418              | 0                  | 40                 | United-States      | >50K               |\n",
       "| 36                 | Federal-gov        | 212465             | Bachelors          | 13                 | Married-civ-spouse | Adm-clerical       | Husband            | White              | Male               |     0              | 0                  | 40                 | United-States      | <=50K              |\n",
       "| 58                 | ?                  | 299831             | HS-grad            |  9                 | Married-civ-spouse | ?                  | Husband            | White              | Male               |     0              | 0                  | 35                 | United-States      | <=50K              |\n",
       "| 48                 | Private            | 279724             | HS-grad            |  9                 | Married-civ-spouse | Machine-op-inspct  | Husband            | White              | Male               |  3103              | 0                  | 48                 | United-States      | >50K               |\n",
       "| 43                 | Private            | 346189             | Masters            | 14                 | Married-civ-spouse | Exec-managerial    | Husband            | White              | Male               |     0              | 0                  | 50                 | United-States      | >50K               |\n",
       "| 40                 | Private            |  85019             | Doctorate          | 16                 | Married-civ-spouse | Prof-specialty     | Husband            | Asian-Pac-Islander | Male               |     0              | 0                  | 45                 | ?                  | >50K               |\n",
       "| 34                 | Private            | 107914             | Bachelors          | 13                 | Married-civ-spouse | Tech-support       | Husband            | White              | Male               |     0              | 0                  | 47                 | United-States      | >50K               |\n",
       "| 25                 | Private            | 205947             | Bachelors          | 13                 | Married-civ-spouse | Prof-specialty     | Husband            | White              | Male               |     0              | 0                  | 40                 | United-States      | <=50K              |\n",
       "| 45                 | Self-emp-not-inc   | 432824             | HS-grad            |  9                 | Married-civ-spouse | Craft-repair       | Husband            | White              | Male               |  7298              | 0                  | 90                 | United-States      | >50K               |\n",
       "| 54                 | Private            |  99516             | HS-grad            |  9                 | Married-civ-spouse | Craft-repair       | Husband            | White              | Male               |     0              | 0                  | 35                 | United-States      | <=50K              |\n",
       "| 46                 | State-gov          | 106444             | Some-college       | 10                 | Married-civ-spouse | Exec-managerial    | Husband            | Black              | Male               |  7688              | 0                  | 38                 | United-States      | >50K               |\n",
       "| 23                 | Local-gov          | 258120             | Some-college       | 10                 | Married-civ-spouse | Protective-serv    | Husband            | White              | Male               |     0              | 0                  | 40                 | United-States      | <=50K              |\n",
       "| 65                 | ?                  | 191846             | HS-grad            |  9                 | Married-civ-spouse | ?                  | Husband            | White              | Male               |     0              | 0                  | 40                 | United-States      | <=50K              |\n",
       "| 36                 | Local-gov          | 403681             | Bachelors          | 13                 | Married-civ-spouse | Prof-specialty     | Husband            | White              | Male               |     0              | 0                  | 40                 | United-States      | >50K               |\n",
       "| 65                 | Private            | 136384             | Masters            | 14                 | Married-civ-spouse | Prof-specialty     | Husband            | White              | Male               |     0              | 0                  | 50                 | United-States      | >50K               |\n",
       "| 44                 | Self-emp-inc       | 120277             | Assoc-voc          | 11                 | Married-civ-spouse | Sales              | Husband            | White              | Male               |     0              | 0                  | 45                 | United-States      | >50K               |\n",
       "| 36                 | Private            | 465326             | HS-grad            |  9                 | Married-civ-spouse | Farming-fishing    | Husband            | White              | Male               |     0              | 0                  | 40                 | United-States      | <=50K              |\n",
       "| 29                 | Private            | 103634             | 11th               |  7                 | Married-civ-spouse | Other-service      | Husband            | White              | Male               |     0              | 0                  | 40                 | United-States      | <=50K              |\n",
       "| 39                 | Private            | 290208             | 7th-8th            |  4                 | Married-civ-spouse | Craft-repair       | Husband            | White              | Male               |     0              | 0                  | 40                 | Mexico             | <=50K              |\n",
       "| 54                 | Private            | 186272             | Some-college       | 10                 | Married-civ-spouse | Transport-moving   | Husband            | White              | Male               |  3908              | 0                  | 50                 | United-States      | <=50K              |\n",
       "| 63                 | Private            | 145985             | HS-grad            |  9                 | Married-civ-spouse | Craft-repair       | Husband            | White              | Male               |     0              | 0                  | 40                 | United-States      | <=50K              |\n",
       "| 34                 | Local-gov          | 382078             | Bachelors          | 13                 | Married-civ-spouse | Exec-managerial    | Husband            | White              | Male               |  3103              | 0                  | 50                 | United-States      | >50K               |\n",
       "| 42                 | Self-emp-inc       | 170721             | HS-grad            |  9                 | Married-civ-spouse | Exec-managerial    | Husband            | White              | Male               |  5178              | 0                  | 50                 | United-States      | >50K               |\n",
       "| 33                 | Private            | 269705             | HS-grad            |  9                 | Married-civ-spouse | Handlers-cleaners  | Husband            | White              | Male               |     0              | 0                  | 40                 | United-States      | <=50K              |\n",
       "| 41                 | Self-emp-inc       | 445382             | Assoc-acdm         | 12                 | Married-civ-spouse | Craft-repair       | Husband            | White              | Male               | 15024              | 0                  | 60                 | United-States      | >50K               |\n",
       "| ... | ... | ... | ... | ... | ... | ... | ... | ... | ... | ... | ... | ... | ... | ... |\n",
       "| 35                 | Private            |  30673             | 12th               |  8                 | Married-civ-spouse | Craft-repair       | Husband            | White              | Male               |     0              | 0                  | 84                 | United-States      | <=50K              |\n",
       "| 41                 | Private            | 201495             | Masters            | 14                 | Married-civ-spouse | Exec-managerial    | Husband            | White              | Male               |     0              | 0                  | 40                 | United-States      | >50K               |\n",
       "| 32                 | Private            | 157747             | Some-college       | 10                 | Married-civ-spouse | Prof-specialty     | Husband            | White              | Male               |     0              | 0                  | 40                 | United-States      | <=50K              |\n",
       "| 51                 | Private            | 177669             | Some-college       | 10                 | Married-civ-spouse | Sales              | Husband            | White              | Male               |     0              | 0                  | 60                 | United-States      | <=50K              |\n",
       "| 61                 | Private            | 355645             | HS-grad            |  9                 | Married-civ-spouse | Sales              | Husband            | Black              | Male               |     0              | 0                  | 40                 | United-States      | <=50K              |\n",
       "| 57                 | Private            | 153918             | HS-grad            |  9                 | Married-civ-spouse | Transport-moving   | Husband            | White              | Male               |     0              | 0                  | 40                 | United-States      | <=50K              |\n",
       "| 71                 | Private            | 138145             | 9th                |  5                 | Married-civ-spouse | Other-service      | Husband            | White              | Male               |     0              | 0                  | 40                 | United-States      | <=50K              |\n",
       "| 35                 | Local-gov          |  79649             | Bachelors          | 13                 | Married-civ-spouse | Prof-specialty     | Husband            | White              | Male               |     0              | 0                  | 50                 | United-States      | <=50K              |\n",
       "| 47                 | Private            | 312088             | HS-grad            |  9                 | Married-civ-spouse | Craft-repair       | Husband            | White              | Male               |     0              | 0                  | 40                 | United-States      | <=50K              |\n",
       "| 38                 | Private            |  32916             | Assoc-voc          | 11                 | Married-civ-spouse | Craft-repair       | Husband            | White              | Male               |     0              | 0                  | 55                 | United-States      | >50K               |\n",
       "| 50                 | Private            | 302372             | Bachelors          | 13                 | Married-civ-spouse | Prof-specialty     | Husband            | White              | Male               |     0              | 0                  | 40                 | United-States      | <=50K              |\n",
       "| 39                 | Private            | 107302             | HS-grad            |  9                 | Married-civ-spouse | Prof-specialty     | Husband            | White              | Male               |     0              | 0                  | 45                 | ?                  | >50K               |\n",
       "| 40                 | Private            | 142657             | Assoc-voc          | 11                 | Married-civ-spouse | Craft-repair       | Husband            | Black              | Male               |     0              | 0                  | 45                 | United-States      | <=50K              |\n",
       "| 66                 | Federal-gov        |  47358             | 10th               |  6                 | Married-civ-spouse | Craft-repair       | Husband            | White              | Male               |  3471              | 0                  | 40                 | United-States      | <=50K              |\n",
       "| 36                 | Private            | 131459             | 7th-8th            |  4                 | Married-civ-spouse | Craft-repair       | Husband            | White              | Male               |     0              | 0                  | 40                 | United-States      | <=50K              |\n",
       "| 57                 | Local-gov          | 110417             | HS-grad            |  9                 | Married-civ-spouse | Craft-repair       | Husband            | White              | Male               | 99999              | 0                  | 40                 | United-States      | >50K               |\n",
       "| 46                 | Private            | 364548             | Some-college       | 10                 | Married-civ-spouse | Exec-managerial    | Husband            | White              | Male               |     0              | 0                  | 48                 | United-States      | >50K               |\n",
       "| 33                 | Private            | 273243             | HS-grad            |  9                 | Married-civ-spouse | Craft-repair       | Husband            | Black              | Male               |     0              | 0                  | 40                 | United-States      | <=50K              |\n",
       "| 58                 | Private            | 147707             | 11th               |  7                 | Married-civ-spouse | Sales              | Husband            | White              | Male               |     0              | 0                  | 40                 | United-States      | <=50K              |\n",
       "| 32                 | Private            | 211349             | 10th               |  6                 | Married-civ-spouse | Transport-moving   | Husband            | White              | Male               |     0              | 0                  | 40                 | United-States      | <=50K              |\n",
       "| 34                 | Private            | 204461             | Doctorate          | 16                 | Married-civ-spouse | Prof-specialty     | Husband            | White              | Male               |     0              | 0                  | 60                 | United-States      | >50K               |\n",
       "| 54                 | Private            | 337992             | Bachelors          | 13                 | Married-civ-spouse | Exec-managerial    | Husband            | Asian-Pac-Islander | Male               |     0              | 0                  | 50                 | Japan              | >50K               |\n",
       "| 71                 | ?                  | 287372             | Doctorate          | 16                 | Married-civ-spouse | ?                  | Husband            | White              | Male               |     0              | 0                  | 10                 | United-States      | >50K               |\n",
       "| 72                 | ?                  | 129912             | HS-grad            |  9                 | Married-civ-spouse | ?                  | Husband            | White              | Male               |     0              | 0                  | 25                 | United-States      | <=50K              |\n",
       "| 43                 | Private            | 260761             | HS-grad            |  9                 | Married-civ-spouse | Machine-op-inspct  | Husband            | White              | Male               |     0              | 0                  | 40                 | Mexico             | <=50K              |\n",
       "| 43                 | Self-emp-not-inc   |  27242             | Some-college       | 10                 | Married-civ-spouse | Craft-repair       | Husband            | White              | Male               |     0              | 0                  | 50                 | United-States      | <=50K              |\n",
       "| 32                 | Private            |  34066             | 10th               |  6                 | Married-civ-spouse | Handlers-cleaners  | Husband            | Amer-Indian-Eskimo | Male               |     0              | 0                  | 40                 | United-States      | <=50K              |\n",
       "| 43                 | Private            |  84661             | Assoc-voc          | 11                 | Married-civ-spouse | Sales              | Husband            | White              | Male               |     0              | 0                  | 45                 | United-States      | <=50K              |\n",
       "| 53                 | Private            | 321865             | Masters            | 14                 | Married-civ-spouse | Exec-managerial    | Husband            | White              | Male               |     0              | 0                  | 40                 | United-States      | >50K               |\n",
       "| 40                 | Private            | 154374             | HS-grad            |  9                 | Married-civ-spouse | Machine-op-inspct  | Husband            | White              | Male               |     0              | 0                  | 40                 | United-States      | >50K               |\n",
       "\n"
      ],
      "text/plain": [
       "      age workclass        fnlwgt education    educational.num\n",
       "1     38  Private           89814 HS-grad       9             \n",
       "2     28  Local-gov        336951 Assoc-acdm   12             \n",
       "3     44  Private          160323 Some-college 10             \n",
       "4     63  Self-emp-not-inc 104626 Prof-school  15             \n",
       "5     55  Private          104996 7th-8th       4             \n",
       "6     65  Private          184454 HS-grad       9             \n",
       "7     36  Federal-gov      212465 Bachelors    13             \n",
       "8     58  ?                299831 HS-grad       9             \n",
       "9     48  Private          279724 HS-grad       9             \n",
       "10    43  Private          346189 Masters      14             \n",
       "11    40  Private           85019 Doctorate    16             \n",
       "12    34  Private          107914 Bachelors    13             \n",
       "13    25  Private          205947 Bachelors    13             \n",
       "14    45  Self-emp-not-inc 432824 HS-grad       9             \n",
       "15    54  Private           99516 HS-grad       9             \n",
       "16    46  State-gov        106444 Some-college 10             \n",
       "17    23  Local-gov        258120 Some-college 10             \n",
       "18    65  ?                191846 HS-grad       9             \n",
       "19    36  Local-gov        403681 Bachelors    13             \n",
       "20    65  Private          136384 Masters      14             \n",
       "21    44  Self-emp-inc     120277 Assoc-voc    11             \n",
       "22    36  Private          465326 HS-grad       9             \n",
       "23    29  Private          103634 11th          7             \n",
       "24    39  Private          290208 7th-8th       4             \n",
       "25    54  Private          186272 Some-college 10             \n",
       "26    63  Private          145985 HS-grad       9             \n",
       "27    34  Local-gov        382078 Bachelors    13             \n",
       "28    42  Self-emp-inc     170721 HS-grad       9             \n",
       "29    33  Private          269705 HS-grad       9             \n",
       "30    41  Self-emp-inc     445382 Assoc-acdm   12             \n",
       "...   ... ...              ...    ...          ...            \n",
       "19686 35  Private           30673 12th          8             \n",
       "19687 41  Private          201495 Masters      14             \n",
       "19688 32  Private          157747 Some-college 10             \n",
       "19689 51  Private          177669 Some-college 10             \n",
       "19690 61  Private          355645 HS-grad       9             \n",
       "19691 57  Private          153918 HS-grad       9             \n",
       "19692 71  Private          138145 9th           5             \n",
       "19693 35  Local-gov         79649 Bachelors    13             \n",
       "19694 47  Private          312088 HS-grad       9             \n",
       "19695 38  Private           32916 Assoc-voc    11             \n",
       "19696 50  Private          302372 Bachelors    13             \n",
       "19697 39  Private          107302 HS-grad       9             \n",
       "19698 40  Private          142657 Assoc-voc    11             \n",
       "19699 66  Federal-gov       47358 10th          6             \n",
       "19700 36  Private          131459 7th-8th       4             \n",
       "19701 57  Local-gov        110417 HS-grad       9             \n",
       "19702 46  Private          364548 Some-college 10             \n",
       "19703 33  Private          273243 HS-grad       9             \n",
       "19704 58  Private          147707 11th          7             \n",
       "19705 32  Private          211349 10th          6             \n",
       "19706 34  Private          204461 Doctorate    16             \n",
       "19707 54  Private          337992 Bachelors    13             \n",
       "19708 71  ?                287372 Doctorate    16             \n",
       "19709 72  ?                129912 HS-grad       9             \n",
       "19710 43  Private          260761 HS-grad       9             \n",
       "19711 43  Self-emp-not-inc  27242 Some-college 10             \n",
       "19712 32  Private           34066 10th          6             \n",
       "19713 43  Private           84661 Assoc-voc    11             \n",
       "19714 53  Private          321865 Masters      14             \n",
       "19715 40  Private          154374 HS-grad       9             \n",
       "      marital.status     occupation        relationship race              \n",
       "1     Married-civ-spouse Farming-fishing   Husband      White             \n",
       "2     Married-civ-spouse Protective-serv   Husband      White             \n",
       "3     Married-civ-spouse Machine-op-inspct Husband      Black             \n",
       "4     Married-civ-spouse Prof-specialty    Husband      White             \n",
       "5     Married-civ-spouse Craft-repair      Husband      White             \n",
       "6     Married-civ-spouse Machine-op-inspct Husband      White             \n",
       "7     Married-civ-spouse Adm-clerical      Husband      White             \n",
       "8     Married-civ-spouse ?                 Husband      White             \n",
       "9     Married-civ-spouse Machine-op-inspct Husband      White             \n",
       "10    Married-civ-spouse Exec-managerial   Husband      White             \n",
       "11    Married-civ-spouse Prof-specialty    Husband      Asian-Pac-Islander\n",
       "12    Married-civ-spouse Tech-support      Husband      White             \n",
       "13    Married-civ-spouse Prof-specialty    Husband      White             \n",
       "14    Married-civ-spouse Craft-repair      Husband      White             \n",
       "15    Married-civ-spouse Craft-repair      Husband      White             \n",
       "16    Married-civ-spouse Exec-managerial   Husband      Black             \n",
       "17    Married-civ-spouse Protective-serv   Husband      White             \n",
       "18    Married-civ-spouse ?                 Husband      White             \n",
       "19    Married-civ-spouse Prof-specialty    Husband      White             \n",
       "20    Married-civ-spouse Prof-specialty    Husband      White             \n",
       "21    Married-civ-spouse Sales             Husband      White             \n",
       "22    Married-civ-spouse Farming-fishing   Husband      White             \n",
       "23    Married-civ-spouse Other-service     Husband      White             \n",
       "24    Married-civ-spouse Craft-repair      Husband      White             \n",
       "25    Married-civ-spouse Transport-moving  Husband      White             \n",
       "26    Married-civ-spouse Craft-repair      Husband      White             \n",
       "27    Married-civ-spouse Exec-managerial   Husband      White             \n",
       "28    Married-civ-spouse Exec-managerial   Husband      White             \n",
       "29    Married-civ-spouse Handlers-cleaners Husband      White             \n",
       "30    Married-civ-spouse Craft-repair      Husband      White             \n",
       "...   ...                ...               ...          ...               \n",
       "19686 Married-civ-spouse Craft-repair      Husband      White             \n",
       "19687 Married-civ-spouse Exec-managerial   Husband      White             \n",
       "19688 Married-civ-spouse Prof-specialty    Husband      White             \n",
       "19689 Married-civ-spouse Sales             Husband      White             \n",
       "19690 Married-civ-spouse Sales             Husband      Black             \n",
       "19691 Married-civ-spouse Transport-moving  Husband      White             \n",
       "19692 Married-civ-spouse Other-service     Husband      White             \n",
       "19693 Married-civ-spouse Prof-specialty    Husband      White             \n",
       "19694 Married-civ-spouse Craft-repair      Husband      White             \n",
       "19695 Married-civ-spouse Craft-repair      Husband      White             \n",
       "19696 Married-civ-spouse Prof-specialty    Husband      White             \n",
       "19697 Married-civ-spouse Prof-specialty    Husband      White             \n",
       "19698 Married-civ-spouse Craft-repair      Husband      Black             \n",
       "19699 Married-civ-spouse Craft-repair      Husband      White             \n",
       "19700 Married-civ-spouse Craft-repair      Husband      White             \n",
       "19701 Married-civ-spouse Craft-repair      Husband      White             \n",
       "19702 Married-civ-spouse Exec-managerial   Husband      White             \n",
       "19703 Married-civ-spouse Craft-repair      Husband      Black             \n",
       "19704 Married-civ-spouse Sales             Husband      White             \n",
       "19705 Married-civ-spouse Transport-moving  Husband      White             \n",
       "19706 Married-civ-spouse Prof-specialty    Husband      White             \n",
       "19707 Married-civ-spouse Exec-managerial   Husband      Asian-Pac-Islander\n",
       "19708 Married-civ-spouse ?                 Husband      White             \n",
       "19709 Married-civ-spouse ?                 Husband      White             \n",
       "19710 Married-civ-spouse Machine-op-inspct Husband      White             \n",
       "19711 Married-civ-spouse Craft-repair      Husband      White             \n",
       "19712 Married-civ-spouse Handlers-cleaners Husband      Amer-Indian-Eskimo\n",
       "19713 Married-civ-spouse Sales             Husband      White             \n",
       "19714 Married-civ-spouse Exec-managerial   Husband      White             \n",
       "19715 Married-civ-spouse Machine-op-inspct Husband      White             \n",
       "      gender capital.gain capital.loss hours.per.week native.country income\n",
       "1     Male       0        0            50             United-States  <=50K \n",
       "2     Male       0        0            40             United-States  >50K  \n",
       "3     Male    7688        0            40             United-States  >50K  \n",
       "4     Male    3103        0            32             United-States  >50K  \n",
       "5     Male       0        0            10             United-States  <=50K \n",
       "6     Male    6418        0            40             United-States  >50K  \n",
       "7     Male       0        0            40             United-States  <=50K \n",
       "8     Male       0        0            35             United-States  <=50K \n",
       "9     Male    3103        0            48             United-States  >50K  \n",
       "10    Male       0        0            50             United-States  >50K  \n",
       "11    Male       0        0            45             ?              >50K  \n",
       "12    Male       0        0            47             United-States  >50K  \n",
       "13    Male       0        0            40             United-States  <=50K \n",
       "14    Male    7298        0            90             United-States  >50K  \n",
       "15    Male       0        0            35             United-States  <=50K \n",
       "16    Male    7688        0            38             United-States  >50K  \n",
       "17    Male       0        0            40             United-States  <=50K \n",
       "18    Male       0        0            40             United-States  <=50K \n",
       "19    Male       0        0            40             United-States  >50K  \n",
       "20    Male       0        0            50             United-States  >50K  \n",
       "21    Male       0        0            45             United-States  >50K  \n",
       "22    Male       0        0            40             United-States  <=50K \n",
       "23    Male       0        0            40             United-States  <=50K \n",
       "24    Male       0        0            40             Mexico         <=50K \n",
       "25    Male    3908        0            50             United-States  <=50K \n",
       "26    Male       0        0            40             United-States  <=50K \n",
       "27    Male    3103        0            50             United-States  >50K  \n",
       "28    Male    5178        0            50             United-States  >50K  \n",
       "29    Male       0        0            40             United-States  <=50K \n",
       "30    Male   15024        0            60             United-States  >50K  \n",
       "...   ...    ...          ...          ...            ...            ...   \n",
       "19686 Male       0        0            84             United-States  <=50K \n",
       "19687 Male       0        0            40             United-States  >50K  \n",
       "19688 Male       0        0            40             United-States  <=50K \n",
       "19689 Male       0        0            60             United-States  <=50K \n",
       "19690 Male       0        0            40             United-States  <=50K \n",
       "19691 Male       0        0            40             United-States  <=50K \n",
       "19692 Male       0        0            40             United-States  <=50K \n",
       "19693 Male       0        0            50             United-States  <=50K \n",
       "19694 Male       0        0            40             United-States  <=50K \n",
       "19695 Male       0        0            55             United-States  >50K  \n",
       "19696 Male       0        0            40             United-States  <=50K \n",
       "19697 Male       0        0            45             ?              >50K  \n",
       "19698 Male       0        0            45             United-States  <=50K \n",
       "19699 Male    3471        0            40             United-States  <=50K \n",
       "19700 Male       0        0            40             United-States  <=50K \n",
       "19701 Male   99999        0            40             United-States  >50K  \n",
       "19702 Male       0        0            48             United-States  >50K  \n",
       "19703 Male       0        0            40             United-States  <=50K \n",
       "19704 Male       0        0            40             United-States  <=50K \n",
       "19705 Male       0        0            40             United-States  <=50K \n",
       "19706 Male       0        0            60             United-States  >50K  \n",
       "19707 Male       0        0            50             Japan          >50K  \n",
       "19708 Male       0        0            10             United-States  >50K  \n",
       "19709 Male       0        0            25             United-States  <=50K \n",
       "19710 Male       0        0            40             Mexico         <=50K \n",
       "19711 Male       0        0            50             United-States  <=50K \n",
       "19712 Male       0        0            40             United-States  <=50K \n",
       "19713 Male       0        0            45             United-States  <=50K \n",
       "19714 Male       0        0            40             United-States  >50K  \n",
       "19715 Male       0        0            40             United-States  >50K  "
      ]
     },
     "metadata": {},
     "output_type": "display_data"
    }
   ],
   "source": [
    "# filtered the data where gender is male and \n",
    "# relationship is husband\n",
    "filter(adult,gender==\"Male\",relationship==\"Husband\")"
   ]
  },
  {
   "cell_type": "code",
   "execution_count": 11,
   "metadata": {
    "scrolled": true
   },
   "outputs": [
    {
     "name": "stdout",
     "output_type": "stream",
     "text": [
      "'data.frame':\t48842 obs. of  15 variables:\n",
      " $ age            : int  25 38 28 44 18 34 29 63 24 55 ...\n",
      " $ workclass      : Factor w/ 9 levels \"?\",\"Federal-gov\",..: 5 5 3 5 1 5 1 7 5 5 ...\n",
      " $ fnlwgt         : int  226802 89814 336951 160323 103497 198693 227026 104626 369667 104996 ...\n",
      " $ education      : Factor w/ 16 levels \"10th\",\"11th\",..: 2 12 8 16 16 1 12 15 16 6 ...\n",
      " $ educational.num: int  7 9 12 10 10 6 9 15 10 4 ...\n",
      " $ marital.status : Factor w/ 7 levels \"Divorced\",\"Married-AF-spouse\",..: 5 3 3 3 5 5 5 3 5 3 ...\n",
      " $ occupation     : Factor w/ 15 levels \"?\",\"Adm-clerical\",..: 8 6 12 8 1 9 1 11 9 4 ...\n",
      " $ relationship   : Factor w/ 6 levels \"Husband\",\"Not-in-family\",..: 4 1 1 1 4 2 5 1 5 1 ...\n",
      " $ race           : Factor w/ 5 levels \"Amer-Indian-Eskimo\",..: 3 5 5 3 5 5 3 5 5 5 ...\n",
      " $ gender         : Factor w/ 2 levels \"Female\",\"Male\": 2 2 2 2 1 2 2 2 1 2 ...\n",
      " $ capital.gain   : int  0 0 0 7688 0 0 0 3103 0 0 ...\n",
      " $ capital.loss   : int  0 0 0 0 0 0 0 0 0 0 ...\n",
      " $ hours.per.week : int  40 50 40 40 30 30 40 32 40 10 ...\n",
      " $ native.country : Factor w/ 42 levels \"?\",\"Cambodia\",..: 40 40 40 40 40 40 40 40 40 40 ...\n",
      " $ income         : Factor w/ 2 levels \"<=50K\",\">50K\": 1 1 2 2 1 1 1 2 1 1 ...\n"
     ]
    }
   ],
   "source": [
    "# internal structure of dataset\n",
    "str(adult)"
   ]
  },
  {
   "cell_type": "code",
   "execution_count": 12,
   "metadata": {
    "scrolled": false
   },
   "outputs": [
    {
     "data": {
      "text/plain": [
       "      age                   workclass         fnlwgt       \n",
       " Min.   :17.00   Private         :33906   Min.   :  12285  \n",
       " 1st Qu.:28.00   Self-emp-not-inc: 3862   1st Qu.: 117551  \n",
       " Median :37.00   Local-gov       : 3136   Median : 178145  \n",
       " Mean   :38.64   ?               : 2799   Mean   : 189664  \n",
       " 3rd Qu.:48.00   State-gov       : 1981   3rd Qu.: 237642  \n",
       " Max.   :90.00   Self-emp-inc    : 1695   Max.   :1490400  \n",
       "                 (Other)         : 1463                    \n",
       "        education     educational.num               marital.status \n",
       " HS-grad     :15784   Min.   : 1.00   Divorced             : 6633  \n",
       " Some-college:10878   1st Qu.: 9.00   Married-AF-spouse    :   37  \n",
       " Bachelors   : 8025   Median :10.00   Married-civ-spouse   :22379  \n",
       " Masters     : 2657   Mean   :10.08   Married-spouse-absent:  628  \n",
       " Assoc-voc   : 2061   3rd Qu.:12.00   Never-married        :16117  \n",
       " 11th        : 1812   Max.   :16.00   Separated            : 1530  \n",
       " (Other)     : 7625                   Widowed              : 1518  \n",
       "           occupation            relationship                   race      \n",
       " Prof-specialty : 6172   Husband       :19716   Amer-Indian-Eskimo:  470  \n",
       " Craft-repair   : 6112   Not-in-family :12583   Asian-Pac-Islander: 1519  \n",
       " Exec-managerial: 6086   Other-relative: 1506   Black             : 4685  \n",
       " Adm-clerical   : 5611   Own-child     : 7581   Other             :  406  \n",
       " Sales          : 5504   Unmarried     : 5125   White             :41762  \n",
       " Other-service  : 4923   Wife          : 2331                             \n",
       " (Other)        :14434                                                    \n",
       "    gender       capital.gain    capital.loss    hours.per.week \n",
       " Female:16192   Min.   :    0   Min.   :   0.0   Min.   : 1.00  \n",
       " Male  :32650   1st Qu.:    0   1st Qu.:   0.0   1st Qu.:40.00  \n",
       "                Median :    0   Median :   0.0   Median :40.00  \n",
       "                Mean   : 1079   Mean   :  87.5   Mean   :40.42  \n",
       "                3rd Qu.:    0   3rd Qu.:   0.0   3rd Qu.:45.00  \n",
       "                Max.   :99999   Max.   :4356.0   Max.   :99.00  \n",
       "                                                                \n",
       "       native.country    income     \n",
       " United-States:43832   <=50K:37155  \n",
       " Mexico       :  951   >50K :11687  \n",
       " ?            :  857                \n",
       " Philippines  :  295                \n",
       " Germany      :  206                \n",
       " Puerto-Rico  :  184                \n",
       " (Other)      : 2517                "
      ]
     },
     "metadata": {},
     "output_type": "display_data"
    }
   ],
   "source": [
    "# summary of dataset\n",
    "summary(adult)"
   ]
  },
  {
   "cell_type": "code",
   "execution_count": 13,
   "metadata": {
    "scrolled": true
   },
   "outputs": [
    {
     "data": {
      "text/html": [
       "<dl class=dl-horizontal>\n",
       "\t<dt>age</dt>\n",
       "\t\t<dd>0</dd>\n",
       "\t<dt>workclass</dt>\n",
       "\t\t<dd>2799</dd>\n",
       "\t<dt>fnlwgt</dt>\n",
       "\t\t<dd>0</dd>\n",
       "\t<dt>education</dt>\n",
       "\t\t<dd>0</dd>\n",
       "\t<dt>educational.num</dt>\n",
       "\t\t<dd>0</dd>\n",
       "\t<dt>marital.status</dt>\n",
       "\t\t<dd>0</dd>\n",
       "\t<dt>occupation</dt>\n",
       "\t\t<dd>2809</dd>\n",
       "\t<dt>relationship</dt>\n",
       "\t\t<dd>0</dd>\n",
       "\t<dt>race</dt>\n",
       "\t\t<dd>0</dd>\n",
       "\t<dt>gender</dt>\n",
       "\t\t<dd>0</dd>\n",
       "\t<dt>capital.gain</dt>\n",
       "\t\t<dd>0</dd>\n",
       "\t<dt>capital.loss</dt>\n",
       "\t\t<dd>0</dd>\n",
       "\t<dt>hours.per.week</dt>\n",
       "\t\t<dd>0</dd>\n",
       "\t<dt>native.country</dt>\n",
       "\t\t<dd>857</dd>\n",
       "\t<dt>income</dt>\n",
       "\t\t<dd>0</dd>\n",
       "</dl>\n"
      ],
      "text/latex": [
       "\\begin{description*}\n",
       "\\item[age] 0\n",
       "\\item[workclass] 2799\n",
       "\\item[fnlwgt] 0\n",
       "\\item[education] 0\n",
       "\\item[educational.num] 0\n",
       "\\item[marital.status] 0\n",
       "\\item[occupation] 2809\n",
       "\\item[relationship] 0\n",
       "\\item[race] 0\n",
       "\\item[gender] 0\n",
       "\\item[capital.gain] 0\n",
       "\\item[capital.loss] 0\n",
       "\\item[hours.per.week] 0\n",
       "\\item[native.country] 857\n",
       "\\item[income] 0\n",
       "\\end{description*}\n"
      ],
      "text/markdown": [
       "age\n",
       ":   0workclass\n",
       ":   2799fnlwgt\n",
       ":   0education\n",
       ":   0educational.num\n",
       ":   0marital.status\n",
       ":   0occupation\n",
       ":   2809relationship\n",
       ":   0race\n",
       ":   0gender\n",
       ":   0capital.gain\n",
       ":   0capital.loss\n",
       ":   0hours.per.week\n",
       ":   0native.country\n",
       ":   857income\n",
       ":   0\n",
       "\n"
      ],
      "text/plain": [
       "            age       workclass          fnlwgt       education educational.num \n",
       "              0            2799               0               0               0 \n",
       " marital.status      occupation    relationship            race          gender \n",
       "              0            2809               0               0               0 \n",
       "   capital.gain    capital.loss  hours.per.week  native.country          income \n",
       "              0               0               0             857               0 "
      ]
     },
     "metadata": {},
     "output_type": "display_data"
    }
   ],
   "source": [
    "adult[adult == \"?\"] <- NA # replacing the '?' with NA\n",
    "colSums(is.na(adult)) # calculating the total count of the NA(null) values"
   ]
  },
  {
   "cell_type": "code",
   "execution_count": 14,
   "metadata": {
    "scrolled": true
   },
   "outputs": [
    {
     "data": {
      "text/html": [
       "<ol class=list-inline>\n",
       "\t<li>48842</li>\n",
       "\t<li>15</li>\n",
       "</ol>\n"
      ],
      "text/latex": [
       "\\begin{enumerate*}\n",
       "\\item 48842\n",
       "\\item 15\n",
       "\\end{enumerate*}\n"
      ],
      "text/markdown": [
       "1. 48842\n",
       "2. 15\n",
       "\n",
       "\n"
      ],
      "text/plain": [
       "[1] 48842    15"
      ]
     },
     "metadata": {},
     "output_type": "display_data"
    }
   ],
   "source": [
    "# dimension for the adult dataset before removing null values\n",
    "dim(adult) "
   ]
  },
  {
   "cell_type": "code",
   "execution_count": 15,
   "metadata": {
    "scrolled": false
   },
   "outputs": [
    {
     "data": {
      "image/png": "[encoded data removed]",
      "text/plain": [
       "Plot with title \"Missingness Map\""
      ]
     },
     "metadata": {},
     "output_type": "display_data"
    }
   ],
   "source": [
    "missmap(adult, y.at = 1, y.labels = \"\", col = c(\"yellow\", \"black\"), legend = FALSE)\n",
    "# missing values are found at occupation,workclass,native.country"
   ]
  },
  {
   "cell_type": "code",
   "execution_count": 16,
   "metadata": {
    "scrolled": true
   },
   "outputs": [],
   "source": [
    "# removing null values\n",
    "adult <- na.omit(adult)"
   ]
  },
  {
   "cell_type": "code",
   "execution_count": 17,
   "metadata": {
    "scrolled": true
   },
   "outputs": [
    {
     "data": {
      "text/html": [
       "<ol class=list-inline>\n",
       "\t<li>45222</li>\n",
       "\t<li>15</li>\n",
       "</ol>\n"
      ],
      "text/latex": [
       "\\begin{enumerate*}\n",
       "\\item 45222\n",
       "\\item 15\n",
       "\\end{enumerate*}\n"
      ],
      "text/markdown": [
       "1. 45222\n",
       "2. 15\n",
       "\n",
       "\n"
      ],
      "text/plain": [
       "[1] 45222    15"
      ]
     },
     "metadata": {},
     "output_type": "display_data"
    }
   ],
   "source": [
    "# dimension after removing the null values\n",
    "dim(adult)\n",
    "# removed 3620 null values"
   ]
  },
  {
   "cell_type": "code",
   "execution_count": 18,
   "metadata": {
    "scrolled": false
   },
   "outputs": [
    {
     "data": {
      "image/png": "[encoded data removed]",
      "text/plain": [
       "Plot with title \"Missingness Map\""
      ]
     },
     "metadata": {},
     "output_type": "display_data"
    }
   ],
   "source": [
    "missmap(adult, y.at = 1, y.labels = \"\", col = c(\"yellow\", \"black\"), legend = FALSE)\n",
    "# No missing values found."
   ]
  },
  {
   "cell_type": "markdown",
   "metadata": {},
   "source": [
    "#  \n",
    "#   \n",
    "#   "
   ]
  },
  {
   "cell_type": "markdown",
   "metadata": {},
   "source": [
    "### Visualization"
   ]
  },
  {
   "cell_type": "markdown",
   "metadata": {},
   "source": [
    "### PLOT1"
   ]
  },
  {
   "cell_type": "code",
   "execution_count": 19,
   "metadata": {
    "scrolled": false
   },
   "outputs": [
    {
     "data": {
      "image/png": "[encoded data removed]",
      "text/plain": [
       "plot without title"
      ]
     },
     "metadata": {},
     "output_type": "display_data"
    }
   ],
   "source": [
    "# The Bar plot shows the no of people and their race in a specific workclass\n",
    "adult %>% ggplot(aes(workclass)) + \n",
    "  geom_bar(aes(fill = race), colour = 'black')+\n",
    "  geom_text(aes(label=..count..),stat='count',vjust=-0.2)+\n",
    "theme(axis.text=element_text(angle = 45,hjust = 1))"
   ]
  },
  {
   "cell_type": "markdown",
   "metadata": {},
   "source": [
    "#  \n",
    "#  "
   ]
  },
  {
   "cell_type": "markdown",
   "metadata": {},
   "source": [
    "### PLOT2 "
   ]
  },
  {
   "cell_type": "code",
   "execution_count": 20,
   "metadata": {
    "scrolled": false
   },
   "outputs": [
    {
     "name": "stderr",
     "output_type": "stream",
     "text": [
      "`stat_bin()` using `bins = 30`. Pick better value with `binwidth`.\n"
     ]
    },
    {
     "data": {
      "image/png": "[encoded data removed]",
      "text/plain": [
       "plot without title"
      ]
     },
     "metadata": {},
     "output_type": "display_data"
    }
   ],
   "source": [
    "# The Histogram plot shows that only half or less than half \n",
    "# number of people earn >50K in each age group \n",
    "ggplot(adult,aes(age)) + \n",
    "  geom_histogram(aes(fill = income), colour = 'black')+theme_classic()"
   ]
  },
  {
   "cell_type": "markdown",
   "metadata": {},
   "source": [
    "### PLOT3"
   ]
  },
  {
   "cell_type": "code",
   "execution_count": 21,
   "metadata": {
    "scrolled": false
   },
   "outputs": [
    {
     "name": "stderr",
     "output_type": "stream",
     "text": [
      "Loading required package: RColorBrewer\n"
     ]
    },
    {
     "data": {
      "image/png": "[encoded data removed]",
      "text/plain": [
       "Plot with title \"% of realationship type\""
      ]
     },
     "metadata": {},
     "output_type": "display_data"
    }
   ],
   "source": [
    "# Pie plot shows the % of relationsip types in the dataset\n",
    "require(\"RColorBrewer\")\n",
    "M <- table(adult$relationship)\n",
    "percent<- round(100*M/sum(M), 1)\n",
    "pie(percent, labels = paste0(row.names(M),\" \",percent,\"%\") ,\n",
    "    main = '% of realationship type', cex = 0.8)\n"
   ]
  },
  {
   "cell_type": "markdown",
   "metadata": {},
   "source": [
    "### PLOT4"
   ]
  },
  {
   "cell_type": "code",
   "execution_count": 22,
   "metadata": {
    "scrolled": false
   },
   "outputs": [
    {
     "data": {
      "image/png": "[encoded data removed]",
      "text/plain": [
       "plot without title"
      ]
     },
     "metadata": {},
     "output_type": "display_data"
    }
   ],
   "source": [
    "# The violin plot shows the people working in each workclass \n",
    "# according to the age. in this number of older people in \n",
    "# without pay are more than younger people\n",
    "adult %>% ggplot(aes(workclass,age))+geom_violin(aes(fill=workclass))+\n",
    "    theme(axis.text=element_text(angle = 45,hjust = 1))"
   ]
  },
  {
   "cell_type": "markdown",
   "metadata": {},
   "source": [
    "### PLOT 5"
   ]
  },
  {
   "cell_type": "code",
   "execution_count": 23,
   "metadata": {
    "scrolled": false
   },
   "outputs": [
    {
     "name": "stderr",
     "output_type": "stream",
     "text": [
      "`stat_bin()` using `bins = 30`. Pick better value with `binwidth`.\n"
     ]
    },
    {
     "data": {
      "image/png": "[encoded data removed]",
      "text/plain": [
       "plot without title"
      ]
     },
     "metadata": {},
     "output_type": "display_data"
    }
   ],
   "source": [
    "# Frequency plot shows that atleast 20000 \n",
    "# people work between 30 to 40 hours per week.\n",
    "adult%>%ggplot(aes(hours.per.week))+geom_freqpoly(col = 'red')"
   ]
  },
  {
   "cell_type": "markdown",
   "metadata": {},
   "source": [
    "### PLOT 6"
   ]
  },
  {
   "cell_type": "code",
   "execution_count": 24,
   "metadata": {
    "scrolled": false
   },
   "outputs": [
    {
     "data": {
      "text/html": [
       "<ol class=list-inline>\n",
       "\t<li>Never-married</li>\n",
       "\t<li>Married-civ-spouse</li>\n",
       "\t<li>Widowed</li>\n",
       "\t<li>Separated</li>\n",
       "\t<li>Divorced</li>\n",
       "\t<li>Married-spouse-absent</li>\n",
       "\t<li>Married-AF-spouse</li>\n",
       "</ol>\n",
       "\n",
       "<details>\n",
       "\t<summary style=display:list-item;cursor:pointer>\n",
       "\t\t<strong>Levels</strong>:\n",
       "\t</summary>\n",
       "\t<ol class=list-inline>\n",
       "\t\t<li>'Divorced'</li>\n",
       "\t\t<li>'Married-AF-spouse'</li>\n",
       "\t\t<li>'Married-civ-spouse'</li>\n",
       "\t\t<li>'Married-spouse-absent'</li>\n",
       "\t\t<li>'Never-married'</li>\n",
       "\t\t<li>'Separated'</li>\n",
       "\t\t<li>'Widowed'</li>\n",
       "\t</ol>\n",
       "</details>"
      ],
      "text/latex": [
       "\\begin{enumerate*}\n",
       "\\item Never-married\n",
       "\\item Married-civ-spouse\n",
       "\\item Widowed\n",
       "\\item Separated\n",
       "\\item Divorced\n",
       "\\item Married-spouse-absent\n",
       "\\item Married-AF-spouse\n",
       "\\end{enumerate*}\n",
       "\n",
       "\\emph{Levels}: \\begin{enumerate*}\n",
       "\\item 'Divorced'\n",
       "\\item 'Married-AF-spouse'\n",
       "\\item 'Married-civ-spouse'\n",
       "\\item 'Married-spouse-absent'\n",
       "\\item 'Never-married'\n",
       "\\item 'Separated'\n",
       "\\item 'Widowed'\n",
       "\\end{enumerate*}\n"
      ],
      "text/markdown": [
       "1. Never-married\n",
       "2. Married-civ-spouse\n",
       "3. Widowed\n",
       "4. Separated\n",
       "5. Divorced\n",
       "6. Married-spouse-absent\n",
       "7. Married-AF-spouse\n",
       "\n",
       "\n",
       "\n",
       "**Levels**: 1. 'Divorced'\n",
       "2. 'Married-AF-spouse'\n",
       "3. 'Married-civ-spouse'\n",
       "4. 'Married-spouse-absent'\n",
       "5. 'Never-married'\n",
       "6. 'Separated'\n",
       "7. 'Widowed'\n",
       "\n",
       "\n"
      ],
      "text/plain": [
       "[1] Never-married         Married-civ-spouse    Widowed              \n",
       "[4] Separated             Divorced              Married-spouse-absent\n",
       "[7] Married-AF-spouse    \n",
       "7 Levels: Divorced Married-AF-spouse ... Widowed"
      ]
     },
     "metadata": {},
     "output_type": "display_data"
    },
    {
     "data": {
      "image/png": "[encoded data removed]",
      "text/plain": [
       "Plot with title \"\""
      ]
     },
     "metadata": {},
     "output_type": "display_data"
    }
   ],
   "source": [
    "# Spineplot is the comparison between marital status and income. \n",
    "# Married-civ people columns shows the highest \n",
    "# number of values and only column with more >50K value\n",
    "spineplot(as.factor(adult$marital.status),as.factor(adult$income)\n",
    "          ,xlab=\"marital status\",ylab = \"income\")\n",
    "unique(adult$marital.status)\n"
   ]
  },
  {
   "cell_type": "markdown",
   "metadata": {},
   "source": [
    "### Logistic Regression Model"
   ]
  },
  {
   "cell_type": "code",
   "execution_count": 25,
   "metadata": {
    "scrolled": true
   },
   "outputs": [],
   "source": [
    "# Splitting the data in train and test with 70 and 30 ratio\n",
    "set.seed(10)\n",
    "split <- sample.split(adult$income, SplitRatio = 0.7)\n",
    "train <- subset(adult, split == TRUE)\n",
    "test <- subset(adult, split == FALSE)"
   ]
  },
  {
   "cell_type": "code",
   "execution_count": 26,
   "metadata": {
    "scrolled": true
   },
   "outputs": [
    {
     "data": {
      "text/html": [
       "<ol class=list-inline>\n",
       "\t<li>31656</li>\n",
       "\t<li>15</li>\n",
       "</ol>\n"
      ],
      "text/latex": [
       "\\begin{enumerate*}\n",
       "\\item 31656\n",
       "\\item 15\n",
       "\\end{enumerate*}\n"
      ],
      "text/markdown": [
       "1. 31656\n",
       "2. 15\n",
       "\n",
       "\n"
      ],
      "text/plain": [
       "[1] 31656    15"
      ]
     },
     "metadata": {},
     "output_type": "display_data"
    }
   ],
   "source": [
    "# dimension of training data\n",
    "dim(train)"
   ]
  },
  {
   "cell_type": "code",
   "execution_count": 27,
   "metadata": {
    "scrolled": true
   },
   "outputs": [
    {
     "name": "stderr",
     "output_type": "stream",
     "text": [
      "Warning message:\n",
      "\"glm.fit: fitted probabilities numerically 0 or 1 occurred\""
     ]
    }
   ],
   "source": [
    "# fitting the model for training data using glm function\n",
    "log.model <- glm(income ~ ., family = binomial, train)"
   ]
  },
  {
   "cell_type": "code",
   "execution_count": 28,
   "metadata": {
    "scrolled": true
   },
   "outputs": [
    {
     "data": {
      "text/plain": [
       "\n",
       "Call:\n",
       "glm(formula = income ~ ., family = binomial, data = train)\n",
       "\n",
       "Deviance Residuals: \n",
       "    Min       1Q   Median       3Q      Max  \n",
       "-4.9033  -0.5104  -0.1923  -0.0174   3.4058  \n",
       "\n",
       "Coefficients: (1 not defined because of singularities)\n",
       "                                           Estimate Std. Error z value Pr(>|z|)\n",
       "(Intercept)                              -7.532e+00  7.810e-01  -9.645  < 2e-16\n",
       "age                                       2.487e-02  1.672e-03  14.878  < 2e-16\n",
       "workclassLocal-gov                       -5.317e-01  1.103e-01  -4.821 1.43e-06\n",
       "workclassPrivate                         -4.092e-01  9.199e-02  -4.448 8.65e-06\n",
       "workclassSelf-emp-inc                    -3.162e-01  1.202e-01  -2.631 0.008506\n",
       "workclassSelf-emp-not-inc                -9.680e-01  1.080e-01  -8.966  < 2e-16\n",
       "workclassState-gov                       -8.304e-01  1.226e-01  -6.774 1.25e-11\n",
       "workclassWithout-pay                     -1.021e+00  8.122e-01  -1.257 0.208625\n",
       "fnlwgt                                    8.429e-07  1.715e-07   4.916 8.81e-07\n",
       "education11th                             1.706e-01  2.168e-01   0.787 0.431353\n",
       "education12th                             6.477e-01  2.645e-01   2.448 0.014347\n",
       "education1st-4th                         -1.552e-01  4.647e-01  -0.334 0.738367\n",
       "education5th-6th                         -3.394e-02  3.459e-01  -0.098 0.921837\n",
       "education7th-8th                         -3.981e-01  2.418e-01  -1.647 0.099643\n",
       "education9th                             -7.475e-02  2.640e-01  -0.283 0.777093\n",
       "educationAssoc-acdm                       1.447e+00  1.832e-01   7.898 2.84e-15\n",
       "educationAssoc-voc                        1.497e+00  1.762e-01   8.495  < 2e-16\n",
       "educationBachelors                        2.094e+00  1.649e-01  12.700  < 2e-16\n",
       "educationDoctorate                        3.026e+00  2.242e-01  13.498  < 2e-16\n",
       "educationHS-grad                          9.708e-01  1.607e-01   6.041 1.53e-09\n",
       "educationMasters                          2.402e+00  1.751e-01  13.720  < 2e-16\n",
       "educationPreschool                       -4.732e+00  3.416e+00  -1.385 0.165992\n",
       "educationProf-school                      2.927e+00  2.104e-01  13.911  < 2e-16\n",
       "educationSome-college                     1.317e+00  1.630e-01   8.081 6.43e-16\n",
       "educational.num                                  NA         NA      NA       NA\n",
       "marital.statusMarried-AF-spouse           2.429e+00  6.313e-01   3.847 0.000119\n",
       "marital.statusMarried-civ-spouse          2.526e+00  2.705e-01   9.339  < 2e-16\n",
       "marital.statusMarried-spouse-absent       1.784e-01  2.207e-01   0.809 0.418780\n",
       "marital.statusNever-married              -4.504e-01  8.764e-02  -5.139 2.76e-07\n",
       "marital.statusSeparated                   1.204e-01  1.549e-01   0.777 0.436899\n",
       "marital.statusWidowed                     1.149e-01  1.562e-01   0.736 0.462031\n",
       "occupationArmed-Forces                    5.920e-01  9.875e-01   0.599 0.548857\n",
       "occupationCraft-repair                    3.397e-02  7.829e-02   0.434 0.664387\n",
       "occupationExec-managerial                 7.593e-01  7.547e-02  10.060  < 2e-16\n",
       "occupationFarming-fishing                -9.392e-01  1.374e-01  -6.838 8.03e-12\n",
       "occupationHandlers-cleaners              -7.349e-01  1.385e-01  -5.307 1.11e-07\n",
       "occupationMachine-op-inspct              -2.991e-01  1.002e-01  -2.985 0.002835\n",
       "occupationOther-service                  -1.056e+00  1.237e-01  -8.539  < 2e-16\n",
       "occupationPriv-house-serv                -1.931e+00  9.862e-01  -1.958 0.050218\n",
       "occupationProf-specialty                  5.909e-01  7.964e-02   7.419 1.18e-13\n",
       "occupationProtective-serv                 5.775e-01  1.231e-01   4.692 2.71e-06\n",
       "occupationSales                           2.787e-01  8.031e-02   3.470 0.000520\n",
       "occupationTech-support                    5.778e-01  1.068e-01   5.409 6.35e-08\n",
       "occupationTransport-moving               -8.899e-02  9.688e-02  -0.919 0.358327\n",
       "relationshipNot-in-family                 7.433e-01  2.671e-01   2.783 0.005391\n",
       "relationshipOther-relative               -3.682e-01  2.386e-01  -1.543 0.122737\n",
       "relationshipOwn-child                    -2.343e-01  2.629e-01  -0.891 0.372810\n",
       "relationshipUnmarried                     5.316e-01  2.833e-01   1.877 0.060569\n",
       "relationshipWife                          1.129e+00  1.026e-01  11.003  < 2e-16\n",
       "raceAsian-Pac-Islander                    9.006e-01  2.750e-01   3.275 0.001058\n",
       "raceBlack                                 3.525e-01  2.299e-01   1.534 0.125117\n",
       "raceOther                                 4.926e-01  3.251e-01   1.515 0.129723\n",
       "raceWhite                                 4.920e-01  2.177e-01   2.260 0.023830\n",
       "genderMale                                6.978e-01  7.810e-02   8.934  < 2e-16\n",
       "capital.gain                              3.113e-04  1.026e-05  30.334  < 2e-16\n",
       "capital.loss                              6.325e-04  3.770e-05  16.777  < 2e-16\n",
       "hours.per.week                            2.890e-02  1.643e-03  17.588  < 2e-16\n",
       "native.countryCanada                      1.033e-01  7.088e-01   0.146 0.884132\n",
       "native.countryChina                      -1.465e+00  7.197e-01  -2.035 0.041840\n",
       "native.countryColumbia                   -2.810e+00  1.079e+00  -2.603 0.009238\n",
       "native.countryCuba                       -5.363e-01  7.378e-01  -0.727 0.467265\n",
       "native.countryDominican-Republic         -1.029e+00  9.054e-01  -1.137 0.255643\n",
       "native.countryEcuador                    -4.408e-01  8.814e-01  -0.500 0.616982\n",
       "native.countryEl-Salvador                -1.016e+00  7.982e-01  -1.273 0.203036\n",
       "native.countryEngland                     5.664e-01  7.331e-01   0.773 0.439712\n",
       "native.countryFrance                     -1.696e-01  8.432e-01  -0.201 0.840558\n",
       "native.countryGermany                    -2.124e-01  7.006e-01  -0.303 0.761724\n",
       "native.countryGreece                     -6.475e-01  7.819e-01  -0.828 0.407577\n",
       "native.countryGuatemala                  -1.499e+00  1.234e+00  -1.215 0.224250\n",
       "native.countryHaiti                      -1.119e-01  8.506e-01  -0.132 0.895292\n",
       "native.countryHoland-Netherlands         -9.686e+00  5.354e+02  -0.018 0.985567\n",
       "native.countryHonduras                    1.667e-02  1.368e+00   0.012 0.990272\n",
       "native.countryHong                       -1.030e+00  9.654e-01  -1.067 0.285918\n",
       "native.countryHungary                     2.142e-01  8.854e-01   0.242 0.808853\n",
       "native.countryIndia                      -6.210e-01  6.909e-01  -0.899 0.368744\n",
       "native.countryIran                       -4.050e-01  7.893e-01  -0.513 0.607913\n",
       "native.countryIreland                     3.297e-01  9.075e-01   0.363 0.716360\n",
       "native.countryItaly                       2.786e-01  7.173e-01   0.388 0.697714\n",
       "native.countryJamaica                     2.049e-01  7.803e-01   0.263 0.792865\n",
       "native.countryJapan                      -4.581e-01  7.476e-01  -0.613 0.540011\n",
       "native.countryLaos                       -1.755e+00  1.089e+00  -1.611 0.107143\n",
       "native.countryMexico                     -1.074e+00  6.871e-01  -1.564 0.117889\n",
       "native.countryNicaragua                  -5.893e-01  9.434e-01  -0.625 0.532195\n",
       "native.countryOutlying-US(Guam-USVI-etc) -1.112e+01  1.267e+02  -0.088 0.930088\n",
       "native.countryPeru                       -1.003e+00  9.624e-01  -1.042 0.297419\n",
       "native.countryPhilippines                -3.547e-01  6.713e-01  -0.528 0.597182\n",
       "native.countryPoland                      2.025e-01  7.394e-01   0.274 0.784155\n",
       "native.countryPortugal                    4.427e-01  7.702e-01   0.575 0.565458\n",
       "native.countryPuerto-Rico                -4.178e-01  7.388e-01  -0.565 0.571734\n",
       "native.countryScotland                   -1.350e+00  1.068e+00  -1.264 0.206295\n",
       "native.countrySouth                      -1.894e+00  7.969e-01  -2.377 0.017437\n",
       "native.countryTaiwan                     -9.752e-01  7.735e-01  -1.261 0.207407\n",
       "native.countryThailand                   -1.305e+00  1.100e+00  -1.186 0.235527\n",
       "native.countryTrinadad&Tobago            -9.776e-01  1.086e+00  -0.900 0.368221\n",
       "native.countryUnited-States              -2.006e-01  6.540e-01  -0.307 0.759024\n",
       "native.countryVietnam                    -1.721e+00  8.587e-01  -2.004 0.045076\n",
       "native.countryYugoslavia                  6.524e-01  9.342e-01   0.698 0.484953\n",
       "                                            \n",
       "(Intercept)                              ***\n",
       "age                                      ***\n",
       "workclassLocal-gov                       ***\n",
       "workclassPrivate                         ***\n",
       "workclassSelf-emp-inc                    ** \n",
       "workclassSelf-emp-not-inc                ***\n",
       "workclassState-gov                       ***\n",
       "workclassWithout-pay                        \n",
       "fnlwgt                                   ***\n",
       "education11th                               \n",
       "education12th                            *  \n",
       "education1st-4th                            \n",
       "education5th-6th                            \n",
       "education7th-8th                         .  \n",
       "education9th                                \n",
       "educationAssoc-acdm                      ***\n",
       "educationAssoc-voc                       ***\n",
       "educationBachelors                       ***\n",
       "educationDoctorate                       ***\n",
       "educationHS-grad                         ***\n",
       "educationMasters                         ***\n",
       "educationPreschool                          \n",
       "educationProf-school                     ***\n",
       "educationSome-college                    ***\n",
       "educational.num                             \n",
       "marital.statusMarried-AF-spouse          ***\n",
       "marital.statusMarried-civ-spouse         ***\n",
       "marital.statusMarried-spouse-absent         \n",
       "marital.statusNever-married              ***\n",
       "marital.statusSeparated                     \n",
       "marital.statusWidowed                       \n",
       "occupationArmed-Forces                      \n",
       "occupationCraft-repair                      \n",
       "occupationExec-managerial                ***\n",
       "occupationFarming-fishing                ***\n",
       "occupationHandlers-cleaners              ***\n",
       "occupationMachine-op-inspct              ** \n",
       "occupationOther-service                  ***\n",
       "occupationPriv-house-serv                .  \n",
       "occupationProf-specialty                 ***\n",
       "occupationProtective-serv                ***\n",
       "occupationSales                          ***\n",
       "occupationTech-support                   ***\n",
       "occupationTransport-moving                  \n",
       "relationshipNot-in-family                ** \n",
       "relationshipOther-relative                  \n",
       "relationshipOwn-child                       \n",
       "relationshipUnmarried                    .  \n",
       "relationshipWife                         ***\n",
       "raceAsian-Pac-Islander                   ** \n",
       "raceBlack                                   \n",
       "raceOther                                   \n",
       "raceWhite                                *  \n",
       "genderMale                               ***\n",
       "capital.gain                             ***\n",
       "capital.loss                             ***\n",
       "hours.per.week                           ***\n",
       "native.countryCanada                        \n",
       "native.countryChina                      *  \n",
       "native.countryColumbia                   ** \n",
       "native.countryCuba                          \n",
       "native.countryDominican-Republic            \n",
       "native.countryEcuador                       \n",
       "native.countryEl-Salvador                   \n",
       "native.countryEngland                       \n",
       "native.countryFrance                        \n",
       "native.countryGermany                       \n",
       "native.countryGreece                        \n",
       "native.countryGuatemala                     \n",
       "native.countryHaiti                         \n",
       "native.countryHoland-Netherlands            \n",
       "native.countryHonduras                      \n",
       "native.countryHong                          \n",
       "native.countryHungary                       \n",
       "native.countryIndia                         \n",
       "native.countryIran                          \n",
       "native.countryIreland                       \n",
       "native.countryItaly                         \n",
       "native.countryJamaica                       \n",
       "native.countryJapan                         \n",
       "native.countryLaos                          \n",
       "native.countryMexico                        \n",
       "native.countryNicaragua                     \n",
       "native.countryOutlying-US(Guam-USVI-etc)    \n",
       "native.countryPeru                          \n",
       "native.countryPhilippines                   \n",
       "native.countryPoland                        \n",
       "native.countryPortugal                      \n",
       "native.countryPuerto-Rico                   \n",
       "native.countryScotland                      \n",
       "native.countrySouth                      *  \n",
       "native.countryTaiwan                        \n",
       "native.countryThailand                      \n",
       "native.countryTrinadad&Tobago               \n",
       "native.countryUnited-States                 \n",
       "native.countryVietnam                    *  \n",
       "native.countryYugoslavia                    \n",
       "---\n",
       "Signif. codes:  0 '***' 0.001 '**' 0.01 '*' 0.05 '.' 0.1 ' ' 1\n",
       "\n",
       "(Dispersion parameter for binomial family taken to be 1)\n",
       "\n",
       "    Null deviance: 35452  on 31655  degrees of freedom\n",
       "Residual deviance: 20493  on 31560  degrees of freedom\n",
       "AIC: 20685\n",
       "\n",
       "Number of Fisher Scoring iterations: 12\n"
      ]
     },
     "metadata": {},
     "output_type": "display_data"
    }
   ],
   "source": [
    "# summary for trained model\n",
    "summary(log.model)"
   ]
  },
  {
   "cell_type": "code",
   "execution_count": 29,
   "metadata": {
    "scrolled": true
   },
   "outputs": [
    {
     "name": "stderr",
     "output_type": "stream",
     "text": [
      "Warning message in predict.lm(object, newdata, se.fit, scale = 1, type = if (type == :\n",
      "\"prediction from a rank-deficient fit may be misleading\""
     ]
    },
    {
     "data": {
      "text/html": [
       "<dl class=dl-horizontal>\n",
       "\t<dt>3</dt>\n",
       "\t\t<dd>0.404259130905414</dd>\n",
       "\t<dt>26</dt>\n",
       "\t\t<dd>0.915089938890167</dd>\n",
       "\t<dt>34</dt>\n",
       "\t\t<dd>0.32997571032398</dd>\n",
       "\t<dt>35</dt>\n",
       "\t\t<dd>0.0279396389954886</dd>\n",
       "\t<dt>39</dt>\n",
       "\t\t<dd>0.00575001648033217</dd>\n",
       "\t<dt>42</dt>\n",
       "\t\t<dd>0.484758609197935</dd>\n",
       "</dl>\n"
      ],
      "text/latex": [
       "\\begin{description*}\n",
       "\\item[3] 0.404259130905414\n",
       "\\item[26] 0.915089938890167\n",
       "\\item[34] 0.32997571032398\n",
       "\\item[35] 0.0279396389954886\n",
       "\\item[39] 0.00575001648033217\n",
       "\\item[42] 0.484758609197935\n",
       "\\end{description*}\n"
      ],
      "text/markdown": [
       "3\n",
       ":   0.40425913090541426\n",
       ":   0.91508993889016734\n",
       ":   0.3299757103239835\n",
       ":   0.027939638995488639\n",
       ":   0.0057500164803321742\n",
       ":   0.484758609197935\n",
       "\n"
      ],
      "text/plain": [
       "          3          26          34          35          39          42 \n",
       "0.404259131 0.915089939 0.329975710 0.027939639 0.005750016 0.484758609 "
      ]
     },
     "metadata": {},
     "output_type": "display_data"
    }
   ],
   "source": [
    "# predicting the the model using test data and type as response\n",
    "prediction <- predict(log.model,test, type = \"response\")\n",
    "head(prediction)"
   ]
  },
  {
   "cell_type": "code",
   "execution_count": 30,
   "metadata": {
    "scrolled": true
   },
   "outputs": [
    {
     "data": {
      "text/html": [
       "<ol class=list-inline>\n",
       "\t<li>13566</li>\n",
       "\t<li>15</li>\n",
       "</ol>\n"
      ],
      "text/latex": [
       "\\begin{enumerate*}\n",
       "\\item 13566\n",
       "\\item 15\n",
       "\\end{enumerate*}\n"
      ],
      "text/markdown": [
       "1. 13566\n",
       "2. 15\n",
       "\n",
       "\n"
      ],
      "text/plain": [
       "[1] 13566    15"
      ]
     },
     "metadata": {},
     "output_type": "display_data"
    },
    {
     "data": {
      "text/plain": [
       "       \n",
       "        FALSE TRUE\n",
       "  <=50K  9474  730\n",
       "  >50K   1296 2066"
      ]
     },
     "metadata": {},
     "output_type": "display_data"
    }
   ],
   "source": [
    "# dimension for test data and confusion matrix of the model\n",
    "dim(test)\n",
    "acc<-table(test$income, prediction >= 0.5)\n",
    "acc"
   ]
  },
  {
   "cell_type": "code",
   "execution_count": 31,
   "metadata": {
    "scrolled": true
   },
   "outputs": [
    {
     "data": {
      "text/html": [
       "0.850656051894442"
      ],
      "text/latex": [
       "0.850656051894442"
      ],
      "text/markdown": [
       "0.850656051894442"
      ],
      "text/plain": [
       "[1] 0.8506561"
      ]
     },
     "metadata": {},
     "output_type": "display_data"
    }
   ],
   "source": [
    "# accuracy of the model\n",
    "# accuracy is 85%\n",
    "(acc[1]+acc[4])/(acc[1]+acc[2]+acc[3]+acc[4])"
   ]
  },
  {
   "cell_type": "code",
   "execution_count": 32,
   "metadata": {
    "scrolled": true
   },
   "outputs": [
    {
     "data": {
      "text/html": [
       "<dl class=dl-horizontal>\n",
       "\t<dt>3</dt>\n",
       "\t\t<dd>'&lt;=50K'</dd>\n",
       "\t<dt>26</dt>\n",
       "\t\t<dd>'&gt;50K'</dd>\n",
       "\t<dt>34</dt>\n",
       "\t\t<dd>'&lt;=50K'</dd>\n",
       "\t<dt>35</dt>\n",
       "\t\t<dd>'&lt;=50K'</dd>\n",
       "\t<dt>39</dt>\n",
       "\t\t<dd>'&lt;=50K'</dd>\n",
       "\t<dt>42</dt>\n",
       "\t\t<dd>'&lt;=50K'</dd>\n",
       "</dl>\n"
      ],
      "text/latex": [
       "\\begin{description*}\n",
       "\\item[3] '<=50K'\n",
       "\\item[26] '>50K'\n",
       "\\item[34] '<=50K'\n",
       "\\item[35] '<=50K'\n",
       "\\item[39] '<=50K'\n",
       "\\item[42] '<=50K'\n",
       "\\end{description*}\n"
      ],
      "text/markdown": [
       "3\n",
       ":   '&lt;=50K'26\n",
       ":   '&gt;50K'34\n",
       ":   '&lt;=50K'35\n",
       ":   '&lt;=50K'39\n",
       ":   '&lt;=50K'42\n",
       ":   '&lt;=50K'\n",
       "\n"
      ],
      "text/plain": [
       "      3      26      34      35      39      42 \n",
       "\"<=50K\"  \">50K\" \"<=50K\" \"<=50K\" \"<=50K\" \"<=50K\" "
      ]
     },
     "metadata": {},
     "output_type": "display_data"
    },
    {
     "data": {
      "text/html": [
       "<ol class=list-inline>\n",
       "\t<li>&gt;50K</li>\n",
       "\t<li>&gt;50K</li>\n",
       "\t<li>&lt;=50K</li>\n",
       "\t<li>&lt;=50K</li>\n",
       "\t<li>&lt;=50K</li>\n",
       "\t<li>&gt;50K</li>\n",
       "</ol>\n",
       "\n",
       "<details>\n",
       "\t<summary style=display:list-item;cursor:pointer>\n",
       "\t\t<strong>Levels</strong>:\n",
       "\t</summary>\n",
       "\t<ol class=list-inline>\n",
       "\t\t<li>'&lt;=50K'</li>\n",
       "\t\t<li>'&gt;50K'</li>\n",
       "\t</ol>\n",
       "</details>"
      ],
      "text/latex": [
       "\\begin{enumerate*}\n",
       "\\item >50K\n",
       "\\item >50K\n",
       "\\item <=50K\n",
       "\\item <=50K\n",
       "\\item <=50K\n",
       "\\item >50K\n",
       "\\end{enumerate*}\n",
       "\n",
       "\\emph{Levels}: \\begin{enumerate*}\n",
       "\\item '<=50K'\n",
       "\\item '>50K'\n",
       "\\end{enumerate*}\n"
      ],
      "text/markdown": [
       "1. &gt;50K\n",
       "2. &gt;50K\n",
       "3. &lt;=50K\n",
       "4. &lt;=50K\n",
       "5. &lt;=50K\n",
       "6. &gt;50K\n",
       "\n",
       "\n",
       "\n",
       "**Levels**: 1. '&lt;=50K'\n",
       "2. '&gt;50K'\n",
       "\n",
       "\n"
      ],
      "text/plain": [
       "[1] >50K  >50K  <=50K <=50K <=50K >50K \n",
       "Levels: <=50K >50K"
      ]
     },
     "metadata": {},
     "output_type": "display_data"
    }
   ],
   "source": [
    "# converting to the classes in the prediction outcome and\n",
    "# head of the predictions and income of test data after converting \n",
    "p_class<-ifelse(prediction>0.5,\">50K\",\"<=50K\")\n",
    "head(p_class)\n",
    "head(test$income)"
   ]
  },
  {
   "cell_type": "code",
   "execution_count": 33,
   "metadata": {
    "scrolled": false
   },
   "outputs": [
    {
     "data": {
      "text/plain": [
       "Confusion Matrix and Statistics\n",
       "\n",
       "          Reference\n",
       "Prediction <=50K >50K\n",
       "     <=50K  9474 1296\n",
       "     >50K    730 2066\n",
       "                                          \n",
       "               Accuracy : 0.8507          \n",
       "                 95% CI : (0.8445, 0.8566)\n",
       "    No Information Rate : 0.7522          \n",
       "    P-Value [Acc > NIR] : < 2.2e-16       \n",
       "                                          \n",
       "                  Kappa : 0.5755          \n",
       "                                          \n",
       " Mcnemar's Test P-Value : < 2.2e-16       \n",
       "                                          \n",
       "            Sensitivity : 0.9285          \n",
       "            Specificity : 0.6145          \n",
       "         Pos Pred Value : 0.8797          \n",
       "         Neg Pred Value : 0.7389          \n",
       "             Prevalence : 0.7522          \n",
       "         Detection Rate : 0.6984          \n",
       "   Detection Prevalence : 0.7939          \n",
       "      Balanced Accuracy : 0.7715          \n",
       "                                          \n",
       "       'Positive' Class : <=50K           \n",
       "                                          "
      ]
     },
     "metadata": {},
     "output_type": "display_data"
    }
   ],
   "source": [
    "# calculating accuracy of model using ConfusionMatrixFunction\n",
    "# which comes same as 85%\n",
    "confusionMatrix(as.factor(p_class), test$income)"
   ]
  }
 ],
 "metadata": {
  "kernelspec": {
   "display_name": "R",
   "language": "R",
   "name": "ir"
  },
  "language_info": {
   "codemirror_mode": "r",
   "file_extension": ".r",
   "mimetype": "text/x-r-source",
   "name": "R",
   "pygments_lexer": "r",
   "version": "3.6.1"
  },
  "toc": {
   "base_numbering": 1,
   "nav_menu": {},
   "number_sections": false,
   "sideBar": true,
   "skip_h1_title": false,
   "title_cell": "Table of Contents",
   "title_sidebar": "Contents",
   "toc_cell": false,
   "toc_position": {},
   "toc_section_display": true,
   "toc_window_display": false
  }
 },
 "nbformat": 4,
 "nbformat_minor": 2
}
